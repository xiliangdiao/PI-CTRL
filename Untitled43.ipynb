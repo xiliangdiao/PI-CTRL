{
 "cells": [
  {
   "cell_type": "code",
   "execution_count": 1,
   "metadata": {},
   "outputs": [
    {
     "name": "stderr",
     "output_type": "stream",
     "text": [
      "/scratch/user/xiliangdiao/.conda/envs/python3/lib/python3.6/site-packages/numpy/ma/core.py:1015: RuntimeWarning: overflow encountered in multiply\n",
      "  result = self.f(da, db, *args, **kwargs)\n"
     ]
    }
   ],
   "source": [
    "import netCDF4 as nc\n",
    "import matplotlib.pyplot as plt\n",
    "from matplotlib.colors import from_levels_and_colors\n",
    "import numpy as np\n",
    "from matplotlib import animation\n",
    "from matplotlib.colors import BoundaryNorm\n",
    "import matplotlib.colors as cols\n",
    "import matplotlib as mpl\n",
    "from mpl_toolkits.basemap import Basemap\n",
    "from matplotlib import ticker, cm\n",
    "import seaborn as sns\n",
    "\n",
    "## the length\n",
    "\n",
    "\n",
    "# each layer depth (m)\n",
    "data1=nc.Dataset('/ihesp/user/xiliangdiao/ihespdata/ocn300/B.E.13.B1850C5.ne120_t12.sehires38.003.sunway_02.pop.h.0330-12.dz.nc')\n",
    "lev1 = data1.variables['dz'][:]/100\n",
    "#########\n",
    "months = [f\"{x:02d}\" for x in range(1,13)]\n",
    "years = [f\"{x:04d}\" for x in range(330,336)]\n",
    "ii=0\n",
    "result = np.zeros(72)\n",
    "for yy in years:\n",
    "    for mm in months:\n",
    "        data=nc.Dataset('/scratch/user/xiliangdiao/firstpaper/UVEL_B.E.13.B1850C5.ne120_t12.sehires38.003.sunway_02.pop.h.'+yy+'-'+mm +'.nc')\n",
    "        plotvar = data.variables['UVEL'][0,:,:]\n",
    "        lont = data.variables['ULONG'][:516,430]\n",
    "        latt = data.variables['ULAT'][:516,430]\n",
    "##############################################\n",
    "        plotvar[plotvar == -0.009999999776482582]= np.nan\n",
    "        plotvar[plotvar == -1.0]= np.nan\n",
    "        where_are_nan = np.isnan(plotvar)\n",
    "        plotvar[where_are_nan] = 0\n",
    "        u = plotvar[:,:516,430]\n",
    "        u = u/100 # m/s\n",
    "        u[u<0]=0\n",
    "\n",
    "##############################################\n",
    "\n",
    "###################################\n",
    "        #####  volume transport\n",
    "        a = np.arange(0,515)\n",
    "        A1= np.zeros([62,516])\n",
    "        for j in a:\n",
    "            A1[:,j] = u[:,j] * lev1[:] * (latt[j+1]-latt[j])*110.95 * 1000\n",
    "#####unit (m^3/s)\n",
    "        A1[A1>100000000000000]=0\n",
    "        final = np.nansum(A1)\n",
    "        streamSV = final/1000000\n",
    "        result[ii] = streamSV\n",
    "        ii = ii + 1\n",
    "        np.savetxt('/scratch/user/xiliangdiao/firstpaper/ACCeast330-336.out',result)\n",
    "\n"
   ]
  }
 ],
 "metadata": {
  "kernelspec": {
   "display_name": "Python 3",
   "language": "python",
   "name": "python3"
  },
  "language_info": {
   "codemirror_mode": {
    "name": "ipython",
    "version": 3
   },
   "file_extension": ".py",
   "mimetype": "text/x-python",
   "name": "python",
   "nbconvert_exporter": "python",
   "pygments_lexer": "ipython3",
   "version": "3.6.6"
  }
 },
 "nbformat": 4,
 "nbformat_minor": 2
}
