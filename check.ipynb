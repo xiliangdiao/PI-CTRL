{
 "cells": [
  {
   "cell_type": "code",
   "execution_count": 1,
   "id": "d9a9536a",
   "metadata": {},
   "outputs": [],
   "source": [
    "import netCDF4 as nc\n",
    "import matplotlib.pyplot as plt\n",
    "from matplotlib.colors import from_levels_and_colors\n",
    "import numpy as np\n",
    "from matplotlib import animation\n",
    "from matplotlib.colors import BoundaryNorm\n",
    "import matplotlib.colors as cols\n",
    "import matplotlib as mpl\n",
    "from mpl_toolkits.basemap import Basemap\n",
    "from matplotlib import ticker, cm\n",
    "import seaborn as sns"
   ]
  },
  {
   "cell_type": "code",
   "execution_count": 7,
   "id": "6806108f",
   "metadata": {},
   "outputs": [],
   "source": [
    "#####new340-500.out\n",
    "\n",
    "years = [f\"{x:04d}\" for x in range(0,1955)]\n",
    "ii =0\n",
    "result = np.zeros(1955)\n",
    "\n",
    "for yy in years:\n",
    "    data1=nc.Dataset('/ihesp/user/xiliangdiao/data/ihespdata/air500/TAUX/CESM_TAU_'+yy+'_.nc')\n",
    "    TAUX1 = data1.variables['TAUX'][0,60:200,-200:]\n",
    "    TAUX2 = data1.variables['TAUX'][0,60:200,:120]\n",
    "    TAUX = np.hstack((TAUX1,TAUX2))\n",
    "    TT2 = np.mean(TAUX,axis=1)\n",
    "    LAT = data1.variables['lat'][60:200]\n",
    "    #result[ii] = LAT[np.where(TT2<0)[0][0]]\n",
    "    result[ii] = TT2[100] \n",
    "    ii = ii + 1"
   ]
  },
  {
   "cell_type": "code",
   "execution_count": 8,
   "id": "ebabea01",
   "metadata": {},
   "outputs": [],
   "source": [
    "# 20-330\n",
    "years = [f\"{x:04d}\" for x in range(0,3719)]\n",
    "ii =0\n",
    "result2 = np.zeros(3719)\n",
    "\n",
    "for yy in years:\n",
    "    data1=nc.Dataset('/ihesp/user/xiliangdiao/data/ihespdata/air500/TAUX300/CESM_TAU_'+yy+'_.nc')\n",
    "    TAUX1 = data1.variables['TAUX'][0,60:200,-200:]\n",
    "    TAUX2 = data1.variables['TAUX'][0,60:200,:120]\n",
    "    TAUX = np.hstack((TAUX1,TAUX2))\n",
    "    TT3 = np.mean(TAUX,axis=1)\n",
    "    LAT = data1.variables['lat'][60:200]\n",
    "    result2[ii] = TT3[100]\n",
    "    #result2[ii] = LAT[np.where(TT3[:,:] == np.nanmin(TT3[:,:]))[0][0]]\n",
    "    #result2[ii] = LAT[np.where(TT3[:] == np.nanmin(TT3[:]))]\n",
    "    ii = ii + 1"
   ]
  },
  {
   "cell_type": "code",
   "execution_count": 10,
   "id": "283acde9",
   "metadata": {},
   "outputs": [],
   "source": [
    "years = [f\"{x:04d}\" for x in range(0,96)]\n",
    "ii =0\n",
    "result5 = np.zeros(96)\n",
    "# here PSL is TAUX !!!!!!!\n",
    "for yy in years:\n",
    "    data1=nc.Dataset('/scratch/user/xiliangdiao/firstpaper/TAUX/CESM_PSL_'+yy+'_.nc')\n",
    "    TAUX1 = data1.variables['PSL'][0,60:200,-200:]\n",
    "    TAUX2 = data1.variables['PSL'][0,60:200,:120]\n",
    "    TAUX = np.hstack((TAUX1,TAUX2))\n",
    "    TT5 = np.mean(TAUX,axis=1)\n",
    "    LAT = data1.variables['lat'][60:200]\n",
    "    result5[ii] = TT5[100]\n",
    "    #result5[ii] = LAT[np.where(TAUX[:,:] == np.nanmin(TAUX[:,:]))[0][0]]\n",
    "    #result5[ii] = LAT[np.where(TT5[:] == np.nanmin(TT5[:]))]\n",
    "    ii = ii + 1"
   ]
  },
  {
   "cell_type": "code",
   "execution_count": 11,
   "id": "850dd7c6",
   "metadata": {},
   "outputs": [],
   "source": [
    "hh = np.hstack((result2,result5))\n",
    "hh2 = np.hstack((hh,result))"
   ]
  },
  {
   "cell_type": "code",
   "execution_count": 15,
   "id": "4c12dfb9",
   "metadata": {},
   "outputs": [
    {
     "data": {
      "text/plain": [
       "(5770,)"
      ]
     },
     "execution_count": 15,
     "metadata": {},
     "output_type": "execute_result"
    }
   ],
   "source": [
    "hh2.shape"
   ]
  },
  {
   "cell_type": "code",
   "execution_count": 13,
   "id": "a9cecac6",
   "metadata": {},
   "outputs": [],
   "source": [
    "ww222 = np.convolve(hh2, np.ones((60,))/60, mode='valid')\n",
    "mean = np.nanmean(ww222)"
   ]
  },
  {
   "cell_type": "code",
   "execution_count": 14,
   "id": "7bbd09ea",
   "metadata": {},
   "outputs": [
    {
     "data": {
      "text/plain": [
       "[<matplotlib.lines.Line2D at 0x7fe4258bda90>]"
      ]
     },
     "execution_count": 14,
     "metadata": {},
     "output_type": "execute_result"
    },
    {
     "data": {
      "image/png": "[encoded data removed]",
      "text/plain": [
       "<Figure size 432x288 with 1 Axes>"
      ]
     },
     "metadata": {
      "needs_background": "light"
     },
     "output_type": "display_data"
    }
   ],
   "source": [
    "plt.plot(ww222)"
   ]
  },
  {
   "cell_type": "code",
   "execution_count": null,
   "id": "f4c39d0a",
   "metadata": {},
   "outputs": [],
   "source": []
  },
  {
   "cell_type": "code",
   "execution_count": null,
   "id": "40cf81c0",
   "metadata": {},
   "outputs": [],
   "source": []
  },
  {
   "cell_type": "code",
   "execution_count": null,
   "id": "b0dece6c",
   "metadata": {},
   "outputs": [],
   "source": []
  },
  {
   "cell_type": "code",
   "execution_count": null,
   "id": "38a7da05",
   "metadata": {},
   "outputs": [],
   "source": []
  },
  {
   "cell_type": "code",
   "execution_count": 12,
   "id": "0eb6e73c",
   "metadata": {},
   "outputs": [],
   "source": [
    "data1=nc.Dataset('/ihesp/user/xiliangdiao/data/ihespdata/air500/TAUX/CESM_TAU_1924_.nc')"
   ]
  },
  {
   "cell_type": "code",
   "execution_count": 4,
   "id": "a3ab27f4",
   "metadata": {},
   "outputs": [],
   "source": [
    "TAUX1 = data1.variables['TAUX']"
   ]
  },
  {
   "cell_type": "code",
   "execution_count": 5,
   "id": "c9c0c9c8",
   "metadata": {},
   "outputs": [
    {
     "data": {
      "text/plain": [
       "(1, 721, 1440)"
      ]
     },
     "execution_count": 5,
     "metadata": {},
     "output_type": "execute_result"
    }
   ],
   "source": [
    "TAUX1.shape"
   ]
  },
  {
   "cell_type": "code",
   "execution_count": 6,
   "id": "e316bfaa",
   "metadata": {},
   "outputs": [
    {
     "data": {
      "text/plain": [
       "0.25"
      ]
     },
     "execution_count": 6,
     "metadata": {},
     "output_type": "execute_result"
    }
   ],
   "source": [
    "360/1440"
   ]
  },
  {
   "cell_type": "code",
   "execution_count": null,
   "id": "93fa2389",
   "metadata": {},
   "outputs": [],
   "source": []
  }
 ],
 "metadata": {
  "kernelspec": {
   "display_name": "Python 3",
   "language": "python",
   "name": "python3"
  },
  "language_info": {
   "codemirror_mode": {
    "name": "ipython",
    "version": 3
   },
   "file_extension": ".py",
   "mimetype": "text/x-python",
   "name": "python",
   "nbconvert_exporter": "python",
   "pygments_lexer": "ipython3",
   "version": "3.6.10"
  }
 },
 "nbformat": 4,
 "nbformat_minor": 5
}
