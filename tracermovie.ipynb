{
 "cells": [
  {
   "cell_type": "code",
   "execution_count": 1,
   "metadata": {},
   "outputs": [
    {
     "name": "stderr",
     "output_type": "stream",
     "text": [
      "/scratch/user/xiliangdiao/.conda/envs/python3/lib/python3.6/site-packages/ipykernel_launcher.py:45: MatplotlibDeprecationWarning: \n",
      "The dedent function was deprecated in Matplotlib 3.1 and will be removed in 3.3. Use inspect.cleandoc instead.\n",
      "/scratch/user/xiliangdiao/.conda/envs/python3/lib/python3.6/site-packages/ipykernel_launcher.py:56: UserWarning: The following kwargs were not used by contour: 'spacing'\n",
      "findfont: Font family ['Cambria'] not found. Falling back to DejaVu Sans.\n",
      "/scratch/user/xiliangdiao/.conda/envs/python3/lib/python3.6/site-packages/ipykernel_launcher.py:41: RuntimeWarning: More than 20 figures have been opened. Figures created through the pyplot interface (`matplotlib.pyplot.figure`) are retained until explicitly closed and may consume too much memory. (To control this warning, see the rcParam `figure.max_open_warning`).\n"
     ]
    }
   ],
   "source": [
    "import netCDF4 as nc\n",
    "import matplotlib.pyplot as plt\n",
    "from matplotlib.colors import from_levels_and_colors\n",
    "import numpy as np\n",
    "from matplotlib import animation\n",
    "from matplotlib.colors import BoundaryNorm\n",
    "import matplotlib.colors as cols\n",
    "import matplotlib as mpl\n",
    "from mpl_toolkits.basemap import Basemap\n",
    "from matplotlib import ticker, cm\n",
    "import seaborn as sns\n",
    "\n",
    "\n",
    "\n",
    "months = [f\"{x:02d}\" for x in range(9,10)]\n",
    "years = [f\"{x:04d}\" for x in range(300,330)]\n",
    "i = 150\n",
    "for yy in years:\n",
    "    for mm in months:\n",
    "        data=nc.Dataset('/ihesp/user/xiliangdiao/ihespdata/ocnwhole/B.E.13.B1850C5.ne120_t12.sehires38.003.sunway_02.pop.h.'+yy+'-'+mm +'.IAGE.nc')\n",
    "        plotvar = data.variables['IAGE'][0,:,:]\n",
    "        lont = data.variables['TLONG']\n",
    "        latt = data.variables['TLAT']\n",
    "        lont = lont[:,:]\n",
    "        latt = latt[:,:]\n",
    "        plot = plotvar[0,:,:]\n",
    "\n",
    "        #plotvar[plotvar <0] = np.nan\n",
    "        my_font = {'fontname':'Cambria', 'size':'20'}\n",
    "        # Pick some of the nicer colors from the palette...\n",
    "        nice_cmap=plt.get_cmap('jet')\n",
    "        lev_cmap = nice_cmap([10,20,30,40,50,60,70,80,90,100,110,120,140,150,160,170,180,190,200,210,220,230,240,290,300])\n",
    "        #new_cmap = cols.ListedColormap(lev_cmap,\"praj_cmap\")\n",
    "        new_cmap = cols.ListedColormap(lev_cmap,\"jet\")\n",
    "        nice_levels = [30,40,50,60,70,80,90,100,110,120,130,140,150,160,170,180,190,200,210,220,230,240,250]\n",
    "        #nice_levels = [0,0.1,0.2,0.3,0.4,0.5,0.6,0.7,0.8,0.9,1,1.1,1.2,1.3,1.4,1.5]\n",
    "        #colorlevel = [0,20,40,60,80,100]\n",
    "        norm = mpl.colors.BoundaryNorm(nice_levels, new_cmap.N)\n",
    "#********************************************************************\n",
    "#********************************************************************\n",
    "        plt.figure(figsize=(25,20))\n",
    "        my_font = {'fontname':'Cambria', 'size':'20'}\n",
    "        # set the mapping range\n",
    "        map = Basemap(projection='aeqd', lat_0 = -25, lon_0 = -20,area_thresh = 100,\\\n",
    "                     width = 12000000,height = 12000000,resolution ='h') \n",
    "        map.drawcoastlines()\n",
    "        map.fillcontinents(color = 'lightgrey')\n",
    "        map.drawmapboundary(color='black')\n",
    " \n",
    "        map.drawparallels(np.arange(-90,91,5),labels=[1,0,0,0],**my_font)\n",
    "        map.drawmeridians(np.arange(-180,180,10),labels=[0,0,1,0],**my_font)\n",
    "        \n",
    "        x,y=map(lont,latt)\n",
    "        #CP = map.contourf(x,y,plotvar,cmap = new_cmap)\n",
    "\n",
    "        CP = map.contourf(x,y,plot,cmap = nice_cmap,spacing = 'uniform',levels = nice_levels,extend='both')\n",
    "        \n",
    "        CP.cmap.set_over('firebrick')\n",
    "        CP.cmap.set_under('black')\n",
    "        cbar =map.colorbar(CP,extend='both',extendfrac='auto')\n",
    "#cbar =map.colorbar(CP)\n",
    "        cbar.ax.tick_params(labelsize=45) \n",
    "        cbar.set_label('(years)', **my_font)\n",
    "        plt.xlabel(\"Year \"+yy+'-'\"Month \"+mm +\"  Depth = 3876m\",**my_font)\n",
    "\n",
    "        \n",
    "        i= i+1\n",
    "\n",
    "        plt.savefig(\"/scratch/user/xiliangdiao/plot/video3000/PSP_%04d.png\"%(i))"
   ]
  },
  {
   "cell_type": "code",
   "execution_count": 2,
   "metadata": {},
   "outputs": [
    {
     "data": {
      "text/plain": [
       "'/scratch/user/xiliangdiao/plot'"
      ]
     },
     "execution_count": 2,
     "metadata": {},
     "output_type": "execute_result"
    }
   ],
   "source": [
    "pwd\n"
   ]
  },
  {
   "cell_type": "code",
   "execution_count": null,
   "metadata": {},
   "outputs": [],
   "source": []
  }
 ],
 "metadata": {
  "kernelspec": {
   "display_name": "Python 3",
   "language": "python",
   "name": "python3"
  },
  "language_info": {
   "codemirror_mode": {
    "name": "ipython",
    "version": 3
   },
   "file_extension": ".py",
   "mimetype": "text/x-python",
   "name": "python",
   "nbconvert_exporter": "python",
   "pygments_lexer": "ipython3",
   "version": "3.6.6"
  }
 },
 "nbformat": 4,
 "nbformat_minor": 2
}
