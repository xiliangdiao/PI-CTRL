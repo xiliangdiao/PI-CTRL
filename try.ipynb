{
 "cells": [
  {
   "cell_type": "code",
   "execution_count": 1,
   "metadata": {},
   "outputs": [],
   "source": [
    "import netCDF4 as nc\n",
    "import matplotlib.pyplot as plt\n",
    "from matplotlib.colors import from_levels_and_colors\n",
    "import numpy as np\n",
    "from matplotlib import animation\n",
    "from matplotlib.colors import BoundaryNorm\n",
    "import matplotlib.colors as cols\n",
    "import matplotlib as mpl\n",
    "from mpl_toolkits.basemap import Basemap\n",
    "from matplotlib import ticker, cm\n",
    "import seaborn as sns"
   ]
  },
  {
   "cell_type": "code",
   "execution_count": 2,
   "metadata": {},
   "outputs": [],
   "source": [
    "final1 = np.loadtxt(fname=\"/scratch/user/xiliangdiao/plot/PM450-500test.out\",  delimiter=\",\")"
   ]
  },
  {
   "cell_type": "code",
   "execution_count": 3,
   "metadata": {},
   "outputs": [],
   "source": [
    "ww2 = np.convolve(final1, np.ones((60,))/60, mode='valid')"
   ]
  },
  {
   "cell_type": "code",
   "execution_count": 5,
   "metadata": {},
   "outputs": [
    {
     "data": {
      "text/plain": [
       "[<matplotlib.lines.Line2D at 0x7f15aa77b5f8>]"
      ]
     },
     "execution_count": 5,
     "metadata": {},
     "output_type": "execute_result"
    },
    {
     "data": {
      "image/png": "[encoded data removed]",
      "text/plain": [
       "<Figure size 432x288 with 1 Axes>"
      ]
     },
     "metadata": {
      "needs_background": "light"
     },
     "output_type": "display_data"
    }
   ],
   "source": [
    "plt.plot(-ww2)"
   ]
  },
  {
   "cell_type": "code",
   "execution_count": 2,
   "metadata": {},
   "outputs": [],
   "source": [
    "data=nc.Dataset('/scratch/user/xiliangdiao/figures/B.E.13.BHISTC5.ne120_t12.sehires38.003.sunway.pop.h.1928-06.nc')"
   ]
  },
  {
   "cell_type": "code",
   "execution_count": 6,
   "metadata": {},
   "outputs": [
    {
     "data": {
      "text/plain": [
       "odict_keys(['time', 'z_t', 'z_t_150m', 'z_w', 'z_w_top', 'z_w_bot', 'time_bound', 'dz', 'dzw', 'ULONG', 'ULAT', 'TLONG', 'TLAT', 'KMT', 'KMU', 'REGION_MASK', 'UAREA', 'TAREA', 'HU', 'HT', 'DXU', 'DYU', 'DXT', 'DYT', 'HTN', 'HTE', 'HUS', 'HUW', 'ANGLE', 'ANGLET', 'days_in_norm_year', 'grav', 'omega', 'radius', 'cp_sw', 'sound', 'vonkar', 'cp_air', 'rho_air', 'rho_sw', 'rho_fw', 'stefan_boltzmann', 'latent_heat_vapor', 'latent_heat_fusion', 'ocn_ref_salinity', 'sea_ice_salinity', 'T0_Kelvin', 'salt_to_ppt', 'ppt_to_salt', 'mass_to_Sv', 'heat_to_PW', 'salt_to_Svppt', 'salt_to_mmday', 'momentum_factor', 'hflux_factor', 'fwflux_factor', 'salinity_factor', 'sflux_factor', 'nsurface_t', 'nsurface_u', 'UVEL', 'VVEL', 'KE', 'TEMP', 'SALT', 'CFC_IFRAC', 'CFC_XKW', 'CFC_ATM_PRESS', 'CFC11', 'STF_CFC11', 'CFC12', 'STF_CFC12', 'IAGE', 'TEND_TEMP', 'TEND_SALT', 'WVEL', 'UET', 'VNT', 'WTT', 'UES', 'VNS', 'WTS', 'PD'])"
      ]
     },
     "execution_count": 6,
     "metadata": {},
     "output_type": "execute_result"
    }
   ],
   "source": [
    "data.variables.keys()"
   ]
  },
  {
   "cell_type": "code",
   "execution_count": null,
   "metadata": {},
   "outputs": [],
   "source": []
  }
 ],
 "metadata": {
  "kernelspec": {
   "display_name": "Python 3",
   "language": "python",
   "name": "python3"
  },
  "language_info": {
   "codemirror_mode": {
    "name": "ipython",
    "version": 3
   },
   "file_extension": ".py",
   "mimetype": "text/x-python",
   "name": "python",
   "nbconvert_exporter": "python",
   "pygments_lexer": "ipython3",
   "version": "3.6.10"
  }
 },
 "nbformat": 4,
 "nbformat_minor": 2
}
