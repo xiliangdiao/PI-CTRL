{
 "cells": [
  {
   "cell_type": "code",
   "execution_count": 1,
   "id": "6dce1ae7",
   "metadata": {},
   "outputs": [],
   "source": [
    "import netCDF4 as nc\n",
    "import matplotlib.pyplot as plt\n",
    "from matplotlib.colors import from_levels_and_colors\n",
    "import numpy as np\n",
    "from matplotlib import animation\n",
    "from matplotlib.colors import BoundaryNorm\n",
    "import matplotlib.colors as cols\n",
    "import matplotlib as mpl\n",
    "from mpl_toolkits.basemap import Basemap\n",
    "from matplotlib import ticker, cm\n",
    "import seaborn as sns"
   ]
  },
  {
   "cell_type": "code",
   "execution_count": 2,
   "id": "d911d0f8",
   "metadata": {},
   "outputs": [],
   "source": [
    "# 65 大气压 20-330\n",
    "\n",
    "result31 = np.zeros((1955,721,1440))\n",
    "i = 0\n",
    "nu = [f\"{x:04d}\" for x in range(0,1955)]\n",
    "i =0\n",
    "for mm in nu:\n",
    "    data=nc.Dataset('/ihesp/user/xiliangdiao/data/ihespdata/air500/CESM_PSL_'+mm+'_.nc')\n",
    "    plot65 = data.variables['PSL'][0,:,:]\n",
    "    result31[i,:,:] = plot65\n",
    "    i = i + 1"
   ]
  },
  {
   "cell_type": "code",
   "execution_count": 3,
   "id": "185af401",
   "metadata": {},
   "outputs": [],
   "source": [
    "mea = np.nanmean(result31,axis=0)"
   ]
  },
  {
   "cell_type": "code",
   "execution_count": 4,
   "id": "f7f992ea",
   "metadata": {},
   "outputs": [],
   "source": [
    "la = result31 - mea"
   ]
  },
  {
   "cell_type": "code",
   "execution_count": 5,
   "id": "f0bd189e",
   "metadata": {},
   "outputs": [],
   "source": [
    "lon = data.variables['lon']"
   ]
  },
  {
   "cell_type": "code",
   "execution_count": 6,
   "id": "9f7e595e",
   "metadata": {},
   "outputs": [],
   "source": [
    "lat = data.variables['lat']"
   ]
  },
  {
   "cell_type": "code",
   "execution_count": 7,
   "id": "d5248de4",
   "metadata": {},
   "outputs": [],
   "source": [
    "lont, latt = np.meshgrid(lon, lat)"
   ]
  },
  {
   "cell_type": "code",
   "execution_count": 8,
   "id": "f1e7f789",
   "metadata": {},
   "outputs": [],
   "source": [
    "nu = np.arange(0,1955,1)\n",
    "i=0\n"
   ]
  },
  {
   "cell_type": "code",
   "execution_count": null,
   "id": "47cb679f",
   "metadata": {},
   "outputs": [
    {
     "name": "stderr",
     "output_type": "stream",
     "text": [
      "/scratch/user/xiliangdiao/.conda/envs/DIAO/lib/python3.6/site-packages/ipykernel_launcher.py:18: MatplotlibDeprecationWarning: \n",
      "The dedent function was deprecated in Matplotlib 3.1 and will be removed in 3.3. Use inspect.cleandoc instead.\n",
      "findfont: Font family ['Cambria'] not found. Falling back to DejaVu Sans.\n",
      "/scratch/user/xiliangdiao/.conda/envs/DIAO/lib/python3.6/site-packages/ipykernel_launcher.py:14: RuntimeWarning: More than 20 figures have been opened. Figures created through the pyplot interface (`matplotlib.pyplot.figure`) are retained until explicitly closed and may consume too much memory. (To control this warning, see the rcParam `figure.max_open_warning`).\n",
      "  \n"
     ]
    }
   ],
   "source": [
    "for mm in nu:\n",
    "    nice_cmap=plt.get_cmap('seismic')\n",
    "#nice_cmap=sns.diverging_palette(245, 15, n=13,as_cmap=True)\n",
    "    lev_cmap = nice_cmap([1,10,20,30,40,50,60,70,80,100,110,120,140,150,170,190,210,230,240]) \n",
    "#lev_cmap = nice_cmap([1,30,50,70,100,130,140,150,160,170,180,190,210,230,240])\n",
    "#new_cmap = cols.ListedColormap(lev_cmap,\"praj_cmap\")\n",
    "    new_cmap = cols.ListedColormap(lev_cmap,\"seismic\")\n",
    "    nice_levels2 = [2000,2500,3000,3500,4000]\n",
    "#new_cmap = cols.ListedColormap(lev_cmap,\"praj_cmap\")\n",
    "    nice_levels = [96,96.5,97,97.5,98.5,99.5,100,100.5,101,101.5,102,102.5,103]\n",
    "    norm = mpl.colors.BoundaryNorm(nice_levels, new_cmap.N)\n",
    "#********************************************************************\n",
    "\n",
    "    plt.figure(figsize=(25,20))\n",
    "    my_font = {'fontname':'Cambria', 'size':'45'}\n",
    "# set the mapping range\n",
    "    map = Basemap(projection='aeqd', lat_0 = -90, lon_0 = 0,area_thresh = 100,\\\n",
    "                         width = 12000000,height = 12000000,resolution ='h') \n",
    "#############################################\n",
    "##width = 2500000,height = 1500000\n",
    "##lat_0 = -65, lon_0 = 0\n",
    "#############################################\n",
    "    map.drawcoastlines()\n",
    "#map.fillcontinents(color = 'lightgrey')\n",
    "    map.drawmapboundary(color='black')\n",
    " \n",
    "    map.drawparallels(np.arange(-90,91,5),labels=[1,0,0,0],**my_font)\n",
    "    map.drawmeridians(np.arange(-180,180,10),labels=[0,0,1,0],**my_font)\n",
    "\n",
    "    x,y=map(lont,latt)\n",
    "#x2,y2=map(lont2,latt2)\n",
    "#map.plot(x2,y2,'black',linewidth=8)\n",
    "\n",
    "    CP = map.contourf(x,y,la[i]/1000)#,levels = nice_levels,cmap = new_cmap,spacing = 'uniform',extend='both')\n",
    "    CP.cmap.set_over('firebrick')\n",
    "    CP.cmap.set_under('black')\n",
    "\n",
    "#xq,yq=map(lontu,lattu)\n",
    "  \n",
    "#CS = map.contour(xq,yq,plotvarKMT,levels = nice_levels2,colors= 'black',linestyles = 'solid',linewidths=4)\n",
    "#plt.clabel(CS,fontsize=12,fmt='%4d')\n",
    "#cbar =map.colorbar(CP,extend='both',extendfrac='auto',extendrect='True')\n",
    "    cbar =map.colorbar(CP,extendfrac='auto')#,ticks= nice_levels)\n",
    "#cbar.minorticks_on()\n",
    "    cbar.ax.tick_params(labelsize=40) \n",
    "    cbar.set_label('(Kpa)', **my_font)\n",
    "    i= i+1\n",
    "        #plt.suptitle('SEA ICE Thickness  '+yy+'-'+mm,**my_font)\n",
    "    plt.xlabel('PSL  '+'YEAR-'+str(i)+'-SEP',**my_font)\n",
    "# it is important to save the images in a very sequential manner or ffmpeg will not work !!!\n",
    "        #plt.savefig('aice'+y +'-' + m+ '.png')\n",
    "    plt.savefig(\"/scratch/user/xiliangdiao/figures/video2/PSP_%04d.png\"%(i))"
   ]
  },
  {
   "cell_type": "code",
   "execution_count": null,
   "id": "9c1ab3e7",
   "metadata": {},
   "outputs": [],
   "source": [
    "1944/12"
   ]
  },
  {
   "cell_type": "code",
   "execution_count": null,
   "id": "e6acb7b6",
   "metadata": {},
   "outputs": [],
   "source": [
    "150+338"
   ]
  },
  {
   "cell_type": "code",
   "execution_count": null,
   "id": "035ba7cd",
   "metadata": {},
   "outputs": [],
   "source": []
  }
 ],
 "metadata": {
  "kernelspec": {
   "display_name": "Python 3",
   "language": "python",
   "name": "python3"
  },
  "language_info": {
   "codemirror_mode": {
    "name": "ipython",
    "version": 3
   },
   "file_extension": ".py",
   "mimetype": "text/x-python",
   "name": "python",
   "nbconvert_exporter": "python",
   "pygments_lexer": "ipython3",
   "version": "3.6.10"
  }
 },
 "nbformat": 4,
 "nbformat_minor": 5
}
