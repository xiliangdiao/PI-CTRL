{
 "cells": [
  {
   "cell_type": "code",
   "execution_count": 1,
   "id": "8df3dbf8",
   "metadata": {},
   "outputs": [],
   "source": [
    "import netCDF4 as nc\n",
    "import matplotlib.pyplot as plt\n",
    "from matplotlib.colors import from_levels_and_colors\n",
    "import numpy as np\n",
    "from matplotlib import animation\n",
    "from matplotlib.colors import BoundaryNorm\n",
    "import matplotlib.colors as cols\n",
    "import matplotlib as mpl\n",
    "from mpl_toolkits.basemap import Basemap\n",
    "from matplotlib import ticker, cm\n",
    "import seaborn as sns"
   ]
  },
  {
   "cell_type": "code",
   "execution_count": 2,
   "id": "226b1d8b",
   "metadata": {},
   "outputs": [],
   "source": [
    "months = [f\"{x:02d}\" for x in range(9,10)]\n",
    "years = [f\"{x:04d}\" for x in range(338,500)]\n",
    "i =0\n",
    "salt = np.zeros((162,62))"
   ]
  },
  {
   "cell_type": "code",
   "execution_count": 3,
   "id": "91aa0ad9",
   "metadata": {},
   "outputs": [],
   "source": [
    "for yy in years:\n",
    "    for mm in months:\n",
    "        data=nc.Dataset('/scratch/group/ihesp/user/xiliangdiao/ihespdata/ocn330-500/cmpr_B.E.13.B1850C5.ne120_t12.sehires38.003.sunway_02.pop.h.'+yy+'-'+mm +'.SALT.nc')\n",
    "        plotvar = data.variables['SALT'][0,:,:]\n",
    "        lont = data.variables['TLONG']\n",
    "        latt = data.variables['TLAT']\n",
    "        #lont = lont[250:344,1100:1300]\n",
    "        #latt = latt[250:344,1100:1300]\n",
    "        plotvar = plotvar[0,200:400,700:1000]\n",
    "        plotvar[plotvar == -1000.0] = np.nan\n",
    "        aveplot = np.nanmean(plotvar,axis=0)\n",
    "        aveplot = np.nanmean(aveplot,axis=0)\n",
    "        #aveplot = plotvar.mean(axis=1)\n",
    "        #aveplot = aveplot.mean(axis=1)\n",
    "        salt[i] = aveplot\n",
    "        \n",
    "        i = i + 1\n",
    "#********************************************************************"
   ]
  },
  {
   "cell_type": "code",
   "execution_count": 4,
   "id": "149d4cfc",
   "metadata": {},
   "outputs": [],
   "source": [
    "temp = np.zeros((162,62))\n",
    "i = 0\n",
    "for yy in years:\n",
    "    for mm in months:\n",
    "        data=nc.Dataset('/scratch/group/ihesp/user/xiliangdiao/ihespdata/ocn330-500/cmpr_B.E.13.B1850C5.ne120_t12.sehires38.003.sunway_02.pop.h.'+yy+'-'+mm +'.TEMP.nc')\n",
    "        plotvar = data.variables['TEMP'][0,:,:]\n",
    "        lont = data.variables['TLONG']\n",
    "        latt = data.variables['TLAT']\n",
    "        #lont = lont[250:344,1100:1300]\n",
    "        #latt = latt[250:344,1100:1300]\n",
    "        plotvar = plotvar[0,200:400,700:1000]\n",
    "        plotvar[plotvar == -1.0] = np.nan\n",
    "        aveplot = np.nanmean(plotvar,axis=0)\n",
    "        aveplot = np.nanmean(aveplot,axis=0)\n",
    "        #aveplot = plotvar.mean(axis=1)\n",
    "        #aveplot = aveplot.mean(axis=1)\n",
    "        temp[i] = aveplot\n",
    "        \n",
    "        i = i + 1\n",
    "#********************************************************************"
   ]
  },
  {
   "cell_type": "code",
   "execution_count": 5,
   "id": "65ed1a06",
   "metadata": {},
   "outputs": [],
   "source": [
    "import gsw"
   ]
  },
  {
   "cell_type": "code",
   "execution_count": 6,
   "id": "6c9beb17",
   "metadata": {},
   "outputs": [],
   "source": [
    "# Calculates Conservative Temperature of seawater from potential temperature\n",
    "consertmp = gsw.CT_from_pt(salt,temp)"
   ]
  },
  {
   "cell_type": "code",
   "execution_count": 7,
   "id": "cee3bdb1",
   "metadata": {},
   "outputs": [],
   "source": [
    "#Calculates potential density anomaly with reference pressure of 0 dbar\n",
    "densityanomaly = gsw.sigma0(salt,consertmp)"
   ]
  },
  {
   "cell_type": "code",
   "execution_count": 8,
   "id": "09329afe",
   "metadata": {},
   "outputs": [],
   "source": [
    "np.save(file=\"250density0.npy\", arr=densityanomaly)"
   ]
  },
  {
   "cell_type": "code",
   "execution_count": 9,
   "id": "f8f7fc1b",
   "metadata": {},
   "outputs": [],
   "source": [
    "mid= np.load(file=\"250density500.npy\")"
   ]
  },
  {
   "cell_type": "code",
   "execution_count": 11,
   "id": "08facd16",
   "metadata": {},
   "outputs": [
    {
     "data": {
      "text/plain": [
       "[<matplotlib.lines.Line2D at 0x7f13df782438>,\n",
       " <matplotlib.lines.Line2D at 0x7f13df782588>,\n",
       " <matplotlib.lines.Line2D at 0x7f13df7826d8>,\n",
       " <matplotlib.lines.Line2D at 0x7f13df782828>,\n",
       " <matplotlib.lines.Line2D at 0x7f13df782978>,\n",
       " <matplotlib.lines.Line2D at 0x7f13df782ac8>,\n",
       " <matplotlib.lines.Line2D at 0x7f13df782c18>,\n",
       " <matplotlib.lines.Line2D at 0x7f13df782d68>,\n",
       " <matplotlib.lines.Line2D at 0x7f13df782eb8>,\n",
       " <matplotlib.lines.Line2D at 0x7f13df78c048>,\n",
       " <matplotlib.lines.Line2D at 0x7f13df79cc18>,\n",
       " <matplotlib.lines.Line2D at 0x7f13df78c2b0>,\n",
       " <matplotlib.lines.Line2D at 0x7f13df78c400>,\n",
       " <matplotlib.lines.Line2D at 0x7f13df78c550>,\n",
       " <matplotlib.lines.Line2D at 0x7f13df78c6a0>,\n",
       " <matplotlib.lines.Line2D at 0x7f13df78c7f0>,\n",
       " <matplotlib.lines.Line2D at 0x7f13df78c940>,\n",
       " <matplotlib.lines.Line2D at 0x7f13df78ca90>,\n",
       " <matplotlib.lines.Line2D at 0x7f13df78cbe0>,\n",
       " <matplotlib.lines.Line2D at 0x7f13df78cd30>,\n",
       " <matplotlib.lines.Line2D at 0x7f13df78ce80>,\n",
       " <matplotlib.lines.Line2D at 0x7f13df78cfd0>,\n",
       " <matplotlib.lines.Line2D at 0x7f13df70f160>,\n",
       " <matplotlib.lines.Line2D at 0x7f13df70f2b0>,\n",
       " <matplotlib.lines.Line2D at 0x7f13df70f400>,\n",
       " <matplotlib.lines.Line2D at 0x7f13df70f550>,\n",
       " <matplotlib.lines.Line2D at 0x7f13df70f6a0>,\n",
       " <matplotlib.lines.Line2D at 0x7f13df70f7f0>,\n",
       " <matplotlib.lines.Line2D at 0x7f13df70f940>,\n",
       " <matplotlib.lines.Line2D at 0x7f13df70fa90>,\n",
       " <matplotlib.lines.Line2D at 0x7f13df70fbe0>,\n",
       " <matplotlib.lines.Line2D at 0x7f13df70fd30>,\n",
       " <matplotlib.lines.Line2D at 0x7f13df70fe80>,\n",
       " <matplotlib.lines.Line2D at 0x7f13df70ffd0>,\n",
       " <matplotlib.lines.Line2D at 0x7f13df716160>,\n",
       " <matplotlib.lines.Line2D at 0x7f13df7162b0>,\n",
       " <matplotlib.lines.Line2D at 0x7f13df716400>,\n",
       " <matplotlib.lines.Line2D at 0x7f13df716550>,\n",
       " <matplotlib.lines.Line2D at 0x7f13df7166a0>,\n",
       " <matplotlib.lines.Line2D at 0x7f13df7167f0>,\n",
       " <matplotlib.lines.Line2D at 0x7f13df716940>,\n",
       " <matplotlib.lines.Line2D at 0x7f13df716a90>,\n",
       " <matplotlib.lines.Line2D at 0x7f13df716be0>,\n",
       " <matplotlib.lines.Line2D at 0x7f13df716d30>,\n",
       " <matplotlib.lines.Line2D at 0x7f13df716e80>,\n",
       " <matplotlib.lines.Line2D at 0x7f13df716fd0>,\n",
       " <matplotlib.lines.Line2D at 0x7f13df71a160>,\n",
       " <matplotlib.lines.Line2D at 0x7f13df71a2b0>,\n",
       " <matplotlib.lines.Line2D at 0x7f13df71a400>,\n",
       " <matplotlib.lines.Line2D at 0x7f13df71a550>,\n",
       " <matplotlib.lines.Line2D at 0x7f13df71a6a0>,\n",
       " <matplotlib.lines.Line2D at 0x7f13df71a7f0>,\n",
       " <matplotlib.lines.Line2D at 0x7f13df71a940>,\n",
       " <matplotlib.lines.Line2D at 0x7f13df71aa90>,\n",
       " <matplotlib.lines.Line2D at 0x7f13df71abe0>,\n",
       " <matplotlib.lines.Line2D at 0x7f13df71ad30>,\n",
       " <matplotlib.lines.Line2D at 0x7f13df71ae80>,\n",
       " <matplotlib.lines.Line2D at 0x7f13df71afd0>,\n",
       " <matplotlib.lines.Line2D at 0x7f13df720160>,\n",
       " <matplotlib.lines.Line2D at 0x7f13df7202b0>,\n",
       " <matplotlib.lines.Line2D at 0x7f13df720400>,\n",
       " <matplotlib.lines.Line2D at 0x7f13df720550>]"
      ]
     },
     "execution_count": 11,
     "metadata": {},
     "output_type": "execute_result"
    },
    {
     "data": {
      "image/png": "[encoded data removed]",
      "text/plain": [
       "<Figure size 432x288 with 1 Axes>"
      ]
     },
     "metadata": {
      "needs_background": "light"
     },
     "output_type": "display_data"
    }
   ],
   "source": [
    "plt.plot(densityanomaly)"
   ]
  },
  {
   "cell_type": "code",
   "execution_count": null,
   "id": "2cf08007",
   "metadata": {},
   "outputs": [],
   "source": []
  }
 ],
 "metadata": {
  "kernelspec": {
   "display_name": "Python 3",
   "language": "python",
   "name": "python3"
  },
  "language_info": {
   "codemirror_mode": {
    "name": "ipython",
    "version": 3
   },
   "file_extension": ".py",
   "mimetype": "text/x-python",
   "name": "python",
   "nbconvert_exporter": "python",
   "pygments_lexer": "ipython3",
   "version": "3.6.10"
  }
 },
 "nbformat": 4,
 "nbformat_minor": 5
}
