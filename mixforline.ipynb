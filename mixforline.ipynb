{
 "cells": [
  {
   "cell_type": "code",
   "execution_count": 1,
   "metadata": {},
   "outputs": [],
   "source": [
    "import netCDF4 as nc\n",
    "import matplotlib.pyplot as plt\n",
    "from matplotlib.colors import from_levels_and_colors\n",
    "import numpy as np\n",
    "from matplotlib import animation\n",
    "from matplotlib.colors import BoundaryNorm\n",
    "import matplotlib.colors as cols\n",
    "import matplotlib as mpl\n",
    "from mpl_toolkits.basemap import Basemap\n",
    "from matplotlib import ticker, cm\n",
    "import seaborn as sns"
   ]
  },
  {
   "cell_type": "code",
   "execution_count": 2,
   "metadata": {},
   "outputs": [],
   "source": [
    "months = [f\"{x:02d}\" for x in range(7,10)]\n",
    "years = [f\"{x:04d}\" for x in range(150,330)]\n",
    "i =0\n",
    "result = np.zeros((540,300))"
   ]
  },
  {
   "cell_type": "code",
   "execution_count": 4,
   "metadata": {},
   "outputs": [],
   "source": [
    "for yy in years:\n",
    "    for mm in months:\n",
    "        #data=nc.Dataset('/ihesp/xiliangdiao/ihespdata/ice300/B.E.13.B1850C5.ne120_t12.sehires38.003.sunway_02.cice.h.'+yy+'-'+mm +'.aice.nc')\n",
    "        #cmpr_B.E.13.B1850C5.ne120_t12.sehires38.003.sunway_02.cice.h.0323-09.aice.nc\n",
    "        data=nc.Dataset('/ihesp/user/xiliangdiao/ihespdata/ocn300/B.E.13.B1850C5.ne120_t12.sehires38.003.sunway_02.pop.h.'+yy+'-'+mm +'.HMXL.nc')\n",
    "        plotvar = data.variables['HMXL'][0,:,:]\n",
    "        #plotvar = data.variables['HMXL'][0,:,:]\n",
    "        #lont = data.variables['lont_bounds'][:,:,0]\n",
    "        #latt = data.variables['latt_bounds'][:,:,0]\n",
    "        plotvar = plotvar[200:400,700:1000]\n",
    "#       lont = lont[180:320,500:1200]\n",
    "#        latt = latt[180:320,500:1200]\n",
    "#        plotvar = plotvar[180:320,500:1200]\n",
    "        aveplot = plotvar.mean(axis=0)\n",
    "        \n",
    "        result[i] = aveplot\n",
    "        \n",
    "        i = i + 1\n",
    "#********************************************************************"
   ]
  },
  {
   "cell_type": "code",
   "execution_count": 10,
   "metadata": {},
   "outputs": [
    {
     "data": {
      "text/plain": [
       "array([[ 90.6771875 ,  90.32180625,  90.1231    , ..., 111.5057    ,\n",
       "        111.5302125 , 111.892675  ],\n",
       "       [101.238875  , 101.75375   , 102.50268125, ..., 120.184325  ,\n",
       "        121.1975625 , 122.37815   ],\n",
       "       [117.381775  , 117.520975  , 117.6362375 , ..., 128.2667875 ,\n",
       "        129.03155   , 129.6558625 ],\n",
       "       ...,\n",
       "       [ 94.40805625,  94.3378625 ,  94.17795625, ..., 107.8873875 ,\n",
       "        106.9472125 , 106.097625  ],\n",
       "       [106.793475  , 106.64115   , 106.1321    , ..., 118.3753375 ,\n",
       "        118.5295375 , 118.7526625 ],\n",
       "       [112.523775  , 112.6233875 , 112.853275  , ..., 123.448075  ,\n",
       "        123.2368625 , 123.6615375 ]])"
      ]
     },
     "execution_count": 10,
     "metadata": {},
     "output_type": "execute_result"
    }
   ],
   "source": [
    "result/100"
   ]
  },
  {
   "cell_type": "code",
   "execution_count": 5,
   "metadata": {},
   "outputs": [],
   "source": [
    "mix = result.mean(axis=1)"
   ]
  },
  {
   "cell_type": "code",
   "execution_count": 11,
   "metadata": {},
   "outputs": [],
   "source": [
    "np.savetxt('mix.out', mix/100)"
   ]
  },
  {
   "cell_type": "code",
   "execution_count": null,
   "metadata": {},
   "outputs": [],
   "source": []
  }
 ],
 "metadata": {
  "kernelspec": {
   "display_name": "Python 3",
   "language": "python",
   "name": "python3"
  },
  "language_info": {
   "codemirror_mode": {
    "name": "ipython",
    "version": 3
   },
   "file_extension": ".py",
   "mimetype": "text/x-python",
   "name": "python",
   "nbconvert_exporter": "python",
   "pygments_lexer": "ipython3",
   "version": "3.6.6"
  }
 },
 "nbformat": 4,
 "nbformat_minor": 2
}
