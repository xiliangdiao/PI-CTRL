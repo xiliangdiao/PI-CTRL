{
 "cells": [
  {
   "cell_type": "code",
   "execution_count": 3,
   "metadata": {},
   "outputs": [],
   "source": [
    "import netCDF4 as nc\n",
    "import matplotlib.pyplot as plt\n",
    "from matplotlib.colors import from_levels_and_colors\n",
    "import numpy as np\n",
    "from matplotlib import animation\n",
    "from matplotlib.colors import BoundaryNorm\n",
    "import matplotlib.colors as cols\n",
    "import matplotlib as mpl\n",
    "from mpl_toolkits.basemap import Basemap\n",
    "from matplotlib import ticker, cm\n",
    "import seaborn as sns"
   ]
  },
  {
   "cell_type": "code",
   "execution_count": 4,
   "metadata": {},
   "outputs": [
    {
     "ename": "FileNotFoundError",
     "evalue": "[Errno 2] No such file or directory: b'/ihesp/shared/xiliang/B.E.13.BRCP85C5CN.ne120_t12.sehires38.003.sunway.CN_OFF.pop.h.nday1.HMXL.nc'",
     "output_type": "error",
     "traceback": [
      "\u001b[0;31m---------------------------------------------------------------------------\u001b[0m",
      "\u001b[0;31mFileNotFoundError\u001b[0m                         Traceback (most recent call last)",
      "\u001b[0;32m<ipython-input-4-15389376bde3>\u001b[0m in \u001b[0;36m<module>\u001b[0;34m\u001b[0m\n\u001b[0;32m----> 1\u001b[0;31m \u001b[0mdata\u001b[0m\u001b[0;34m=\u001b[0m\u001b[0mnc\u001b[0m\u001b[0;34m.\u001b[0m\u001b[0mDataset\u001b[0m\u001b[0;34m(\u001b[0m\u001b[0;34m'/ihesp/shared/xiliang/B.E.13.BRCP85C5CN.ne120_t12.sehires38.003.sunway.CN_OFF.pop.h.nday1.HMXL.nc'\u001b[0m\u001b[0;34m)\u001b[0m\u001b[0;34m\u001b[0m\u001b[0;34m\u001b[0m\u001b[0m\n\u001b[0m\u001b[1;32m      2\u001b[0m \u001b[0mplotvar2\u001b[0m \u001b[0;34m=\u001b[0m \u001b[0mdata\u001b[0m\u001b[0;34m.\u001b[0m\u001b[0mvariables\u001b[0m\u001b[0;34m[\u001b[0m\u001b[0;34m'HMXL'\u001b[0m\u001b[0;34m]\u001b[0m\u001b[0;34m\u001b[0m\u001b[0;34m\u001b[0m\u001b[0m\n",
      "\u001b[0;32mnetCDF4/_netCDF4.pyx\u001b[0m in \u001b[0;36mnetCDF4._netCDF4.Dataset.__init__\u001b[0;34m()\u001b[0m\n",
      "\u001b[0;32mnetCDF4/_netCDF4.pyx\u001b[0m in \u001b[0;36mnetCDF4._netCDF4._ensure_nc_success\u001b[0;34m()\u001b[0m\n",
      "\u001b[0;31mFileNotFoundError\u001b[0m: [Errno 2] No such file or directory: b'/ihesp/shared/xiliang/B.E.13.BRCP85C5CN.ne120_t12.sehires38.003.sunway.CN_OFF.pop.h.nday1.HMXL.nc'"
     ]
    }
   ],
   "source": [
    "data=nc.Dataset('/ihesp/shared/xiliang/B.E.13.BRCP85C5CN.ne120_t12.sehires38.003.sunway.CN_OFF.pop.h.nday1.HMXL.nc')\n",
    "plotvar2 = data.variables['HMXL']"
   ]
  },
  {
   "cell_type": "code",
   "execution_count": null,
   "metadata": {},
   "outputs": [],
   "source": [
    "plotvar2.shape"
   ]
  },
  {
   "cell_type": "code",
   "execution_count": null,
   "metadata": {},
   "outputs": [],
   "source": [
    "1140/12"
   ]
  },
  {
   "cell_type": "code",
   "execution_count": null,
   "metadata": {},
   "outputs": [],
   "source": [
    "plo = plotvar2[8:1140:12,224:343,600:1400]"
   ]
  },
  {
   "cell_type": "code",
   "execution_count": null,
   "metadata": {},
   "outputs": [],
   "source": [
    "plo.shape"
   ]
  },
  {
   "cell_type": "code",
   "execution_count": null,
   "metadata": {},
   "outputs": [],
   "source": [
    "result = plo.mean(axis=1)"
   ]
  },
  {
   "cell_type": "code",
   "execution_count": null,
   "metadata": {},
   "outputs": [],
   "source": [
    "A = np.arange(95)\n",
    "B = np.arange(800)\n",
    "xx, yy = np.meshgrid(B, A)"
   ]
  },
  {
   "cell_type": "code",
   "execution_count": null,
   "metadata": {},
   "outputs": [],
   "source": [
    "# nice_cmap 控制色段 （130 白色）；nice_levels 控制color bar 标号\n",
    "#################################################################\n",
    "nice_cmap=sns.diverging_palette(245, 10, n=10,as_cmap=True)\n",
    "lev_cmap = nice_cmap([130,150,160,170,190,200,210,220,230,245]) \n",
    "new_cmap = cols.ListedColormap(lev_cmap,\"praj_cmap\")\n",
    "nice_levels = [0,200,300,400,500,600,800,1000,1200,1500]\n",
    "norm = mpl.colors.BoundaryNorm(nice_levels, new_cmap.N)"
   ]
  },
  {
   "cell_type": "code",
   "execution_count": null,
   "metadata": {},
   "outputs": [],
   "source": [
    "# plot the result\n",
    "fig = plt.figure(figsize=(12, 12),dpi=100)\n",
    "ax0 = fig.add_axes([0.1, 0.1, 0.8, 0.8])\n",
    "my_font = {'fontname':'Cambria', 'size':'20'}\n",
    "im = ax0.contourf(xx, yy, result/100, cmap = new_cmap,norm =norm,spacing = 'uniform',\\\n",
    "                  levels = nice_levels,extend='max')\n",
    "im.cmap.set_over('firebrick')\n",
    "cbar = fig.colorbar(im, ax=ax0,extendfrac='auto',ticks=nice_levels)\n",
    "cbar.ax.tick_params(labelsize=20)\n",
    "cbar.set_label('(m)', **my_font)\n",
    "ax0.set_title('Mixed Layer Depth')\n",
    "#plt.hlines((27-20)*4, 0, 699, colors = \"y\",linestyles = \"dashed\")\n",
    "#plt.hlines((39-20)*4, 0, 699, colors = \"y\",linestyles = \"dashed\")\n",
    "###plt.hlines((56-20)*4, 0, 699, colors = \"y\",linestyles = \"dashed\")\n",
    "#plt.hlines((69-20)*4, 0, 699, colors = \"y\",linestyles = \"dashed\")\n",
    "#plt.hlines((94-20)*4, 0, 699, colors = \"y\",linestyles = \"dashed\")\n",
    "#plt.hlines((106-20)*4, 0, 699, colors = \"y\",linestyles = \"dashed\")\n",
    "#plt.hlines((120-20)*4, 0, 699, colors = \"y\",linestyles = \"dashed\")\n",
    "#plt.hlines((138-20)*4, 0, 699, colors = \"y\",linestyles = \"dashed\")\n",
    "#plt.hlines((168-20)*4, 0, 699, colors = \"y\",linestyles = \"dashed\")\n",
    "#plt.hlines((203-20)*4, 0, 699, colors = \"y\",linestyles = \"dashed\")\n",
    "#plt.hlines((252-20)*4, 0, 699, colors = \"y\",linestyles = \"dashed\")\n",
    "#plt.hlines((261-20)*4, 0, 699, colors = \"y\",linestyles = \"dashed\")\n",
    "#plt.hlines((300-20)*4, 0, 699, colors = \"y\",linestyles = \"dashed\")\n",
    "#plt.hlines((326-20)*4, 0, 699, colors = \"y\",linestyles = \"dashed\")\n",
    "#plt.vlines(430, 0, 159, colors = \"b\",linestyles = \"dashed\")\n",
    "plt.vlines(200, 0, 94, colors = \"yellow\",linestyles = \"solid\",linewidth=1)\n",
    "plt.vlines(495, 0, 94, colors = \"yellow\",linestyles = \"solid\",linewidth=1)\n",
    "\n",
    "\n",
    "plt.vlines(500, 0, 94, colors = \"green\",linestyles = \"dashed\",linewidth=1)\n",
    "plt.vlines(595, 0, 94, colors = \"green\",linestyles = \"dashed\",linewidth=1)\n",
    "\n",
    "plt.vlines(600, 0, 94, colors = \"blue\",linestyles = \"dotted\",linewidth=1)\n",
    "plt.vlines(695, 0, 94, colors = \"blue\",linestyles = \"dotted\",linewidth=1)\n",
    "\n",
    "\n",
    "plt.vlines(700, 0, 94, colors = \"purple\",linestyles = 'dashdot',linewidth=1)\n",
    "plt.vlines(795, 0, 94, colors = \"purple\",linestyles = \"dashdot\",linewidth=1)\n",
    "#############################################################################\n",
    "##设定X坐标值\n",
    "plt.xticks(range(0,900,100), ['-50','-40','-30', '-20', '-10', '0','10','20', '30','40'],**my_font)\n",
    "plt.yticks(range(0,95,10), ['2006','2016','2026',\\\n",
    "                             '2036','2046','2056', '2066','2076','2086', '2096'],**my_font)\n",
    "plt.xlabel('Longtitude',**my_font)\n",
    "plt.xlabel('Longtitude',**my_font)\n",
    "plt.ylabel('Years',**my_font)\n",
    "ax0.set_title('Future Mixed-Layer Depth (64$^\\circ$S -69$^\\circ$S, RCP8.5)',**my_font)\n",
    "plt.savefig(\"fumix.png\",bbox_inches='tight',dpi=fig.dpi)"
   ]
  },
  {
   "cell_type": "code",
   "execution_count": null,
   "metadata": {},
   "outputs": [],
   "source": []
  }
 ],
 "metadata": {
  "kernelspec": {
   "display_name": "Python 3",
   "language": "python",
   "name": "python3"
  },
  "language_info": {
   "codemirror_mode": {
    "name": "ipython",
    "version": 3
   },
   "file_extension": ".py",
   "mimetype": "text/x-python",
   "name": "python",
   "nbconvert_exporter": "python",
   "pygments_lexer": "ipython3",
   "version": "3.6.10"
  }
 },
 "nbformat": 4,
 "nbformat_minor": 2
}
