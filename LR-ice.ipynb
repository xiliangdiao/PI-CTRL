{
 "cells": [
  {
   "cell_type": "code",
   "execution_count": null,
   "metadata": {},
   "outputs": [],
   "source": [
    "import netCDF4 as nc\n",
    "import matplotlib.pyplot as plt\n",
    "from matplotlib.colors import from_levels_and_colors\n",
    "import numpy as np\n",
    "from matplotlib import animation\n",
    "from matplotlib.colors import BoundaryNorm\n",
    "import matplotlib.colors as cols\n",
    "import matplotlib as mpl\n",
    "from mpl_toolkits.basemap import Basemap\n",
    "from matplotlib import ticker, cm\n",
    "import seaborn as sns"
   ]
  },
  {
   "cell_type": "code",
   "execution_count": null,
   "metadata": {},
   "outputs": [],
   "source": [
    "data=nc.Dataset('/ihesp/archive/Sunway_Runs/LR_PI_CTRL/B.E.13.B1850C5.ne30g16.sehires38.003.sunway.pop.h.AICE.000101.050012.nc')"
   ]
  },
  {
   "cell_type": "code",
   "execution_count": null,
   "metadata": {},
   "outputs": [],
   "source": [
    "lont = data.variables['lont_bounds'][:,:,0]\n",
    "latt = data.variables['latt_bounds'][:,:,0]"
   ]
  },
  {
   "cell_type": "code",
   "execution_count": null,
   "metadata": {},
   "outputs": [],
   "source": [
    "lontone = lont[:,0]\n",
    "lattone = latt[:,0]\n",
    "ln = np.ones([384,321])\n",
    "lt = np.ones([384,321])\n",
    "ln[:,:320]=lont\n",
    "ln[:,320]=lontone\n",
    "lt[:,:320]=latt\n",
    "lt[:,320]=lattone"
   ]
  },
  {
   "cell_type": "code",
   "execution_count": null,
   "metadata": {},
   "outputs": [],
   "source": [
    "plotvar = data.variables['aice'][8:6000:12,:,:]"
   ]
  },
  {
   "cell_type": "code",
   "execution_count": null,
   "metadata": {},
   "outputs": [],
   "source": [
    "plotvar.shape"
   ]
  },
  {
   "cell_type": "code",
   "execution_count": null,
   "metadata": {},
   "outputs": [],
   "source": [
    "nu = np.arange(1,500,1)\n",
    "i=0"
   ]
  },
  {
   "cell_type": "code",
   "execution_count": null,
   "metadata": {},
   "outputs": [],
   "source": [
    "\n",
    "\n",
    "    for mm in nu:\n",
    "        data1= plotvar[mm,:,:]\n",
    "        plotvarone = data1[:,0]\n",
    "        plot = np.ones([384,321])\n",
    "        plot[:,:320]=data1\n",
    "        plot[:,320]=plotvarone\n",
    "\n",
    "        # Pick some of the nicer colors from the palette...\n",
    "        nice_cmap=plt.get_cmap('jet')\n",
    "        lev_cmap = nice_cmap([10,20,30,40,50,60,70,80,90,100,110,120,140,150,160,170,180,190,200,210,220,230,240,290,300])\n",
    "        #new_cmap = cols.ListedColormap(lev_cmap,\"praj_cmap\")\n",
    "        new_cmap = cols.ListedColormap(lev_cmap,\"jet\")\n",
    "        #nice_levels = [0,10,20,24,28,32,36,40,44,48,52,56,60,64,68,72,76,80,84,88,92,96,100]\n",
    "        nice_levels = [10,20,30,40,50,60,70,80,90,100]\n",
    "        #nice_levels = [0,0.1,0.2,0.3,0.4,0.5,0.6,0.7,0.8,0.9,1,1.1,1.2,1.3,1.4,1.5]\n",
    "        #colorlevel = [0,20,40,60,80,100]\n",
    "        norm = mpl.colors.BoundaryNorm(nice_levels, new_cmap.N)\n",
    "#********************************************************************\n",
    "#********************************************************************\n",
    "        plt.figure(figsize=(25,20))\n",
    "        my_font = {'fontname':'Cambria', 'size':'40'}\n",
    "\n",
    "        map = Basemap(projection='aeqd', lat_0 = -90, lon_0 = 0,area_thresh = 100,\\\n",
    "                     width = 8000000,height = 8000000,resolution ='h')\n",
    "        map.drawcoastlines()\n",
    "        map.fillcontinents(color = 'lightgrey')\n",
    "        map.drawmapboundary(color='black')\n",
    " \n",
    "        map.drawparallels(np.arange(-90,91,5),labels=[2,0,0,0],**my_font)\n",
    "        map.drawmeridians(np.arange(-180,180,10),labels=[0,0,2,0],**my_font)\n",
    "        x,y=map(ln,lt)\n",
    "        CP = map.contourf(x[:100,:],y[:100,:],plot[:100,:],range(0,100),cmap = nice_cmap,\\\n",
    "                  levels = nice_levels,extend='both')\n",
    "        CP.cmap.set_over('firebrick')\n",
    "        CP.cmap.set_under('darkblue')\n",
    "#cmap = new_cmap,norm =norm,\n",
    "        #CP = map.contourf(x,y,plotvar,vmin = 0.000000001, vmax = 100, cmap=new_cmap)\n",
    "        #cbar =map.colorbar(CP,extend='both',extendfrac='auto',extendrect='True')\n",
    "        cbar =map.colorbar(CP,ticks=nice_levels)\n",
    "        cbar.set_label('(%)', **my_font)\n",
    "        cbar.ax.tick_params(labelsize=45)\n",
    "        i= i+1\n",
    "        #plt.suptitle('SEA ICE Thickness  '+yy+'-'+mm,**my_font)\n",
    "        plt.xlabel('SEA ICE AREA  '+'YEAR-'+str(i)+'-SEP',**my_font)\n",
    "# it is important to save the images in a very sequential manner or ffmpeg will not work !!!\n",
    "        #plt.savefig('aice'+y +'-' + m+ '.png')\n",
    "        plt.savefig(\"/scratch/user/xiliangdiao/figures/videoicearea/PSP_%04d.png\"%(i))"
   ]
  },
  {
   "cell_type": "code",
   "execution_count": null,
   "metadata": {},
   "outputs": [],
   "source": []
  }
 ],
 "metadata": {
  "kernelspec": {
   "display_name": "Python 3",
   "language": "python",
   "name": "python3"
  },
  "language_info": {
   "codemirror_mode": {
    "name": "ipython",
    "version": 3
   },
   "file_extension": ".py",
   "mimetype": "text/x-python",
   "name": "python",
   "nbconvert_exporter": "python",
   "pygments_lexer": "ipython3",
   "version": "3.6.10"
  }
 },
 "nbformat": 4,
 "nbformat_minor": 2
}
