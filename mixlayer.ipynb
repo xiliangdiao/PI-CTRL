{
 "cells": [
  {
   "cell_type": "code",
   "execution_count": 1,
   "metadata": {},
   "outputs": [],
   "source": [
    "import netCDF4 as nc\n",
    "import matplotlib.pyplot as plt\n",
    "from matplotlib.colors import from_levels_and_colors\n",
    "import numpy as np\n",
    "from matplotlib import animation\n",
    "from matplotlib.colors import BoundaryNorm\n",
    "import matplotlib.colors as cols\n",
    "import matplotlib as mpl\n",
    "from mpl_toolkits.basemap import Basemap\n",
    "from matplotlib import ticker, cm\n",
    "import seaborn as sns"
   ]
  },
  {
   "cell_type": "code",
   "execution_count": 2,
   "metadata": {},
   "outputs": [],
   "source": [
    "months = [f\"{x:02d}\" for x in range(9,10)]\n",
    "years = [f\"{x:04d}\" for x in range(150,330)]\n",
    "i =0\n",
    "result = np.zeros((180,800))"
   ]
  },
  {
   "cell_type": "code",
   "execution_count": 3,
   "metadata": {},
   "outputs": [],
   "source": [
    "for yy in years:\n",
    "    for mm in months:\n",
    "        data=nc.Dataset('/ihesp/user/xiliangdiao/data/ihespdata/ocn300/B.E.13.B1850C5.ne120_t12.sehires38.003.sunway_02.pop.h.'+yy+'-'+mm +'.HMXL.nc')\n",
    "        plotvar = data.variables['HMXL'][0,:,:]\n",
    "        lont = data.variables['TLONG']\n",
    "        latt = data.variables['TLAT']\n",
    "\n",
    "        lont = lont[224:343,600:1400]\n",
    "        latt = latt[224:343,600:1400]\n",
    "        plotvar = plotvar[224:343,600:1400]\n",
    "        aveplot = plotvar.mean(axis=0)\n",
    "        \n",
    "        result[i] = aveplot\n",
    "        \n",
    "        i = i + 1"
   ]
  },
  {
   "cell_type": "code",
   "execution_count": 4,
   "metadata": {},
   "outputs": [],
   "source": [
    "A = np.arange(350)\n",
    "B = np.arange(800)\n",
    "xx, yy = np.meshgrid(B, A)\n",
    "\n"
   ]
  },
  {
   "cell_type": "code",
   "execution_count": 5,
   "metadata": {},
   "outputs": [],
   "source": [
    "months = [f\"{x:02d}\" for x in range(9,10)]\n",
    "years = [f\"{x:04d}\" for x in range(330,338)]\n",
    "i =0\n",
    "result2 = np.zeros((8,800))"
   ]
  },
  {
   "cell_type": "code",
   "execution_count": 6,
   "metadata": {},
   "outputs": [],
   "source": [
    "for yy in years:\n",
    "    for mm in months:\n",
    "        data=nc.Dataset('/scratch/user/xiliangdiao/firstpaper/HMXL_B.E.13.B1850C5.ne120_t12.sehires38.003.sunway_02.pop.h.'+yy+'-'+mm +'.nc')\n",
    "        plotvar = data.variables['HMXL'][0,:,:]\n",
    "        lont = data.variables['TLONG']\n",
    "        latt = data.variables['TLAT']\n",
    "\n",
    "        lont = lont[224:343,600:1400]\n",
    "        latt = latt[224:343,600:1400]\n",
    "        plotvar = plotvar[224:343,600:1400]\n",
    "        aveplot = plotvar.mean(axis=0)\n",
    "        \n",
    "        result2[i] = aveplot\n",
    "        \n",
    "        i = i + 1"
   ]
  },
  {
   "cell_type": "code",
   "execution_count": 7,
   "metadata": {},
   "outputs": [
    {
     "ename": "FileNotFoundError",
     "evalue": "[Errno 2] No such file or directory: b'/ihesp/shared/xiliang/cmpr_B.E.13.B1850C5.ne120_t12.sehires38.003.sunway_02.pop.h.nday1.HMXL.nc'",
     "output_type": "error",
     "traceback": [
      "\u001b[0;31m---------------------------------------------------------------------------\u001b[0m",
      "\u001b[0;31mFileNotFoundError\u001b[0m                         Traceback (most recent call last)",
      "\u001b[0;32m<ipython-input-7-b6c74ac572ee>\u001b[0m in \u001b[0;36m<module>\u001b[0;34m\u001b[0m\n\u001b[0;32m----> 1\u001b[0;31m \u001b[0mdata\u001b[0m\u001b[0;34m=\u001b[0m\u001b[0mnc\u001b[0m\u001b[0;34m.\u001b[0m\u001b[0mDataset\u001b[0m\u001b[0;34m(\u001b[0m\u001b[0;34m'/ihesp/shared/xiliang/cmpr_B.E.13.B1850C5.ne120_t12.sehires38.003.sunway_02.pop.h.nday1.HMXL.nc'\u001b[0m\u001b[0;34m)\u001b[0m\u001b[0;34m\u001b[0m\u001b[0;34m\u001b[0m\u001b[0m\n\u001b[0m\u001b[1;32m      2\u001b[0m \u001b[0mplotv\u001b[0m \u001b[0;34m=\u001b[0m \u001b[0mdata\u001b[0m\u001b[0;34m.\u001b[0m\u001b[0mvariables\u001b[0m\u001b[0;34m[\u001b[0m\u001b[0;34m'HMXL'\u001b[0m\u001b[0;34m]\u001b[0m\u001b[0;34m\u001b[0m\u001b[0;34m\u001b[0m\u001b[0m\n\u001b[1;32m      3\u001b[0m \u001b[0mplo\u001b[0m \u001b[0;34m=\u001b[0m \u001b[0mplotv\u001b[0m\u001b[0;34m[\u001b[0m\u001b[0;36m8\u001b[0m\u001b[0;34m:\u001b[0m\u001b[0;36m1944\u001b[0m\u001b[0;34m:\u001b[0m\u001b[0;36m12\u001b[0m\u001b[0;34m,\u001b[0m\u001b[0;36m224\u001b[0m\u001b[0;34m:\u001b[0m\u001b[0;36m343\u001b[0m\u001b[0;34m,\u001b[0m\u001b[0;36m600\u001b[0m\u001b[0;34m:\u001b[0m\u001b[0;36m1400\u001b[0m\u001b[0;34m]\u001b[0m\u001b[0;34m\u001b[0m\u001b[0;34m\u001b[0m\u001b[0m\n\u001b[1;32m      4\u001b[0m \u001b[0mresult3\u001b[0m \u001b[0;34m=\u001b[0m \u001b[0mplo\u001b[0m\u001b[0;34m.\u001b[0m\u001b[0mmean\u001b[0m\u001b[0;34m(\u001b[0m\u001b[0maxis\u001b[0m\u001b[0;34m=\u001b[0m\u001b[0;36m1\u001b[0m\u001b[0;34m)\u001b[0m\u001b[0;34m\u001b[0m\u001b[0;34m\u001b[0m\u001b[0m\n",
      "\u001b[0;32mnetCDF4/_netCDF4.pyx\u001b[0m in \u001b[0;36mnetCDF4._netCDF4.Dataset.__init__\u001b[0;34m()\u001b[0m\n",
      "\u001b[0;32mnetCDF4/_netCDF4.pyx\u001b[0m in \u001b[0;36mnetCDF4._netCDF4._ensure_nc_success\u001b[0;34m()\u001b[0m\n",
      "\u001b[0;31mFileNotFoundError\u001b[0m: [Errno 2] No such file or directory: b'/ihesp/shared/xiliang/cmpr_B.E.13.B1850C5.ne120_t12.sehires38.003.sunway_02.pop.h.nday1.HMXL.nc'"
     ]
    }
   ],
   "source": [
    "data=nc.Dataset('/ihesp/shared/xiliang/cmpr_B.E.13.B1850C5.ne120_t12.sehires38.003.sunway_02.pop.h.nday1.HMXL.nc')\n",
    "plotv = data.variables['HMXL']\n",
    "plo = plotv[8:1944:12,224:343,600:1400]\n",
    "result3 = plo.mean(axis=1)"
   ]
  },
  {
   "cell_type": "code",
   "execution_count": 10,
   "metadata": {},
   "outputs": [],
   "source": [
    "data=nc.Dataset('/ihesp/archive/Sunway_Runs/HR_PI_CTRL/B.E.13.B1850C5.ne120_t12.sehires38.003.sunway_02.pop.h.HMXL.clim.0338.501.nc')\n",
    "plotv = data.variables['HMXL']\n"
   ]
  },
  {
   "cell_type": "code",
   "execution_count": 11,
   "metadata": {},
   "outputs": [
    {
     "data": {
      "text/plain": [
       "(1, 2400, 3600)"
      ]
     },
     "execution_count": 11,
     "metadata": {},
     "output_type": "execute_result"
    }
   ],
   "source": [
    "plotv.shape"
   ]
  },
  {
   "cell_type": "code",
   "execution_count": null,
   "metadata": {},
   "outputs": [],
   "source": [
    "dd = np.vstack((result,result2))\n"
   ]
  },
  {
   "cell_type": "code",
   "execution_count": null,
   "metadata": {},
   "outputs": [],
   "source": [
    "result.shape"
   ]
  },
  {
   "cell_type": "code",
   "execution_count": null,
   "metadata": {},
   "outputs": [],
   "source": [
    "ddd = np.vstack((dd,result3))"
   ]
  },
  {
   "cell_type": "code",
   "execution_count": null,
   "metadata": {},
   "outputs": [],
   "source": [
    "ddd.shape"
   ]
  },
  {
   "cell_type": "code",
   "execution_count": null,
   "metadata": {},
   "outputs": [],
   "source": [
    "# nice_cmap 控制色段 （130 白色）；nice_levels 控制color bar 标号\n",
    "#################################################################\n",
    "nice_cmap=sns.diverging_palette(245, 10, n=10,as_cmap=True)\n",
    "lev_cmap = nice_cmap([130,150,160,170,180,190,200,210,220,230,280]) \n",
    "new_cmap = cols.ListedColormap(lev_cmap,\"praj_cmap\")\n",
    "nice_levels = [0,200,300,400,500,600,700,800,900,1000,1100,1200]\n",
    "norm = mpl.colors.BoundaryNorm(nice_levels, new_cmap.N)"
   ]
  },
  {
   "cell_type": "code",
   "execution_count": null,
   "metadata": {},
   "outputs": [],
   "source": [
    "yy.shape"
   ]
  },
  {
   "cell_type": "code",
   "execution_count": null,
   "metadata": {},
   "outputs": [],
   "source": [
    "# plot the result\n",
    "fig = plt.figure(figsize=(8, 12),dpi=100)\n",
    "ax0 = fig.add_axes([0.15, 0.1, 0.8, 0.8])\n",
    "my_font = {'fontname':'Cambria', 'size':'20'}\n",
    "im = ax0.contourf(xx, yy, ddd/100, cmap = new_cmap,norm =norm,spacing = 'uniform',\\\n",
    "                  levels = nice_levels,extend='max')\n",
    "im.cmap.set_over('firebrick')\n",
    "cbar = fig.colorbar(im, ax=ax0,extendfrac='auto',ticks=nice_levels)\n",
    "cbar.ax.tick_params(labelsize=20)\n",
    "cbar.set_label('(m)', **my_font)\n",
    "ax0.set_title('Mixed Layer Depth')\n",
    "#plt.hlines((27-20)*4, 0, 699, colors = \"y\",linestyles = \"dashed\")\n",
    "#plt.hlines((39-20)*4, 0, 699, colors = \"y\",linestyles = \"dashed\")\n",
    "###plt.hlines((56-20)*4, 0, 699, colors = \"y\",linestyles = \"dashed\")\n",
    "#plt.hlines((69-20)*4, 0, 699, colors = \"y\",linestyles = \"dashed\")\n",
    "#plt.hlines((94-20)*4, 0, 699, colors = \"y\",linestyles = \"dashed\")\n",
    "#plt.hlines((106-20)*4, 0, 699, colors = \"y\",linestyles = \"dashed\")\n",
    "#plt.hlines((120-20)*4, 0, 699, colors = \"y\",linestyles = \"dashed\")\n",
    "#plt.hlines((138-20)*4, 0, 699, colors = \"y\",linestyles = \"dashed\")\n",
    "#plt.hlines((168-20)*4, 0, 699, colors = \"y\",linestyles = \"dashed\")\n",
    "#plt.hlines((203-20)*4, 0, 699, colors = \"y\",linestyles = \"dashed\")\n",
    "#plt.hlines((252-20)*4, 0, 699, colors = \"y\",linestyles = \"dashed\")\n",
    "#plt.hlines((261-20)*4, 0, 699, colors = \"y\",linestyles = \"dashed\")\n",
    "#plt.hlines((300-20)*4, 0, 699, colors = \"y\",linestyles = \"dashed\")\n",
    "#plt.hlines((326-20)*4, 0, 699, colors = \"y\",linestyles = \"dashed\")\n",
    "#plt.vlines(430, 0, 159, colors = \"b\",linestyles = \"dashed\")\n",
    "plt.vlines(200, 0, 349, colors = \"yellow\",linestyles = \"solid\",linewidth=3)\n",
    "plt.vlines(495, 0, 349, colors = \"yellow\",linestyles = \"solid\",linewidth=3)\n",
    "\n",
    "\n",
    "plt.vlines(500, 0, 349, colors = \"green\",linestyles = \"dashed\",linewidth=3)\n",
    "plt.vlines(595, 0, 349, colors = \"green\",linestyles = \"dashed\",linewidth=3)\n",
    "\n",
    "plt.vlines(600, 0, 349, colors = \"blue\",linestyles = \"dotted\",linewidth=3)\n",
    "plt.vlines(695, 0, 349, colors = \"blue\",linestyles = \"dotted\",linewidth=3)\n",
    "\n",
    "\n",
    "plt.vlines(700, 0, 349, colors = \"purple\",linestyles = 'dashdot',linewidth=3)\n",
    "plt.vlines(795, 0, 349, colors = \"purple\",linestyles = \"dashdot\",linewidth=3)\n",
    "#############################################################################\n",
    "##设定X坐标值\n",
    "plt.xticks(range(0,900,100), ['-50','-40','-30', '-20', '-10', '0','10','20', '30','40'],**my_font)\n",
    "#plt.yticks(range(0,181,10), ['150','160','170',\\\n",
    "#                             '180','190','200', '210','220','230', '240','250', '260','270','280','290','300','310','320','330'],**my_font)\n",
    "plt.yticks(range(0,351,50), ['150', '200', '250', '300', '350','400','450','500'],**my_font)\n",
    "plt.xlabel('Longtitude',**my_font)\n",
    "plt.xlabel('Longtitude',**my_font)\n",
    "plt.ylabel('Years',**my_font)\n",
    "ax0.set_title('Mixed-Layer Depth (64$^\\circ$S -69$^\\circ$S)',**my_font)\n",
    "\n",
    "plt.savefig(\"mxld.png\",bbox_inches='tight',dpi=fig.dpi)"
   ]
  },
  {
   "cell_type": "code",
   "execution_count": null,
   "metadata": {},
   "outputs": [],
   "source": []
  },
  {
   "cell_type": "code",
   "execution_count": null,
   "metadata": {},
   "outputs": [],
   "source": []
  }
 ],
 "metadata": {
  "kernelspec": {
   "display_name": "Python 3",
   "language": "python",
   "name": "python3"
  },
  "language_info": {
   "codemirror_mode": {
    "name": "ipython",
    "version": 3
   },
   "file_extension": ".py",
   "mimetype": "text/x-python",
   "name": "python",
   "nbconvert_exporter": "python",
   "pygments_lexer": "ipython3",
   "version": "3.6.10"
  }
 },
 "nbformat": 4,
 "nbformat_minor": 2
}
