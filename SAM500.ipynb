{
 "cells": [
  {
   "cell_type": "code",
   "execution_count": 1,
   "metadata": {},
   "outputs": [],
   "source": [
    "import netCDF4 as nc\n",
    "import matplotlib.pyplot as plt\n",
    "from matplotlib.colors import from_levels_and_colors\n",
    "import numpy as np\n",
    "from matplotlib import animation\n",
    "from matplotlib.colors import BoundaryNorm\n",
    "import matplotlib.colors as cols\n",
    "import matplotlib as mpl\n",
    "from mpl_toolkits.basemap import Basemap\n",
    "from matplotlib import ticker, cm\n",
    "import seaborn as sns"
   ]
  },
  {
   "cell_type": "code",
   "execution_count": 2,
   "metadata": {},
   "outputs": [],
   "source": [
    "# 65 大气压\n",
    "\n",
    "result1 = np.zeros((1955))\n",
    "i = 0\n",
    "nu = [f\"{x:04d}\" for x in range(0,1955)]\n",
    "i =0\n",
    "for mm in nu:\n",
    "    data=nc.Dataset('/ihesp/user/xiliangdiao/ihespdata/air500/CESM_PSL_'+mm+'_.nc')\n",
    "    plot65 = data.variables['PSL'][0,100,0:160]\n",
    "    plot65two = data.variables['PSL'][0,100,-180:-1]\n",
    "    P65 = np.hstack((plot65two,plot65))\n",
    "    A = np.nanmean(P65)\n",
    "    #B = np.nanmean(plot65two)\n",
    "    result1[i] = A\n",
    "    i = i + 1"
   ]
  },
  {
   "cell_type": "code",
   "execution_count": 3,
   "metadata": {},
   "outputs": [],
   "source": [
    "# 40 大气压\n",
    "\n",
    "result2 = np.zeros((1955))\n",
    "i = 0\n",
    "nu = [f\"{x:04d}\" for x in range(0,1955)]\n",
    "i =0\n",
    "for mm in nu:\n",
    "    data=nc.Dataset('/ihesp/user/xiliangdiao/ihespdata/air/TRY/CESM_PSL_'+mm+'_.nc')\n",
    "    plot40 = data.variables['PSL'][0,200,0:160]\n",
    "    #plot40 = data.variables['PSL'][0,200,:]\n",
    "    plot40two = data.variables['PSL'][0,200,-180:-1]\n",
    "    P40 = np.hstack((plot40two,plot40))\n",
    "    A = np.nanmean(P40)\n",
    "    #B = np.nanmean(plot40two)\n",
    "    #result2[i] = (A + B)/2\n",
    "    result2[i] = A\n",
    "    i = i + 1"
   ]
  },
  {
   "cell_type": "code",
   "execution_count": 4,
   "metadata": {},
   "outputs": [],
   "source": [
    "std = np.std(result1)\n",
    "ave = np.nanmean(result1)\n",
    "final65 = (result1 - ave)/std\n",
    "\n",
    "std = np.std(result2)\n",
    "ave = np.nanmean(result2)\n",
    "final40 = (result2 - ave)/std"
   ]
  },
  {
   "cell_type": "code",
   "execution_count": 5,
   "metadata": {},
   "outputs": [],
   "source": [
    "ddd = final65-final40"
   ]
  },
  {
   "cell_type": "code",
   "execution_count": 6,
   "metadata": {},
   "outputs": [],
   "source": [
    "ww2 = np.convolve(ddd, np.ones((60,))/60, mode='valid')\n",
    "ave = np.nanmean(ww2)"
   ]
  },
  {
   "cell_type": "code",
   "execution_count": 8,
   "metadata": {},
   "outputs": [
    {
     "data": {
      "text/plain": [
       "[<matplotlib.lines.Line2D at 0x7f6be5bf6898>]"
      ]
     },
     "execution_count": 8,
     "metadata": {},
     "output_type": "execute_result"
    },
    {
     "data": {
      "image/png": "[encoded data removed]",
      "text/plain": [
       "<Figure size 432x288 with 1 Axes>"
      ]
     },
     "metadata": {
      "needs_background": "light"
     },
     "output_type": "display_data"
    }
   ],
   "source": [
    "plt.plot(ddd)"
   ]
  },
  {
   "cell_type": "code",
   "execution_count": 9,
   "metadata": {},
   "outputs": [
    {
     "data": {
      "text/plain": [
       "(1955,)"
      ]
     },
     "execution_count": 9,
     "metadata": {},
     "output_type": "execute_result"
    }
   ],
   "source": [
    "ddd.shape"
   ]
  },
  {
   "cell_type": "code",
   "execution_count": 8,
   "metadata": {},
   "outputs": [
    {
     "data": {
      "text/plain": [
       "1920"
      ]
     },
     "execution_count": 8,
     "metadata": {},
     "output_type": "execute_result"
    }
   ],
   "source": [
    "160*12"
   ]
  },
  {
   "cell_type": "code",
   "execution_count": 9,
   "metadata": {},
   "outputs": [],
   "source": [
    "re =result1"
   ]
  },
  {
   "cell_type": "code",
   "execution_count": 10,
   "metadata": {},
   "outputs": [],
   "source": [
    "# 保存数据1\n",
    "np.save(file=\"SAM500ddd.npy\", arr=ddd)"
   ]
  },
  {
   "cell_type": "code",
   "execution_count": 11,
   "metadata": {},
   "outputs": [
    {
     "name": "stderr",
     "output_type": "stream",
     "text": [
      "/scratch/user/xiliangdiao/.conda/envs/python3/lib/python3.6/site-packages/ipykernel_launcher.py:18: RuntimeWarning: invalid value encountered in true_divide\n"
     ]
    }
   ],
   "source": [
    "result1 = np.zeros((1955))\n",
    "i = 0\n",
    "nu = [f\"{x:04d}\" for x in range(0,1955)]\n",
    "i =0\n",
    "for mm in nu:\n",
    "    data=nc.Dataset('/ihesp/user/xiliangdiao/ihespdata/air500/CESM_PSL_'+mm+'_.nc')\n",
    "    plot65 = data.variables['PSL'][0,100,0:160]\n",
    "    plot65two = data.variables['PSL'][0,100,-180:-1]\n",
    "    plot40 = data.variables['PSL'][0,200,0:160]\n",
    "    plot40two = data.variables['PSL'][0,200,-180:-1]\n",
    "    ave65 = np.nanmean(plot65)\n",
    "    ave40 = np.nanmean(plot40)\n",
    "    ave65two = np.nanmean(plot65two)\n",
    "    ave40two = np.nanmean(plot40two)\n",
    "    \n",
    "    std = np.std(result1)\n",
    "    ave = np.nanmean(result1)\n",
    "    final65 = (result1 - ave)/std\n",
    "    \n",
    "    SAM = ave65 -ave40\n",
    "    SAMtwo = ave65two -ave40two\n",
    "    result1[i] = (SAM + SAMtwo)/2 \n",
    "    #result1[i] = SAMtwo\n",
    "    i = i + 1"
   ]
  },
  {
   "cell_type": "code",
   "execution_count": null,
   "metadata": {},
   "outputs": [],
   "source": []
  },
  {
   "cell_type": "code",
   "execution_count": 11,
   "metadata": {},
   "outputs": [],
   "source": [
    "result1 = np.zeros((96))\n",
    "i = 0\n",
    "nu = [f\"{x:04d}\" for x in range(1,97)]\n",
    "i =0\n",
    "for mm in nu:\n",
    "    data=nc.Dataset('/scratch/user/xiliangdiao/firstpaper/SAM/CESM_PSL_'+mm+'_.nc')\n",
    "    plot65 = data.variables['PSL'][0,100,0:160]\n",
    "    plot65two = data.variables['PSL'][0,100,-180:-1]\n",
    "    P65 = np.hstack((plot65two,plot65))\n",
    "    A = np.nanmean(P65)\n",
    "    #B = np.nanmean(plot65two)\n",
    "    result1[i] = A\n",
    "    i = i + 1"
   ]
  },
  {
   "cell_type": "code",
   "execution_count": 12,
   "metadata": {},
   "outputs": [],
   "source": [
    "result2 = np.zeros((96))\n",
    "i = 0\n",
    "nu = [f\"{x:04d}\" for x in range(1,97)]\n",
    "i =0\n",
    "for mm in nu:\n",
    "    data=nc.Dataset('/scratch/user/xiliangdiao/firstpaper/SAM/CESM_PSL_'+mm+'_.nc')\n",
    "    plot40 = data.variables['PSL'][0,200,0:160]\n",
    "    #plot40 = data.variables['PSL'][0,200,:]\n",
    "    plot40two = data.variables['PSL'][0,200,-180:-1]\n",
    "    P40 = np.hstack((plot40two,plot40))\n",
    "    A = np.nanmean(P40)\n",
    "    #B = np.nanmean(plot40two)\n",
    "    #result2[i] = (A + B)/2\n",
    "    result2[i] = A\n",
    "    i = i + 1"
   ]
  },
  {
   "cell_type": "code",
   "execution_count": 13,
   "metadata": {},
   "outputs": [],
   "source": [
    "std = np.std(result1)\n",
    "ave = np.nanmean(result1)\n",
    "final65 = (result1 - ave)/std\n",
    "\n",
    "std = np.std(result2)\n",
    "ave = np.nanmean(result2)\n",
    "final40 = (result2 - ave)/std"
   ]
  },
  {
   "cell_type": "code",
   "execution_count": 14,
   "metadata": {},
   "outputs": [],
   "source": [
    "ddd = final65-final40"
   ]
  },
  {
   "cell_type": "code",
   "execution_count": 15,
   "metadata": {},
   "outputs": [],
   "source": [
    "# 保存数据2\n",
    "np.save(file=\"SAM330-ddd.npy\", arr=ddd)"
   ]
  },
  {
   "cell_type": "code",
   "execution_count": null,
   "metadata": {},
   "outputs": [],
   "source": []
  }
 ],
 "metadata": {
  "kernelspec": {
   "display_name": "Python 3",
   "language": "python",
   "name": "python3"
  },
  "language_info": {
   "codemirror_mode": {
    "name": "ipython",
    "version": 3
   },
   "file_extension": ".py",
   "mimetype": "text/x-python",
   "name": "python",
   "nbconvert_exporter": "python",
   "pygments_lexer": "ipython3",
   "version": "3.6.10"
  }
 },
 "nbformat": 4,
 "nbformat_minor": 2
}
