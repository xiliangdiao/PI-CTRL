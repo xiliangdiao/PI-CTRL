{
 "cells": [
  {
   "cell_type": "code",
   "execution_count": 1,
   "metadata": {},
   "outputs": [
    {
     "name": "stderr",
     "output_type": "stream",
     "text": [
      "/scratch/user/xiliangdiao/.conda/envs/python3/lib/python3.6/site-packages/ipykernel_launcher.py:47: UserWarning: The following kwargs were not used by contour: 'spacing'\n"
     ]
    },
    {
     "ename": "UFuncTypeError",
     "evalue": "ufunc 'add' did not contain a loop with signature matching types (dtype('<U32'), dtype('<U32')) -> dtype('<U32')",
     "output_type": "error",
     "traceback": [
      "\u001b[0;31m---------------------------------------------------------------------------\u001b[0m",
      "\u001b[0;31mUFuncTypeError\u001b[0m                            Traceback (most recent call last)",
      "\u001b[0;32m<ipython-input-1-5c44e1002b62>\u001b[0m in \u001b[0;36m<module>\u001b[0;34m\u001b[0m\n\u001b[1;32m     57\u001b[0m         \u001b[0mcbar\u001b[0m\u001b[0;34m.\u001b[0m\u001b[0max\u001b[0m\u001b[0;34m.\u001b[0m\u001b[0mtick_params\u001b[0m\u001b[0;34m(\u001b[0m\u001b[0mlabelsize\u001b[0m\u001b[0;34m=\u001b[0m\u001b[0;36m45\u001b[0m\u001b[0;34m)\u001b[0m\u001b[0;34m\u001b[0m\u001b[0;34m\u001b[0m\u001b[0m\n\u001b[1;32m     58\u001b[0m         \u001b[0mcbar\u001b[0m\u001b[0;34m.\u001b[0m\u001b[0mset_label\u001b[0m\u001b[0;34m(\u001b[0m\u001b[0;34m'(years)'\u001b[0m\u001b[0;34m,\u001b[0m \u001b[0;34m**\u001b[0m\u001b[0mmy_font\u001b[0m\u001b[0;34m)\u001b[0m\u001b[0;34m\u001b[0m\u001b[0;34m\u001b[0m\u001b[0m\n\u001b[0;32m---> 59\u001b[0;31m         \u001b[0mplt\u001b[0m\u001b[0;34m.\u001b[0m\u001b[0mxlabel\u001b[0m\u001b[0;34m(\u001b[0m\u001b[0;34m\"Time 0171-09 (depth = 3010m)\"\u001b[0m\u001b[0;34m+\u001b[0m\u001b[0myy\u001b[0m\u001b[0;34m+\u001b[0m\u001b[0;34m'-'\u001b[0m\u001b[0;34m+\u001b[0m\u001b[0mmm\u001b[0m\u001b[0;34m,\u001b[0m\u001b[0;34m**\u001b[0m\u001b[0mmy_font\u001b[0m\u001b[0;34m)\u001b[0m\u001b[0;34m\u001b[0m\u001b[0;34m\u001b[0m\u001b[0m\n\u001b[0m\u001b[1;32m     60\u001b[0m \u001b[0;34m\u001b[0m\u001b[0m\n\u001b[1;32m     61\u001b[0m \u001b[0;34m\u001b[0m\u001b[0m\n",
      "\u001b[0;31mUFuncTypeError\u001b[0m: ufunc 'add' did not contain a loop with signature matching types (dtype('<U32'), dtype('<U32')) -> dtype('<U32')"
     ]
    },
    {
     "name": "stderr",
     "output_type": "stream",
     "text": [
      "findfont: Font family ['Cambria'] not found. Falling back to DejaVu Sans.\n"
     ]
    }
   ],
   "source": [
    "import netCDF4 as nc\n",
    "import matplotlib.pyplot as plt\n",
    "from matplotlib.colors import from_levels_and_colors\n",
    "import numpy as np\n",
    "from matplotlib import animation\n",
    "from matplotlib.colors import BoundaryNorm\n",
    "import matplotlib.colors as cols\n",
    "import matplotlib as mpl\n",
    "from mpl_toolkits.basemap import Basemap\n",
    "from matplotlib import ticker, cm\n",
    "import seaborn as sns\n",
    "\n",
    "\n",
    "\n",
    "months = [f\"{x:02d}\" for x in range(1,13)]\n",
    "years = [f\"{x:04d}\" for x in range(141,181)]\n",
    "i =0\n",
    "for yy in years:\n",
    "    for mm in months:\n",
    "        data=nc.Dataset('/ihesp/xiliangdiao/ihespdata/ocn1/B.E.13.B1850C5.ne120_t12.sehires38.003.sunway_02.pop.h.'+yy+'-'+mm +'.IAGE.nc')\n",
    "        plotvar = data.variables['IAGE'][0,:,:]\n",
    "        lont = data.variables['TLONG']\n",
    "        latt = data.variables['TLAT']\n",
    "        lont = lont[340,1100:1250]\n",
    "        latt = latt[340,1100:1250]\n",
    "        plotvar = plotvar[:,340,1100:1250]\n",
    "        B= lont\n",
    "        data1=nc.Dataset('/ihesp/xiliangdiao/ihespdata/ocn1/B.E.13.B1850C5.ne120_t12.sehires38.003.sunway_02.pop.h.0162-09.z_t.nc')\n",
    "        A = data1.variables['z_t'][:]/100\n",
    "        xx, yy = np.meshgrid(B, A)\n",
    "####################################\n",
    "        #plotvar[plotvar <0] = np.nan\n",
    "        my_font = {'fontname':'Cambria', 'size':'40'}\n",
    "        # Pick some of the nicer colors from the palette...\n",
    "        nice_cmap=sns.diverging_palette(245, 15, n=12,as_cmap=True)\n",
    "        #nice_cmap=sns.diverging_palette(245, 10, n=10,as_cmap=True)\n",
    "        lev_cmap = nice_cmap([0,50,100,170,210,230]) \n",
    "        new_cmap = cols.ListedColormap(lev_cmap,\"praj_cmap\")\n",
    "        #nice_levels = [20,40,60,80,100,120,140,160]\n",
    "        nice_levels = [10,20,30,40,50,60,70,80,100]\n",
    "        norm = mpl.colors.BoundaryNorm(nice_levels, new_cmap.N)\n",
    "        #********************************************************************\n",
    "\n",
    "        fig = plt.figure(figsize=(9.4, 7.7), dpi=100)\n",
    "        ax0 = fig.add_axes([0.1, 0.1, 0.8, 0.8])\n",
    "        #CP = map.contourf(x,y,plotvar,cmap = new_cmap)\n",
    "        im = ax0.contourf(xx[:50,:], yy[:50,:], plotvar[:50,:],cmap=new_cmap,norm =norm,spacing = 'uniform',levels = nice_levels,extend='both')\n",
    "        im.cmap.set_over('firebrick')\n",
    "        im.cmap.set_under('darkblue')\n",
    "        ax0.set_facecolor(\"black\")\n",
    "        #CP = map.contourf(x,y,plotvar,spacing = 'uniform',levels = nice_levels,extend='both')\n",
    "        \n",
    "        #CP.cmap.set_over('yellow')\n",
    "        #CP.cmap.set_under('black')\n",
    "        cbar =fig.colorbar(im,extend='both',extendfrac='auto')\n",
    "#cbar =map.colorbar(CP)\n",
    "        cbar.ax.tick_params(labelsize=45) \n",
    "        cbar.set_label('(years)', **my_font)\n",
    "        plt.xlabel(\"Time 0171-09 (depth = 3010m)\"+yy+'-'+mm,**my_font)\n",
    "\n",
    "        \n",
    "        i= i+1\n",
    "\n",
    "        plt.savefig(\"/scratch/user/xiliangdiao/plot/videoage/PSP_%04d.png\"%(i))"
   ]
  }
 ],
 "metadata": {
  "kernelspec": {
   "display_name": "Python 3",
   "language": "python",
   "name": "python3"
  },
  "language_info": {
   "codemirror_mode": {
    "name": "ipython",
    "version": 3
   },
   "file_extension": ".py",
   "mimetype": "text/x-python",
   "name": "python",
   "nbconvert_exporter": "python",
   "pygments_lexer": "ipython3",
   "version": "3.6.9"
  }
 },
 "nbformat": 4,
 "nbformat_minor": 2
}
