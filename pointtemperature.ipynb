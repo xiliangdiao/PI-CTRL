{
 "cells": [
  {
   "cell_type": "code",
   "execution_count": 1,
   "metadata": {},
   "outputs": [],
   "source": [
    "import netCDF4 as nc\n",
    "import matplotlib.pyplot as plt\n",
    "from matplotlib.colors import from_levels_and_colors\n",
    "import numpy as np\n",
    "from matplotlib import animation\n",
    "from matplotlib.colors import BoundaryNorm\n",
    "import matplotlib.colors as cols\n",
    "import matplotlib as mpl\n",
    "from mpl_toolkits.basemap import Basemap\n",
    "from matplotlib import ticker, cm\n",
    "import seaborn as sns"
   ]
  },
  {
   "cell_type": "code",
   "execution_count": 2,
   "metadata": {},
   "outputs": [],
   "source": [
    "result = np.zeros((480,26))\n",
    "i=0"
   ]
  },
  {
   "cell_type": "code",
   "execution_count": null,
   "metadata": {},
   "outputs": [],
   "source": [
    "months = [f\"{x:02d}\" for x in range(1,13)]\n",
    "years = [f\"{x:04d}\" for x in range(120,160)]\n",
    "i =0\n",
    "for yy in years:\n",
    "    for mm in months:\n",
    "        data=nc.Dataset('/ihesp/user/xiliangdiao/ihespdata/ocnwhole/B.E.13.B1850C5.ne120_t12.sehires38.003.sunway_02.pop.h.'+yy+'-'+mm +'.TEMP.nc')\n",
    "        plotvar = data.variables['TEMP'][0,:,:]\n",
    "        lont = data.variables['TLONG']\n",
    "        latt = data.variables['TLAT']\n",
    "        plot = plotvar[45,:,:]\n",
    "        result[i,0] = plot[260,1050]\n",
    "        result[i,1] = plot[220,900]\n",
    "        result[i,2] = plot[220,710]\n",
    "        result[i,3] = plot[300,630]\n",
    "        result[i,4] = plot[340,750]\n",
    "        \n",
    "        result[i,5] = plot[390,860]\n",
    "        result[i,6] = plot[520,850]\n",
    "        result[i,7] = plot[600,780]\n",
    "        result[i,8] = plot[650,620]\n",
    "        result[i,9] = plot[700,550]\n",
    "        result[i,10] = plot[740,580]\n",
    "        result[i,11] = plot[800,620]\n",
    "        result[i,12] = plot[880,710]\n",
    "        result[i,13] = plot[980,740]\n",
    "        result[i,14] = plot[1060,760]\n",
    "        result[i,15] = plot[1150,770]\n",
    "        result[i,16] = plot[1200,700]\n",
    "        result[i,17] = plot[1250,640]\n",
    "        result[i,18] = plot[1280,570]\n",
    "        result[i,19] = plot[1330,530]\n",
    "        result[i,20] = plot[1380,460]\n",
    "        result[i,21] = plot[1440,370]\n",
    "        result[i,22] = plot[1500,370]\n",
    "        result[i,23] = plot[1550,400]\n",
    "        result[i,24] = plot[1600,460]\n",
    "        result[i,25] = plot[1600,600]\n",
    "\n",
    "        \n",
    "        i = i + 1"
   ]
  },
  {
   "cell_type": "code",
   "execution_count": null,
   "metadata": {},
   "outputs": [],
   "source": [
    "jun = result.mean(axis = 0)\n",
    "\n",
    "pingjun = result - jun"
   ]
  },
  {
   "cell_type": "code",
   "execution_count": null,
   "metadata": {},
   "outputs": [],
   "source": [
    "final = np.zeros((40,26))\n",
    "years = np.arange(0,480,12)\n",
    "i = 0\n",
    "for ii in years:\n",
    "    final[i,:] = (result[ii,:]+result[ii+1,:]+result[ii+2,:]+result[ii+3,:]+result[ii+4,:]+result[ii+5,:]+result[ii+6,:]+result[ii+7,:]+result[ii+8,:]+result[ii+9,:]+result[ii+10,:]+result[ii+11,:])/12\n",
    "    #final[i,:] = (result[ii,:]+result[ii+1,:]+result[ii+2,:])/3\n",
    "    i = i+1"
   ]
  },
  {
   "cell_type": "code",
   "execution_count": null,
   "metadata": {},
   "outputs": [],
   "source": []
  },
  {
   "cell_type": "code",
   "execution_count": null,
   "metadata": {},
   "outputs": [],
   "source": [
    "resultmean = final.mean(axis = 0)\n",
    "\n",
    "ave = final - resultmean"
   ]
  },
  {
   "cell_type": "code",
   "execution_count": null,
   "metadata": {},
   "outputs": [],
   "source": [
    "A = np.arange(480)\n",
    "B = np.arange(26)\n",
    "xx, yy = np.meshgrid(B, A)"
   ]
  },
  {
   "cell_type": "code",
   "execution_count": null,
   "metadata": {},
   "outputs": [],
   "source": [
    "nice_cmap=sns.diverging_palette(245, 15, n=13,as_cmap=True)\n",
    "#nice_cmap=sns.diverging_palette(245, 10, n=10,as_cmap=True)\n",
    "lev_cmap = nice_cmap([1,30,50,70,100,130,140,150,160,170,190,210,220,230,240]) \n",
    "new_cmap = cols.ListedColormap(lev_cmap,\"praj_cmap\")\n",
    "my_font = {'fontname':'Cambria', 'size':'20'}\n",
    "#nice_levels = [-0.6,-0.4,-0.2,0,0.2,0.4,0.6,0.8,1.0,1.2,1.4,1.6,1.8,2,2.2]\n",
    "#nice_levels = [-0.4,-0.2,-0.15,-0.1,-0.05,0,0.05,0.1,0.15,0.2,0.4]\n",
    "#nice_levels = [-0.6,-0.55,-0.5,-0.45,-0.4,-0.35,-0.3,-0.25,-0.2]\n",
    "#nice_levels = [-1.75,-1.7,-1.65,-1.6,-1.55,-1.5,-1.45,-1.4,-1,-0.8,-0.4,-0.1] # for top 55m\n",
    "#nice_levels = [-0.1,0,0.1,0.2,0.3,0.4,0.5,0.6,0.7,0.8,0.9,1.0,1.1,1.2,1.3,1.4]\n",
    "nice_levels = [-0.1,-0.05,-0.03,-0.01,-0.005,-0.002,0,0.001,0.003,0.005,0.01,0.02,0.05,0.1]\n",
    "norm = mpl.colors.BoundaryNorm(nice_levels, new_cmap.N)"
   ]
  },
  {
   "cell_type": "code",
   "execution_count": null,
   "metadata": {},
   "outputs": [],
   "source": [
    "A = np.arange(40)\n",
    "B = np.arange(26)\n",
    "xx, yy = np.meshgrid(B, A)"
   ]
  },
  {
   "cell_type": "code",
   "execution_count": null,
   "metadata": {},
   "outputs": [],
   "source": [
    "# plot the result\n",
    "fig = plt.figure(figsize=(10, 7),dpi=100)\n",
    "ax0 = fig.add_axes([0.1, 0.1, 0.8, 0.8])\n",
    "my_font = {'fontname':'Cambria', 'size':'20'}\n",
    "im = ax0.contourf(yy, xx, ave, cmap = new_cmap,norm =norm,spacing = 'uniform',\\\n",
    "                  levels = nice_levels,extend='both')\n",
    "#plt.hlines(16, 0,39 , colors = \"g\",linestyles = \"dashed\")\n",
    "im.cmap.set_over('firebrick')\n",
    "im.cmap.set_under('darkblue')\n",
    "cbar = fig.colorbar(im, ax=ax0,ticks=nice_levels,extendfrac='auto')\n",
    "cbar.ax.tick_params(labelsize=20)\n",
    "cbar.set_label('($^\\circ$C)', **my_font)\n",
    "#plt.clabel(CS, inline=0.1, fontsize=10)\n",
    "\n",
    "#############################################################################\n",
    "##设定X坐标值\n",
    "#plt.xticks(range(0,40,5), ['0','5','10', '15', '20', '25','30','35','40'],**my_font)\n",
    "plt.xticks(range(0,40,5), ['120','125','130', '135', '140', '145','150','155','160'],**my_font)\n",
    "plt.yticks(range(0,25,5), ['0', '5', '10', '15', '20','25'],**my_font)\n",
    "plt.xlabel('Years',**my_font)\n",
    "plt.ylabel('Distance (10$^3$ km)',**my_font)\n",
    "ax0.set_title('Temperature Anomaly (1968m)',**my_font)\n",
    "plt.savefig(\"t.png\")"
   ]
  },
  {
   "cell_type": "code",
   "execution_count": null,
   "metadata": {},
   "outputs": [],
   "source": [
    "final[:,13]"
   ]
  },
  {
   "cell_type": "code",
   "execution_count": null,
   "metadata": {},
   "outputs": [],
   "source": [
    "filter1 = np.zeros((8,26))\n",
    "years = np.arange(0,40,5)\n",
    "i = 0\n",
    "for ii in years:\n",
    "    #final[i,:] = (result[ii,:]+result[ii+1,:]+result[ii+2,:]+result[ii+3,:]+result[ii+4,:]+result[ii+5,:]+result[ii+6,:]+result[ii+7,:]+result[ii+8,:]+result[ii+9,:]+result[ii+10,:]+result[ii+11,:])/12\n",
    "    #filter1[i,:] = (final[ii,:]+final[ii+1,:]+final[ii+2,:]+final[ii+3,:]+final[ii+4,:]+final[ii+5,:]+final[ii+6,:]+final[ii+7,:]+final[ii+8,:]+final[ii+9,:])/10\n",
    "    filter1[i,:] = (final[ii,:]+final[ii+1,:]+final[ii+2,:]+final[ii+3,:]+final[ii+4,:])/5\n",
    "    i = i+1"
   ]
  },
  {
   "cell_type": "code",
   "execution_count": null,
   "metadata": {},
   "outputs": [],
   "source": [
    "A = np.arange(8)\n",
    "B = np.arange(26)\n",
    "xx, yy = np.meshgrid(B, A)"
   ]
  },
  {
   "cell_type": "code",
   "execution_count": null,
   "metadata": {},
   "outputs": [],
   "source": [
    "mean = filter1.mean(axis = 0)\n",
    "\n",
    "ave1 = filter1 - mean"
   ]
  },
  {
   "cell_type": "code",
   "execution_count": null,
   "metadata": {},
   "outputs": [],
   "source": [
    "# plot the result\n",
    "fig = plt.figure(figsize=(10, 7),dpi=100)\n",
    "ax0 = fig.add_axes([0.1, 0.1, 0.8, 0.8])\n",
    "my_font = {'fontname':'Cambria', 'size':'20'}\n",
    "im = ax0.contourf(yy, xx, ave1, cmap = new_cmap,norm =norm,spacing = 'uniform',\\\n",
    "                  levels = nice_levels,extend='both')\n",
    "#plt.hlines(16, 0,39 , colors = \"g\",linestyles = \"dashed\")\n",
    "im.cmap.set_over('firebrick')\n",
    "im.cmap.set_under('darkblue')\n",
    "cbar = fig.colorbar(im, ax=ax0,ticks=nice_levels,extendfrac='auto')\n",
    "cbar.ax.tick_params(labelsize=20)\n",
    "cbar.set_label('($^\\circ$C)', **my_font)\n",
    "#plt.clabel(CS, inline=0.1, fontsize=10)\n",
    "\n",
    "#############################################################################\n",
    "##设定X坐标值\n",
    "#plt.xticks(range(0,40,5), ['0','5','10', '15', '20', '25','30','35','40'],**my_font)\n",
    "#plt.xticks(range(0,4,1), ['140','145','150', '155', '160', '165','170','175','180'],**my_font)\n",
    "plt.xticks(range(0,8,2), ['120','130', '140', '150','160'],**my_font)\n",
    "plt.yticks(range(0,25,5), ['0', '5', '10', '15', '20','25'],**my_font)\n",
    "plt.xlabel('Years',**my_font)\n",
    "plt.ylabel('Distance (10$^3$ km)',**my_font)\n",
    "ax0.set_title('Temperature Anomaly (3876m) 10year filter',**my_font)\n",
    "plt.savefig(\"te1.png\")"
   ]
  },
  {
   "cell_type": "code",
   "execution_count": null,
   "metadata": {},
   "outputs": [],
   "source": []
  },
  {
   "cell_type": "code",
   "execution_count": 1,
   "metadata": {},
   "outputs": [
    {
     "data": {
      "text/plain": [
       "'/scratch/user/xiliangdiao/plot'"
      ]
     },
     "execution_count": 1,
     "metadata": {},
     "output_type": "execute_result"
    }
   ],
   "source": [
    "pwd"
   ]
  },
  {
   "cell_type": "code",
   "execution_count": null,
   "metadata": {},
   "outputs": [],
   "source": []
  }
 ],
 "metadata": {
  "kernelspec": {
   "display_name": "Python 3",
   "language": "python",
   "name": "python3"
  },
  "language_info": {
   "codemirror_mode": {
    "name": "ipython",
    "version": 3
   },
   "file_extension": ".py",
   "mimetype": "text/x-python",
   "name": "python",
   "nbconvert_exporter": "python",
   "pygments_lexer": "ipython3",
   "version": "3.6.6"
  }
 },
 "nbformat": 4,
 "nbformat_minor": 2
}
