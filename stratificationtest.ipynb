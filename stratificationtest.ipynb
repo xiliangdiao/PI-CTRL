{
 "cells": [
  {
   "cell_type": "code",
   "execution_count": 1,
   "id": "ffa33f25",
   "metadata": {},
   "outputs": [],
   "source": [
    "import netCDF4 as nc\n",
    "import matplotlib.pyplot as plt\n",
    "from matplotlib.colors import from_levels_and_colors\n",
    "import numpy as np\n",
    "from matplotlib import animation\n",
    "from matplotlib.colors import BoundaryNorm\n",
    "import matplotlib.colors as cols\n",
    "import matplotlib as mpl\n",
    "from mpl_toolkits.basemap import Basemap\n",
    "from matplotlib import ticker, cm\n",
    "import seaborn as sns"
   ]
  },
  {
   "cell_type": "code",
   "execution_count": 2,
   "id": "6cf372bf",
   "metadata": {},
   "outputs": [],
   "source": [
    "import gsw"
   ]
  },
  {
   "cell_type": "code",
   "execution_count": 3,
   "id": "32ad1970",
   "metadata": {},
   "outputs": [],
   "source": [
    "# 250m\n",
    "data=nc.Dataset('/scratch/group/ihesp/user/xiliangdiao/ihespdata/ocn300/B.E.13.B1850C5.ne120_t12.sehires38.003.sunway_02.pop.h.0167-09.TEMP.nc')\n",
    "plotvar = data.variables['TEMP'][0,:,:]\n",
    "lont = data.variables['TLONG']\n",
    "latt = data.variables['TLAT']\n",
    "temp = plotvar[23,600,1600]"
   ]
  },
  {
   "cell_type": "code",
   "execution_count": 4,
   "id": "276f8464",
   "metadata": {},
   "outputs": [],
   "source": [
    "data=nc.Dataset('/scratch/group/ihesp/user/xiliangdiao/ihespdata/ocn300/B.E.13.B1850C5.ne120_t12.sehires38.003.sunway_02.pop.h.0167-09.SALT.nc')\n",
    "plotvar = data.variables['SALT'][0,:,:]\n",
    "lont = data.variables['TLONG']\n",
    "latt = data.variables['TLAT']\n",
    "salt = plotvar[23,600,1600]"
   ]
  },
  {
   "cell_type": "code",
   "execution_count": 5,
   "id": "50aec4d3",
   "metadata": {},
   "outputs": [],
   "source": [
    "# Calculates Conservative Temperature of seawater from potential temperature\n",
    "consertmp = gsw.CT_from_pt(salt,temp)"
   ]
  },
  {
   "cell_type": "code",
   "execution_count": 6,
   "id": "90e59410",
   "metadata": {},
   "outputs": [],
   "source": [
    "#Calculates potential density anomaly with reference pressure of 0 dbar\n",
    "densityanomaly = gsw.sigma0(salt,consertmp)"
   ]
  },
  {
   "cell_type": "code",
   "execution_count": 7,
   "id": "d636e435",
   "metadata": {},
   "outputs": [
    {
     "data": {
      "text/plain": [
       "26.96797476549068"
      ]
     },
     "execution_count": 7,
     "metadata": {},
     "output_type": "execute_result"
    }
   ],
   "source": [
    "densityanomaly"
   ]
  },
  {
   "cell_type": "code",
   "execution_count": 8,
   "id": "b958a167",
   "metadata": {},
   "outputs": [],
   "source": [
    "d250 = densityanomaly"
   ]
  },
  {
   "cell_type": "code",
   "execution_count": 9,
   "id": "b275fd08",
   "metadata": {},
   "outputs": [],
   "source": [
    "# 0m\n",
    "data=nc.Dataset('/scratch/group/ihesp/user/xiliangdiao/ihespdata/ocn300/B.E.13.B1850C5.ne120_t12.sehires38.003.sunway_02.pop.h.0167-09.TEMP.nc')\n",
    "plotvar = data.variables['TEMP'][0,:,:]\n",
    "lont = data.variables['TLONG']\n",
    "latt = data.variables['TLAT']\n",
    "temp = plotvar[0,600,1600]"
   ]
  },
  {
   "cell_type": "code",
   "execution_count": 10,
   "id": "60f231de",
   "metadata": {},
   "outputs": [],
   "source": [
    "data=nc.Dataset('/scratch/group/ihesp/user/xiliangdiao/ihespdata/ocn300/B.E.13.B1850C5.ne120_t12.sehires38.003.sunway_02.pop.h.0167-09.SALT.nc')\n",
    "plotvar = data.variables['SALT'][0,:,:]\n",
    "lont = data.variables['TLONG']\n",
    "latt = data.variables['TLAT']\n",
    "salt = plotvar[0,600,1600]"
   ]
  },
  {
   "cell_type": "code",
   "execution_count": 11,
   "id": "f10819f3",
   "metadata": {},
   "outputs": [],
   "source": [
    "# Calculates Conservative Temperature of seawater from potential temperature\n",
    "consertmp = gsw.CT_from_pt(salt,temp)"
   ]
  },
  {
   "cell_type": "code",
   "execution_count": 12,
   "id": "2fe1a073",
   "metadata": {},
   "outputs": [],
   "source": [
    "#Calculates potential density anomaly with reference pressure of 0 dbar\n",
    "densityanomaly = gsw.sigma0(salt,consertmp)"
   ]
  },
  {
   "cell_type": "code",
   "execution_count": 13,
   "id": "b190b2c5",
   "metadata": {},
   "outputs": [
    {
     "data": {
      "text/plain": [
       "26.845985672986217"
      ]
     },
     "execution_count": 13,
     "metadata": {},
     "output_type": "execute_result"
    }
   ],
   "source": [
    "densityanomaly"
   ]
  },
  {
   "cell_type": "code",
   "execution_count": 14,
   "id": "202a698b",
   "metadata": {},
   "outputs": [
    {
     "data": {
      "text/plain": [
       "26.96797476549068"
      ]
     },
     "execution_count": 14,
     "metadata": {},
     "output_type": "execute_result"
    }
   ],
   "source": [
    "d250"
   ]
  },
  {
   "cell_type": "code",
   "execution_count": 29,
   "id": "5e753ab8",
   "metadata": {},
   "outputs": [],
   "source": [
    "# ML salinity needed to 250m\n",
    "for test_psal in np.arange(33,38,0.001):\n",
    "    ml_ctmp = gsw.CT_from_pt(test_psal,temp)\n",
    "    if gsw.sigma0(test_psal,ml_ctmp) >= d250:\n",
    "        test_psal\n",
    "        eee = test_psal\n",
    "        break"
   ]
  },
  {
   "cell_type": "code",
   "execution_count": 30,
   "id": "65c7b114",
   "metadata": {},
   "outputs": [
    {
     "data": {
      "text/plain": [
       "33.90399999999789"
      ]
     },
     "execution_count": 30,
     "metadata": {},
     "output_type": "execute_result"
    }
   ],
   "source": [
    "eee"
   ]
  },
  {
   "cell_type": "code",
   "execution_count": null,
   "id": "1bfc02ac",
   "metadata": {},
   "outputs": [],
   "source": []
  }
 ],
 "metadata": {
  "kernelspec": {
   "display_name": "Python 3",
   "language": "python",
   "name": "python3"
  },
  "language_info": {
   "codemirror_mode": {
    "name": "ipython",
    "version": 3
   },
   "file_extension": ".py",
   "mimetype": "text/x-python",
   "name": "python",
   "nbconvert_exporter": "python",
   "pygments_lexer": "ipython3",
   "version": "3.6.10"
  }
 },
 "nbformat": 4,
 "nbformat_minor": 5
}
