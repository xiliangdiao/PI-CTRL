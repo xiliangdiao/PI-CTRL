{
 "cells": [
  {
   "cell_type": "code",
   "execution_count": 1,
   "metadata": {},
   "outputs": [],
   "source": [
    "import netCDF4 as nc\n",
    "import matplotlib.pyplot as plt\n",
    "from matplotlib.colors import from_levels_and_colors\n",
    "import numpy as np\n",
    "from matplotlib import animation\n",
    "from matplotlib.colors import BoundaryNorm\n",
    "import matplotlib.colors as cols\n",
    "import matplotlib as mpl\n",
    "from mpl_toolkits.basemap import Basemap\n",
    "from matplotlib import ticker, cm\n",
    "import seaborn as sns\n"
   ]
  },
  {
   "cell_type": "code",
   "execution_count": 2,
   "metadata": {},
   "outputs": [],
   "source": [
    "data1=nc.Dataset('/ihesp/user/xiliangdiao/data/ihespdata/air500/TAUX/CESM_TAU_0291_.nc')\n",
    "TAUX1 = data1.variables['TAUX'][0,80:160,-220:]\n",
    "TAUX2 = data1.variables['TAUX'][0,80:160,:160]\n",
    "TAUX = np.hstack((TAUX1,TAUX2))\n",
    "lont1 = data1.variables['lon'][-220:]\n",
    "lont2 = data1.variables['lon'][:160]\n",
    "lont = np.hstack((lont1,lont2))\n",
    "latt = data1.variables['lat'][80:160]\n",
    "\n",
    "a = np.arange(0,80)\n",
    "import math\n",
    "#math.cos(math.radians(latt[:,3][399]))\n",
    "wholedis = np.zeros(80)\n",
    "for j in a:\n",
    "    wholedis[j] = 111.34* math.cos(math.radians(latt[j]))"
   ]
  },
  {
   "cell_type": "code",
   "execution_count": 3,
   "metadata": {},
   "outputs": [
    {
     "data": {
      "text/plain": [
       "masked_array(data=[-70.  , -69.75, -69.5 , -69.25, -69.  , -68.75, -68.5 ,\n",
       "                   -68.25, -68.  , -67.75, -67.5 , -67.25, -67.  , -66.75,\n",
       "                   -66.5 , -66.25, -66.  , -65.75, -65.5 , -65.25, -65.  ,\n",
       "                   -64.75, -64.5 , -64.25, -64.  , -63.75, -63.5 , -63.25,\n",
       "                   -63.  , -62.75, -62.5 , -62.25, -62.  , -61.75, -61.5 ,\n",
       "                   -61.25, -61.  , -60.75, -60.5 , -60.25, -60.  , -59.75,\n",
       "                   -59.5 , -59.25, -59.  , -58.75, -58.5 , -58.25, -58.  ,\n",
       "                   -57.75, -57.5 , -57.25, -57.  , -56.75, -56.5 , -56.25,\n",
       "                   -56.  , -55.75, -55.5 , -55.25, -55.  , -54.75, -54.5 ,\n",
       "                   -54.25, -54.  , -53.75, -53.5 , -53.25, -53.  , -52.75,\n",
       "                   -52.5 , -52.25, -52.  , -51.75, -51.5 , -51.25, -51.  ,\n",
       "                   -50.75, -50.5 , -50.25],\n",
       "             mask=False,\n",
       "       fill_value=1e+20)"
      ]
     },
     "execution_count": 3,
     "metadata": {},
     "output_type": "execute_result"
    }
   ],
   "source": [
    "latt"
   ]
  },
  {
   "cell_type": "code",
   "execution_count": 4,
   "metadata": {},
   "outputs": [],
   "source": [
    "years = [f\"{x:04d}\" for x in range(0,1944)]\n",
    "ii =0\n",
    "result = np.zeros(1944)\n",
    "\n",
    "for yy in years:\n",
    "    data1=nc.Dataset('/ihesp/user/xiliangdiao/data/ihespdata/air500/TAUX/CESM_TAU_'+yy+'_.nc')\n",
    "    TAUX1 = data1.variables['TAUX'][0,80:160,-220:]\n",
    "    TAUX2 = data1.variables['TAUX'][0,80:160,:160]\n",
    "    TAUX = np.hstack((TAUX1,TAUX2))\n",
    "    lont1 = data1.variables['lon'][-220:]\n",
    "    lont2 = data1.variables['lon'][:160]\n",
    "    lont = np.hstack((lont1,lont2))\n",
    "    latt = data1.variables['lat'][80:160]\n",
    "    ###### (u2-u1)/(y2-y1)\n",
    "    a = np.arange(0,79)\n",
    "    A1= np.zeros([80,380])\n",
    "    for i in a:\n",
    "        A1[i,:] = (TAUX[i+1,:]-TAUX[i,:])/(0.25*110.95)\n",
    "        ###################################\n",
    "    A3 = A1[0:79,0:379]\n",
    "        \n",
    "    result[ii] = np.nanmean(A3)\n",
    "    ii = ii + 1\n",
    "    np.savetxt('new338-500new.out',result)"
   ]
  },
  {
   "cell_type": "code",
   "execution_count": 5,
   "metadata": {},
   "outputs": [
    {
     "data": {
      "text/plain": [
       "162.0"
      ]
     },
     "execution_count": 5,
     "metadata": {},
     "output_type": "execute_result"
    }
   ],
   "source": [
    "1944/12"
   ]
  },
  {
   "cell_type": "code",
   "execution_count": 6,
   "metadata": {},
   "outputs": [],
   "source": [
    "years = [f\"{x:04d}\" for x in range(0,3720)]\n",
    "ii =0\n",
    "result = np.zeros(3720)\n",
    "\n",
    "for yy in years:\n",
    "    data1=nc.Dataset('/ihesp/user/xiliangdiao/data/ihespdata/air500/TAUX300/CESM_TAU_'+yy+'_.nc')\n",
    "    TAUX1 = data1.variables['TAUX'][0,80:160,-220:]\n",
    "    TAUX2 = data1.variables['TAUX'][0,80:160,:160]\n",
    "    TAUX = np.hstack((TAUX1,TAUX2))\n",
    "    lont1 = data1.variables['lon'][-220:]\n",
    "    lont2 = data1.variables['lon'][:160]\n",
    "    lont = np.hstack((lont1,lont2))\n",
    "    latt = data1.variables['lat'][80:160]\n",
    "    ###### (u2-u1)/(y2-y1)\n",
    "    a = np.arange(0,79)\n",
    "    A1= np.zeros([80,380])\n",
    "    for i in a:\n",
    "        A1[i,:] = (TAUX[i+1,:]-TAUX[i,:])/(0.25*110.95)\n",
    "        ###################################\n",
    "    A3 = A1[0:79,0:379]\n",
    "        \n",
    "    result[ii] = np.nanmean(A3)\n",
    "    ii = ii + 1\n",
    "    np.savetxt('new20-330new.out',result)"
   ]
  },
  {
   "cell_type": "code",
   "execution_count": 7,
   "metadata": {},
   "outputs": [
    {
     "data": {
      "text/plain": [
       "310.0"
      ]
     },
     "execution_count": 7,
     "metadata": {},
     "output_type": "execute_result"
    }
   ],
   "source": [
    "3720/12"
   ]
  },
  {
   "cell_type": "code",
   "execution_count": 8,
   "metadata": {},
   "outputs": [],
   "source": [
    "years = [f\"{x:04d}\" for x in range(0,96)]\n",
    "ii =0\n",
    "result = np.zeros(96)\n",
    "# here PSL is TAUX !!!!!!!\n",
    "for yy in years:\n",
    "    data1=nc.Dataset('/scratch/user/xiliangdiao/firstpaper/TAUX/CESM_PSL_'+yy+'_.nc')\n",
    "    TAUX1 = data1.variables['PSL'][0,80:160,-220:]\n",
    "    TAUX2 = data1.variables['PSL'][0,80:160,:160]\n",
    "    TAUX = np.hstack((TAUX1,TAUX2))\n",
    "    lont1 = data1.variables['lon'][-220:]\n",
    "    lont2 = data1.variables['lon'][:160]\n",
    "    lont = np.hstack((lont1,lont2))\n",
    "    latt = data1.variables['lat'][80:160]\n",
    "    ###### (u2-u1)/(y2-y1)\n",
    "    a = np.arange(0,79)\n",
    "    A1= np.zeros([80,380])\n",
    "    for i in a:\n",
    "        A1[i,:] = (TAUX[i+1,:]-TAUX[i,:])/(0.25*110.95)\n",
    "        ###################################\n",
    "    A3 = A1[0:79,0:379]\n",
    "        \n",
    "    result[ii] = np.nanmean(A3)\n",
    "    ii = ii + 1\n",
    "    np.savetxt('new330-338new.out',result)"
   ]
  },
  {
   "cell_type": "code",
   "execution_count": 9,
   "metadata": {},
   "outputs": [
    {
     "data": {
      "text/plain": [
       "(96,)"
      ]
     },
     "execution_count": 9,
     "metadata": {},
     "output_type": "execute_result"
    }
   ],
   "source": [
    "result.shape"
   ]
  },
  {
   "cell_type": "code",
   "execution_count": null,
   "metadata": {},
   "outputs": [],
   "source": []
  },
  {
   "cell_type": "code",
   "execution_count": null,
   "metadata": {},
   "outputs": [],
   "source": []
  },
  {
   "cell_type": "code",
   "execution_count": 37,
   "metadata": {},
   "outputs": [],
   "source": [
    "years = [f\"{x:04d}\" for x in range(0,3720)]\n",
    "ii =0\n",
    "result = np.zeros(3720)\n",
    "\n",
    "for yy in years:    \n",
    "    data2=nc.Dataset('/ihesp/user/xiliangdiao/data/ihespdata/air500/TAUY300/CESM_TAUY_'+yy+'_.nc')\n",
    "    TAUY1 = data2.variables['TAUY'][0,107:157,-220:]\n",
    "    TAUY2 = data2.variables['TAUY'][0,107:157,:160]\n",
    "    TAUY = np.hstack((TAUY1,TAUY2))\n",
    "\n",
    "        ####################################\n",
    "        ###### (v2-v1)/(x2-x1)\n",
    "    b = np.arange(0,379)\n",
    "    A2= np.zeros([50,380])\n",
    "    for i in b:\n",
    "        A2[:,i] = (TAUY[:,i+1]-TAUY[:,i])/(0.25*wholedis[j])\n",
    "        #####################################\n",
    "    A3 = A2[0:49,0:379]\n",
    "        \n",
    "    result[ii] = np.nanmean(A3)\n",
    "        \n",
    "    ii = ii + 1\n",
    "#********************************************************************\n",
    "    np.savetxt('TAUY20-330new.out',result)"
   ]
  },
  {
   "cell_type": "code",
   "execution_count": 11,
   "metadata": {},
   "outputs": [
    {
     "data": {
      "text/plain": [
       "(3719,)"
      ]
     },
     "execution_count": 11,
     "metadata": {},
     "output_type": "execute_result"
    }
   ],
   "source": [
    "result.shape"
   ]
  },
  {
   "cell_type": "code",
   "execution_count": 40,
   "metadata": {},
   "outputs": [],
   "source": [
    "years = [f\"{x:04d}\" for x in range(0,1955)]\n",
    "ii =0\n",
    "result = np.zeros(1955)\n",
    "\n",
    "for yy in years:    \n",
    "    data2=nc.Dataset('/ihesp/user/xiliangdiao/data/ihespdata/air500/TAUY/CESM_TAUY_'+yy+'_.nc')\n",
    "    TAUY1 = data2.variables['TAUY'][0,107:157,-220:]\n",
    "    TAUY2 = data2.variables['TAUY'][0,107:157,:160]\n",
    "    TAUY = np.hstack((TAUY1,TAUY2))\n",
    "\n",
    "        ####################################\n",
    "        ###### (v2-v1)/(x2-x1)\n",
    "    b = np.arange(0,379)\n",
    "    A2= np.zeros([50,380])\n",
    "    for i in b:\n",
    "        A2[:,i] = (TAUY[:,i+1]-TAUY[:,i])/(0.25*wholedis[j])\n",
    "        #####################################\n",
    "    A3 = A2[0:49,0:379]\n",
    "        \n",
    "    result[ii] = np.nanmean(A3)\n",
    "        \n",
    "    ii = ii + 1\n",
    "#********************************************************************\n",
    "    np.savetxt('TAUY338-500new.out',result)"
   ]
  },
  {
   "cell_type": "code",
   "execution_count": 41,
   "metadata": {},
   "outputs": [
    {
     "data": {
      "text/plain": [
       "162.0"
      ]
     },
     "execution_count": 41,
     "metadata": {},
     "output_type": "execute_result"
    }
   ],
   "source": [
    "1944/12"
   ]
  },
  {
   "cell_type": "code",
   "execution_count": 42,
   "metadata": {},
   "outputs": [
    {
     "ename": "ValueError",
     "evalue": "could not broadcast input array from shape (50) into shape (5)",
     "output_type": "error",
     "traceback": [
      "\u001b[0;31m---------------------------------------------------------------------------\u001b[0m",
      "\u001b[0;31mValueError\u001b[0m                                Traceback (most recent call last)",
      "\u001b[0;32m<ipython-input-42-c74e7ffcb241>\u001b[0m in \u001b[0;36m<module>\u001b[0;34m\u001b[0m\n\u001b[1;32m     14\u001b[0m     \u001b[0mA2\u001b[0m\u001b[0;34m=\u001b[0m \u001b[0mnp\u001b[0m\u001b[0;34m.\u001b[0m\u001b[0mzeros\u001b[0m\u001b[0;34m(\u001b[0m\u001b[0;34m[\u001b[0m\u001b[0;36m5\u001b[0m\u001b[0;34m,\u001b[0m\u001b[0;36m380\u001b[0m\u001b[0;34m]\u001b[0m\u001b[0;34m)\u001b[0m\u001b[0;34m\u001b[0m\u001b[0;34m\u001b[0m\u001b[0m\n\u001b[1;32m     15\u001b[0m     \u001b[0;32mfor\u001b[0m \u001b[0mi\u001b[0m \u001b[0;32min\u001b[0m \u001b[0mb\u001b[0m\u001b[0;34m:\u001b[0m\u001b[0;34m\u001b[0m\u001b[0;34m\u001b[0m\u001b[0m\n\u001b[0;32m---> 16\u001b[0;31m         \u001b[0mA2\u001b[0m\u001b[0;34m[\u001b[0m\u001b[0;34m:\u001b[0m\u001b[0;34m,\u001b[0m\u001b[0mi\u001b[0m\u001b[0;34m]\u001b[0m \u001b[0;34m=\u001b[0m \u001b[0;34m(\u001b[0m\u001b[0mTAUY\u001b[0m\u001b[0;34m[\u001b[0m\u001b[0;34m:\u001b[0m\u001b[0;34m,\u001b[0m\u001b[0mi\u001b[0m\u001b[0;34m+\u001b[0m\u001b[0;36m1\u001b[0m\u001b[0;34m]\u001b[0m\u001b[0;34m-\u001b[0m\u001b[0mTAUY\u001b[0m\u001b[0;34m[\u001b[0m\u001b[0;34m:\u001b[0m\u001b[0;34m,\u001b[0m\u001b[0mi\u001b[0m\u001b[0;34m]\u001b[0m\u001b[0;34m)\u001b[0m\u001b[0;34m/\u001b[0m\u001b[0;34m(\u001b[0m\u001b[0;36m0.25\u001b[0m\u001b[0;34m*\u001b[0m\u001b[0mwholedis\u001b[0m\u001b[0;34m[\u001b[0m\u001b[0mj\u001b[0m\u001b[0;34m]\u001b[0m\u001b[0;34m)\u001b[0m\u001b[0;34m\u001b[0m\u001b[0;34m\u001b[0m\u001b[0m\n\u001b[0m\u001b[1;32m     17\u001b[0m         \u001b[0;31m#####################################\u001b[0m\u001b[0;34m\u001b[0m\u001b[0;34m\u001b[0m\u001b[0;34m\u001b[0m\u001b[0m\n\u001b[1;32m     18\u001b[0m     \u001b[0mA3\u001b[0m \u001b[0;34m=\u001b[0m \u001b[0mA2\u001b[0m\u001b[0;34m[\u001b[0m\u001b[0;36m0\u001b[0m\u001b[0;34m:\u001b[0m\u001b[0;36m49\u001b[0m\u001b[0;34m,\u001b[0m\u001b[0;36m0\u001b[0m\u001b[0;34m:\u001b[0m\u001b[0;36m379\u001b[0m\u001b[0;34m]\u001b[0m\u001b[0;34m\u001b[0m\u001b[0;34m\u001b[0m\u001b[0m\n",
      "\u001b[0;31mValueError\u001b[0m: could not broadcast input array from shape (50) into shape (5)"
     ]
    }
   ],
   "source": [
    "years = [f\"{x:04d}\" for x in range(0,96)]\n",
    "ii =0\n",
    "result = np.zeros(96)\n",
    "\n",
    "for yy in years:    \n",
    "    data2=nc.Dataset('/scratch/user/xiliangdiao/firstpaper/TAUY/CESM_PSL_'+yy+'_.nc')\n",
    "    TAUY1 = data2.variables['PSL'][0,107:157,-220:]\n",
    "    TAUY2 = data2.variables['PSL'][0,80:160,:160]\n",
    "    TAUY = np.hstack((TAUY1,TAUY2))\n",
    "\n",
    "        ####################################\n",
    "        ###### (v2-v1)/(x2-x1)\n",
    "    b = np.arange(0,379)\n",
    "    A2= np.zeros([80,380])\n",
    "    for i in b:\n",
    "        A2[:,i] = (TAUY[:,i+1]-TAUY[:,i])/(0.25*wholedis[j])\n",
    "        #####################################\n",
    "    A3 = A2[0:79,0:379]\n",
    "        \n",
    "    result[ii] = np.nanmean(A3)\n",
    "        \n",
    "    ii = ii + 1\n",
    "#********************************************************************\n",
    "    np.savetxt('TAUY330-338new.out',result)"
   ]
  },
  {
   "cell_type": "code",
   "execution_count": null,
   "metadata": {},
   "outputs": [],
   "source": [
    "result.shape"
   ]
  },
  {
   "cell_type": "code",
   "execution_count": null,
   "metadata": {},
   "outputs": [],
   "source": []
  }
 ],
 "metadata": {
  "kernelspec": {
   "display_name": "Python 3",
   "language": "python",
   "name": "python3"
  },
  "language_info": {
   "codemirror_mode": {
    "name": "ipython",
    "version": 3
   },
   "file_extension": ".py",
   "mimetype": "text/x-python",
   "name": "python",
   "nbconvert_exporter": "python",
   "pygments_lexer": "ipython3",
   "version": "3.6.10"
  }
 },
 "nbformat": 4,
 "nbformat_minor": 2
}
