{
 "cells": [
  {
   "cell_type": "code",
   "execution_count": 1,
   "metadata": {},
   "outputs": [],
   "source": [
    "import netCDF4 as nc\n",
    "import matplotlib.pyplot as plt\n",
    "from matplotlib.colors import from_levels_and_colors\n",
    "import numpy as np\n",
    "from matplotlib import animation\n",
    "from matplotlib.colors import BoundaryNorm\n",
    "import matplotlib.colors as cols\n",
    "import matplotlib as mpl\n",
    "from mpl_toolkits.basemap import Basemap\n",
    "from matplotlib import ticker, cm\n",
    "import seaborn as sns"
   ]
  },
  {
   "cell_type": "code",
   "execution_count": 4,
   "metadata": {},
   "outputs": [],
   "source": [
    "months = [f\"{x:02d}\" for x in range(1,13)]\n",
    "years = [f\"{x:04d}\" for x in range(21,331)]\n",
    "i =0\n",
    "result = np.zeros((3720,700))"
   ]
  },
  {
   "cell_type": "code",
   "execution_count": 5,
   "metadata": {},
   "outputs": [
    {
     "ename": "FileNotFoundError",
     "evalue": "[Errno 2] No such file or directory: b'/ihesp/user/xiliangdiao/ihespdata/ice300/cmpr_B.E.13.B1850C5.ne120_t12.sehires38.003.sunway_02.cice.h.0144-03.aice.nc'",
     "output_type": "error",
     "traceback": [
      "\u001b[0;31m---------------------------------------------------------------------------\u001b[0m",
      "\u001b[0;31mFileNotFoundError\u001b[0m                         Traceback (most recent call last)",
      "\u001b[0;32m<ipython-input-5-d5148d42162b>\u001b[0m in \u001b[0;36m<module>\u001b[0;34m\u001b[0m\n\u001b[1;32m      3\u001b[0m         \u001b[0;31m#data=nc.Dataset('/ihesp/xiliangdiao/ihespdata/ice300/B.E.13.B1850C5.ne120_t12.sehires38.003.sunway_02.cice.h.'+yy+'-'+mm +'.aice.nc')\u001b[0m\u001b[0;34m\u001b[0m\u001b[0;34m\u001b[0m\u001b[0;34m\u001b[0m\u001b[0m\n\u001b[1;32m      4\u001b[0m         \u001b[0;31m#cmpr_B.E.13.B1850C5.ne120_t12.sehires38.003.sunway_02.cice.h.0323-09.aice.nc\u001b[0m\u001b[0;34m\u001b[0m\u001b[0;34m\u001b[0m\u001b[0;34m\u001b[0m\u001b[0m\n\u001b[0;32m----> 5\u001b[0;31m         \u001b[0mdata\u001b[0m\u001b[0;34m=\u001b[0m\u001b[0mnc\u001b[0m\u001b[0;34m.\u001b[0m\u001b[0mDataset\u001b[0m\u001b[0;34m(\u001b[0m\u001b[0;34m'/ihesp/user/xiliangdiao/ihespdata/ice300/cmpr_B.E.13.B1850C5.ne120_t12.sehires38.003.sunway_02.cice.h.'\u001b[0m\u001b[0;34m+\u001b[0m\u001b[0myy\u001b[0m\u001b[0;34m+\u001b[0m\u001b[0;34m'-'\u001b[0m\u001b[0;34m+\u001b[0m\u001b[0mmm\u001b[0m \u001b[0;34m+\u001b[0m\u001b[0;34m'.aice.nc'\u001b[0m\u001b[0;34m)\u001b[0m\u001b[0;34m\u001b[0m\u001b[0;34m\u001b[0m\u001b[0m\n\u001b[0m\u001b[1;32m      6\u001b[0m         \u001b[0mplotvar\u001b[0m \u001b[0;34m=\u001b[0m \u001b[0mdata\u001b[0m\u001b[0;34m.\u001b[0m\u001b[0mvariables\u001b[0m\u001b[0;34m[\u001b[0m\u001b[0;34m'aice'\u001b[0m\u001b[0;34m]\u001b[0m\u001b[0;34m[\u001b[0m\u001b[0;36m0\u001b[0m\u001b[0;34m,\u001b[0m\u001b[0;34m:\u001b[0m\u001b[0;34m,\u001b[0m\u001b[0;34m:\u001b[0m\u001b[0;34m]\u001b[0m\u001b[0;34m\u001b[0m\u001b[0;34m\u001b[0m\u001b[0m\n\u001b[1;32m      7\u001b[0m         \u001b[0;31m#plotvar = data.variables['HMXL'][0,:,:]\u001b[0m\u001b[0;34m\u001b[0m\u001b[0;34m\u001b[0m\u001b[0;34m\u001b[0m\u001b[0m\n",
      "\u001b[0;32mnetCDF4/_netCDF4.pyx\u001b[0m in \u001b[0;36mnetCDF4._netCDF4.Dataset.__init__\u001b[0;34m()\u001b[0m\n",
      "\u001b[0;32mnetCDF4/_netCDF4.pyx\u001b[0m in \u001b[0;36mnetCDF4._netCDF4._ensure_nc_success\u001b[0;34m()\u001b[0m\n",
      "\u001b[0;31mFileNotFoundError\u001b[0m: [Errno 2] No such file or directory: b'/ihesp/user/xiliangdiao/ihespdata/ice300/cmpr_B.E.13.B1850C5.ne120_t12.sehires38.003.sunway_02.cice.h.0144-03.aice.nc'"
     ]
    }
   ],
   "source": [
    "for yy in years:\n",
    "    for mm in months:\n",
    "        #data=nc.Dataset('/ihesp/xiliangdiao/ihespdata/ice300/B.E.13.B1850C5.ne120_t12.sehires38.003.sunway_02.cice.h.'+yy+'-'+mm +'.aice.nc')\n",
    "        #cmpr_B.E.13.B1850C5.ne120_t12.sehires38.003.sunway_02.cice.h.0323-09.aice.nc\n",
    "        data=nc.Dataset('/ihesp/user/xiliangdiao/ihespdata/ice300/cmpr_B.E.13.B1850C5.ne120_t12.sehires38.003.sunway_02.cice.h.'+yy+'-'+mm +'.aice.nc')\n",
    "        plotvar = data.variables['aice'][0,:,:]\n",
    "        #plotvar = data.variables['HMXL'][0,:,:]\n",
    "        lont = data.variables['lont_bounds'][:,:,0]\n",
    "        latt = data.variables['latt_bounds'][:,:,0]\n",
    "        lont = lont[248:344,700:1400]\n",
    "        latt = latt[248:344,700:1400]\n",
    "        plotvar = plotvar[248:344,700:1400]\n",
    "#       lont = lont[180:320,500:1200]\n",
    "#        latt = latt[180:320,500:1200]\n",
    "#        plotvar = plotvar[180:320,500:1200]\n",
    "        aveplot = plotvar.mean(axis=0)\n",
    "        \n",
    "        result[i] = aveplot\n",
    "        \n",
    "        i = i + 1\n",
    "#********************************************************************"
   ]
  },
  {
   "cell_type": "code",
   "execution_count": null,
   "metadata": {},
   "outputs": [],
   "source": [
    "weddle = result[:,130]"
   ]
  },
  {
   "cell_type": "code",
   "execution_count": null,
   "metadata": {},
   "outputs": [],
   "source": [
    "fig = plt.figure(figsize=(30, 10), dpi=100)\n",
    "ax0 = fig.add_axes([0.1, 0.1, 0.8, 0.8])\n",
    "my_font = {'fontname':'Cambria', 'size':'20'}\n",
    "im = ax0.plot(weddle,'k')\n",
    "im = ax0.plot(weddle,'r*')\n",
    "#plt.xticks(range(0,310,10), ['20','70','120', '170', '220', '270','320'],**my_font)\n",
    "plt.xticks(range(0,311,20), ['20', '40', '60', '80','100','120','140','160',\\\n",
    "                             '180','200','220', '240', '260','280','300','320'],**my_font)\n",
    "plt.yticks(range(0,101,10), ['0', '10','20','30', '40', '50','60','70', '80','90','100'],**my_font)\n",
    "plt.xlabel('Years',**my_font)\n",
    "plt.ylabel('Sea ice contration (%)',**my_font)\n",
    "ax0.set_title('Sea Ice concentration in Weddle Sea (30$^\\circ$W)',**my_font)"
   ]
  },
  {
   "cell_type": "code",
   "execution_count": null,
   "metadata": {},
   "outputs": [],
   "source": []
  }
 ],
 "metadata": {
  "kernelspec": {
   "display_name": "Python 3",
   "language": "python",
   "name": "python3"
  },
  "language_info": {
   "codemirror_mode": {
    "name": "ipython",
    "version": 3
   },
   "file_extension": ".py",
   "mimetype": "text/x-python",
   "name": "python",
   "nbconvert_exporter": "python",
   "pygments_lexer": "ipython3",
   "version": "3.6.9"
  }
 },
 "nbformat": 4,
 "nbformat_minor": 2
}
