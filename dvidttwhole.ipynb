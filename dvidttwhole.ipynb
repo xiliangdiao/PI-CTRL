{
 "cells": [
  {
   "cell_type": "code",
   "execution_count": 1,
   "id": "bfc45e96",
   "metadata": {},
   "outputs": [],
   "source": [
    "import netCDF4 as nc\n",
    "import matplotlib.pyplot as plt\n",
    "from matplotlib.colors import from_levels_and_colors\n",
    "import numpy as np\n",
    "from matplotlib import animation\n",
    "from matplotlib.colors import BoundaryNorm\n",
    "import matplotlib.colors as cols\n",
    "import matplotlib as mpl\n",
    "#from mpl_toolkits.basemap import Basemap\n",
    "from matplotlib import ticker, cm\n",
    "import seaborn as sns"
   ]
  },
  {
   "cell_type": "code",
   "execution_count": 2,
   "id": "a8383978",
   "metadata": {},
   "outputs": [],
   "source": [
    "years1 = [f\"{x:04d}\" for x in range(150,500,10)]\n",
    "years2 = [f\"{x:04d}\" for x in range(159,500,10)]\n",
    "i =0\n",
    "result = np.zeros((4200))"
   ]
  },
  {
   "cell_type": "code",
   "execution_count": 3,
   "id": "305a6a44",
   "metadata": {},
   "outputs": [
    {
     "ename": "FileNotFoundError",
     "evalue": "[Errno 2] No such file or directory: b'/Users/xiliangdiao/Downloads/dvidtt/B.E.13.B1850C5.ne120_t12.sehires38.003.sunway_02.cice.h.dvidtt.015001-015912.nc'",
     "output_type": "error",
     "traceback": [
      "\u001b[0;31m---------------------------------------------------------------------------\u001b[0m",
      "\u001b[0;31mFileNotFoundError\u001b[0m                         Traceback (most recent call last)",
      "\u001b[0;32m<ipython-input-3-d753268ae4ef>\u001b[0m in \u001b[0;36m<module>\u001b[0;34m\u001b[0m\n\u001b[1;32m      2\u001b[0m \u001b[0;34m\u001b[0m\u001b[0m\n\u001b[1;32m      3\u001b[0m \u001b[0;34m\u001b[0m\u001b[0m\n\u001b[0;32m----> 4\u001b[0;31m     \u001b[0mdata\u001b[0m\u001b[0;34m=\u001b[0m\u001b[0mnc\u001b[0m\u001b[0;34m.\u001b[0m\u001b[0mDataset\u001b[0m\u001b[0;34m(\u001b[0m\u001b[0;34m'/Users/xiliangdiao/Downloads/dvidtt/B.E.13.B1850C5.ne120_t12.sehires38.003.sunway_02.cice.h.dvidtt.'\u001b[0m\u001b[0;34m+\u001b[0m\u001b[0myy\u001b[0m\u001b[0;34m+\u001b[0m\u001b[0;34m'01-'\u001b[0m\u001b[0;34m+\u001b[0m\u001b[0mmm\u001b[0m\u001b[0;34m+\u001b[0m\u001b[0;34m'12.nc'\u001b[0m\u001b[0;34m)\u001b[0m\u001b[0;34m\u001b[0m\u001b[0;34m\u001b[0m\u001b[0m\n\u001b[0m\u001b[1;32m      5\u001b[0m     \u001b[0mplotvar\u001b[0m \u001b[0;34m=\u001b[0m \u001b[0mdata\u001b[0m\u001b[0;34m.\u001b[0m\u001b[0mvariables\u001b[0m\u001b[0;34m[\u001b[0m\u001b[0;34m'dvidtt'\u001b[0m\u001b[0;34m]\u001b[0m\u001b[0;34m[\u001b[0m\u001b[0;34m:\u001b[0m\u001b[0;34m,\u001b[0m\u001b[0;36m247\u001b[0m\u001b[0;34m:\u001b[0m\u001b[0;36m365\u001b[0m\u001b[0;34m,\u001b[0m\u001b[0;36m700\u001b[0m\u001b[0;34m:\u001b[0m\u001b[0;36m1400\u001b[0m\u001b[0;34m]\u001b[0m\u001b[0;34m\u001b[0m\u001b[0;34m\u001b[0m\u001b[0m\n\u001b[1;32m      6\u001b[0m     \u001b[0mlont\u001b[0m \u001b[0;34m=\u001b[0m \u001b[0mdata\u001b[0m\u001b[0;34m.\u001b[0m\u001b[0mvariables\u001b[0m\u001b[0;34m[\u001b[0m\u001b[0;34m'TLON'\u001b[0m\u001b[0;34m]\u001b[0m\u001b[0;34m\u001b[0m\u001b[0;34m\u001b[0m\u001b[0m\n",
      "\u001b[0;32mnetCDF4/_netCDF4.pyx\u001b[0m in \u001b[0;36mnetCDF4._netCDF4.Dataset.__init__\u001b[0;34m()\u001b[0m\n",
      "\u001b[0;32mnetCDF4/_netCDF4.pyx\u001b[0m in \u001b[0;36mnetCDF4._netCDF4._ensure_nc_success\u001b[0;34m()\u001b[0m\n",
      "\u001b[0;31mFileNotFoundError\u001b[0m: [Errno 2] No such file or directory: b'/Users/xiliangdiao/Downloads/dvidtt/B.E.13.B1850C5.ne120_t12.sehires38.003.sunway_02.cice.h.dvidtt.015001-015912.nc'"
     ]
    }
   ],
   "source": [
    "    for yy,mm in zip(years1,years2):\n",
    "   \n",
    "\n",
    "        data=nc.Dataset('/Users/xiliangdiao/Downloads/dvidtt/B.E.13.B1850C5.ne120_t12.sehires38.003.sunway_02.cice.h.dvidtt.'+yy+'01-'+mm+'12.nc')\n",
    "        plotvar = data.variables['dvidtt'][:,247:365,700:1400]\n",
    "        lont = data.variables['TLON']\n",
    "        latt = data.variables['TLAT']\n",
    "        #plotvar = plotvar[247:365,800:1100]\n",
    "        #plotvar[plotvar == -1.0] = np.nan\n",
    "        aveplot = np.nanmean(plotvar,axis=1)\n",
    "        aveplot = np.nanmean(aveplot,axis=1)\n",
    "        result[i*120:(i+1)*120] = aveplot\n",
    "        \n",
    "        i = i + 1\n",
    "#********************************************************************"
   ]
  },
  {
   "cell_type": "code",
   "execution_count": null,
   "id": "4581bb0c",
   "metadata": {},
   "outputs": [],
   "source": []
  },
  {
   "cell_type": "code",
   "execution_count": null,
   "id": "6c02d62b",
   "metadata": {},
   "outputs": [],
   "source": []
  },
  {
   "cell_type": "code",
   "execution_count": null,
   "id": "b3975d46",
   "metadata": {},
   "outputs": [],
   "source": []
  }
 ],
 "metadata": {
  "kernelspec": {
   "display_name": "Python 3",
   "language": "python",
   "name": "python3"
  },
  "language_info": {
   "codemirror_mode": {
    "name": "ipython",
    "version": 3
   },
   "file_extension": ".py",
   "mimetype": "text/x-python",
   "name": "python",
   "nbconvert_exporter": "python",
   "pygments_lexer": "ipython3",
   "version": "3.6.10"
  }
 },
 "nbformat": 4,
 "nbformat_minor": 5
}
