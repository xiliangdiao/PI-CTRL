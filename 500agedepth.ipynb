{
 "cells": [
  {
   "cell_type": "code",
   "execution_count": 1,
   "metadata": {},
   "outputs": [],
   "source": [
    "import netCDF4 as nc\n",
    "import matplotlib.pyplot as plt\n",
    "from matplotlib.colors import from_levels_and_colors\n",
    "import numpy as np\n",
    "from matplotlib import animation\n",
    "from matplotlib.colors import BoundaryNorm\n",
    "import matplotlib.colors as cols\n",
    "import matplotlib as mpl\n",
    "from mpl_toolkits.basemap import Basemap\n",
    "from matplotlib import ticker, cm\n",
    "import seaborn as sns"
   ]
  },
  {
   "cell_type": "code",
   "execution_count": 2,
   "metadata": {},
   "outputs": [],
   "source": [
    "data1=nc.Dataset('/ihesp/user/xiliangdiao/data/ihespdata/ocn300/depth.nc')\n",
    "C = data1.variables['z_t'][:]/100\n",
    "B = C"
   ]
  },
  {
   "cell_type": "code",
   "execution_count": 3,
   "metadata": {},
   "outputs": [],
   "source": [
    "#B[20:47]"
   ]
  },
  {
   "cell_type": "code",
   "execution_count": 4,
   "metadata": {},
   "outputs": [],
   "source": [
    "months = [f\"{x:02d}\" for x in range(9,10)]\n",
    "years = [f\"{x:04d}\" for x in range(150,330)]\n",
    "i =0\n",
    "result = np.zeros((180,62))"
   ]
  },
  {
   "cell_type": "code",
   "execution_count": 5,
   "metadata": {},
   "outputs": [],
   "source": [
    "for yy in years:\n",
    "    for mm in months:\n",
    "        data=nc.Dataset('/ihesp/user/xiliangdiao/data/ihespdata/ocn300/B.E.13.B1850C5.ne120_t12.sehires38.003.sunway_02.pop.h.'+yy+'-'+mm +'.IAGE.nc')\n",
    "        plotvar = data.variables['IAGE'][0,:,:]\n",
    "        lont = data.variables['TLONG']\n",
    "        latt = data.variables['TLAT']\n",
    "        plotvar = plotvar[:,247:365,800:1100]\n",
    "        plotvar[plotvar == -1.0] = np.nan\n",
    "        aveplot = np.nanmean(plotvar,axis=1)\n",
    "        aveplot = np.nanmean(aveplot,axis=1)\n",
    "        result[i] = aveplot\n",
    "        \n",
    "        i = i + 1\n",
    "#********************************************************************"
   ]
  },
  {
   "cell_type": "code",
   "execution_count": 6,
   "metadata": {},
   "outputs": [],
   "source": [
    "A = np.arange(180)\n",
    "#B = np.arange(50)\n",
    "xx, yy = np.meshgrid(B, A)"
   ]
  },
  {
   "cell_type": "code",
   "execution_count": 7,
   "metadata": {},
   "outputs": [],
   "source": [
    "nice_cmap=plt.get_cmap('seismic')\n",
    "lev_cmap = nice_cmap([0,10,20,30,40,50,60,70,80,90,100,110,120,130,140,150,160,170,180,190,\\\n",
    "                      200,210,220,230,240])\n",
    "new_cmap = cols.ListedColormap(lev_cmap,\"seismic\")\n",
    "my_font = {'fontname':'Cambria', 'size':'20'}\n",
    "nice_levels = [10,15,20,25,30,35,40,45,50,55,60,65,70,75,80,85,90,95,100,105,110]"
   ]
  },
  {
   "cell_type": "code",
   "execution_count": 8,
   "metadata": {},
   "outputs": [],
   "source": [
    "#data1 = np.loadtxt(\"weddle.out\")\n",
    "#data2 = np.loadtxt(\"mix.out\")"
   ]
  },
  {
   "cell_type": "code",
   "execution_count": 9,
   "metadata": {},
   "outputs": [],
   "source": [
    "#np.save(file=\"age150-330.npy\", arr=result)"
   ]
  },
  {
   "cell_type": "code",
   "execution_count": 10,
   "metadata": {},
   "outputs": [],
   "source": [
    "#np.save(file=\"age21-331.npy\", arr=result1)"
   ]
  },
  {
   "cell_type": "code",
   "execution_count": 11,
   "metadata": {},
   "outputs": [],
   "source": [
    "months = [f\"{x:02d}\" for x in range(9,10)]\n",
    "years = [f\"{x:04d}\" for x in range(338,500)]\n",
    "i =0\n",
    "result1 = np.zeros((162,62))"
   ]
  },
  {
   "cell_type": "code",
   "execution_count": 12,
   "metadata": {},
   "outputs": [],
   "source": [
    "for yy in years:\n",
    "    for mm in months:\n",
    "        data=nc.Dataset('/ihesp/user/xiliangdiao/data/ihespdata/ocn330-500/cmpr_B.E.13.B1850C5.ne120_t12.sehires38.003.sunway_02.pop.h.'+yy+'-'+mm +'.IAGE.nc')\n",
    "        plotvar = data.variables['IAGE'][0,:,:]\n",
    "        lont = data.variables['TLONG']\n",
    "        latt = data.variables['TLAT']\n",
    "        #lont = lont[250:344,1100:1300]\n",
    "        #latt = latt[250:344,1100:1300]\n",
    "        plotvar = plotvar[:,247:365,800:1100]\n",
    "        plotvar[plotvar == -1.0] = np.nan\n",
    "        aveplot = np.nanmean(plotvar,axis=1)\n",
    "        aveplot = np.nanmean(aveplot,axis=1)\n",
    "        #aveplot = plotvar.mean(axis=1)\n",
    "        #aveplot = aveplot.mean(axis=1)\n",
    "        result1[i] = aveplot\n",
    "        \n",
    "        i = i + 1\n",
    "#********************************************************************"
   ]
  },
  {
   "cell_type": "code",
   "execution_count": 13,
   "metadata": {},
   "outputs": [],
   "source": [
    "#np.save(file=\"age338-500.npy\", arr=result1)"
   ]
  },
  {
   "cell_type": "code",
   "execution_count": 14,
   "metadata": {},
   "outputs": [],
   "source": [
    "months = [f\"{x:02d}\" for x in range(9,10)]\n",
    "years = [f\"{x:04d}\" for x in range(330,338)]\n",
    "i =0\n",
    "mid = np.zeros((8,62))"
   ]
  },
  {
   "cell_type": "code",
   "execution_count": 15,
   "metadata": {},
   "outputs": [],
   "source": [
    "for yy in years:\n",
    "    for mm in months:\n",
    "        data=nc.Dataset('/scratch/user/xiliangdiao/firstpaper/IAGE_B.E.13.B1850C5.ne120_t12.sehires38.003.sunway_02.pop.h.'+yy+'-'+mm +'.nc')\n",
    "        plotvar = data.variables['IAGE'][0,:,:]\n",
    "        lont = data.variables['TLONG']\n",
    "        latt = data.variables['TLAT']\n",
    "        #lont = lont[250:344,1100:1300]\n",
    "        #latt = latt[250:344,1100:1300]\n",
    "        plotvar = plotvar[:,247:365,800:1100]\n",
    "        plotvar[plotvar == -1.0] = np.nan\n",
    "        aveplot = np.nanmean(plotvar,axis=1)\n",
    "        aveplot = np.nanmean(aveplot,axis=1)\n",
    "        #aveplot = plotvar.mean(axis=1)\n",
    "        #aveplot = aveplot.mean(axis=1)\n",
    "        mid[i] = aveplot\n",
    "        \n",
    "        i = i + 1\n",
    "#********************************************************************"
   ]
  },
  {
   "cell_type": "code",
   "execution_count": 16,
   "metadata": {},
   "outputs": [],
   "source": [
    "#b= np.load(file=\"age21-331.npy\")\n",
    "#result= np.load(file=\"age338-500.npy\")"
   ]
  },
  {
   "cell_type": "code",
   "execution_count": 17,
   "metadata": {},
   "outputs": [],
   "source": [
    "#mid = np.zeros((10,62))\n",
    "#mid[mid == 0]=np.nan\n",
    "dd = np.vstack((result,mid))\n",
    "ddd = np.vstack((dd,result1))"
   ]
  },
  {
   "cell_type": "code",
   "execution_count": 18,
   "metadata": {},
   "outputs": [
    {
     "data": {
      "text/plain": [
       "(350, 62)"
      ]
     },
     "execution_count": 18,
     "metadata": {},
     "output_type": "execute_result"
    }
   ],
   "source": [
    "ddd.shape"
   ]
  },
  {
   "cell_type": "code",
   "execution_count": 19,
   "metadata": {},
   "outputs": [],
   "source": [
    "A = np.arange(350)\n",
    "\n",
    "xx, yy = np.meshgrid(B, A)"
   ]
  },
  {
   "cell_type": "code",
   "execution_count": 20,
   "metadata": {},
   "outputs": [],
   "source": [
    "nice_cmap=plt.get_cmap('seismic')\n",
    "lev_cmap = nice_cmap([0,10,20,30,40,50,60,70,80,90,100,110,120,130,140,150,160,170,180,190,\\\n",
    "                      200,210,220,230,240])\n",
    "new_cmap = cols.ListedColormap(lev_cmap,\"seismic\")\n",
    "my_font = {'fontname':'Cambria', 'size':'17'}\n",
    "nice_levels = [10,15,20,25,30,35,40,45,50,55,60,65,70,75,80,85,90,95,100,105,110,115,120]"
   ]
  },
  {
   "cell_type": "code",
   "execution_count": null,
   "metadata": {},
   "outputs": [
    {
     "name": "stderr",
     "output_type": "stream",
     "text": [
      "/scratch/user/xiliangdiao/.conda/envs/DIAO/lib/python3.6/site-packages/ipykernel_launcher.py:4: UserWarning: The following kwargs were not used by contour: 'interpolation'\n",
      "  after removing the cwd from sys.path.\n",
      "findfont: Font family ['Cambria'] not found. Falling back to DejaVu Sans.\n"
     ]
    }
   ],
   "source": [
    "fig = plt.figure(figsize=(15, 10), dpi=100)\n",
    "ax0 = fig.add_axes([0.1, 0.1, 0.8, 0.8])\n",
    "#ax0 = plt.subplot(2,1,1)\n",
    "im = ax0.contourf(yy[:,:60], xx[:,:60], ddd[:,:60],levels = nice_levels,cmap=nice_cmap,interpolation='none',extend='both')\n",
    "im.cmap.set_over('firebrick')\n",
    "im.cmap.set_under('black')\n",
    "#CS = ax0.contour(yy,xx,result, [0.8],colors = 'r', linestyles = 'solid',linewidths=1)\n",
    "#plt.clabel(CS, inline=0.1, fontsize=10)\n",
    "cbar = fig.colorbar(im, ax=ax0, ticks=nice_levels,extendfrac='auto')\n",
    "cbar.ax.tick_params(labelsize=15)\n",
    "#cbar.minorticks_on()\n",
    "cbar.set_label('Water age (year)', **my_font)\n",
    "#############################################################################\n",
    "##设定X坐标值\n",
    "#plt.xticks(range(130,480,20), ['150', '170', '190', '210', '230','250', '270', '290', '310', '330','350',\\\n",
    "                               #'370','390','410','430','450','470','490'],**my_font)\n",
    "plt.xticks(range(0,351,50), ['150', '200', '250', '300', '350','400', '450', '500'],**my_font)\n",
    "plt.yticks(**my_font)\n",
    "plt.xlabel('Year',**my_font)\n",
    "plt.ylabel('Depth (m)',**my_font)\n",
    "plt.gca().invert_yaxis()\n",
    "ax0.set_title('Water Age (63$^\\circ$S - 68$^\\circ$S, 40$^\\circ$W - 10$^\\circ$W, averaged)',**my_font)\n",
    "plt.savefig(\"waterage.png\",bbox_inches='tight',dpi=fig.dpi)"
   ]
  },
  {
   "cell_type": "code",
   "execution_count": null,
   "metadata": {},
   "outputs": [],
   "source": [
    "np.save(file=\"agedepthallnew.npy\", arr=ddd[:,:60])"
   ]
  },
  {
   "cell_type": "code",
   "execution_count": null,
   "metadata": {},
   "outputs": [],
   "source": [
    "ddd.shape"
   ]
  },
  {
   "cell_type": "code",
   "execution_count": null,
   "metadata": {},
   "outputs": [],
   "source": []
  }
 ],
 "metadata": {
  "kernelspec": {
   "display_name": "Python 3",
   "language": "python",
   "name": "python3"
  },
  "language_info": {
   "codemirror_mode": {
    "name": "ipython",
    "version": 3
   },
   "file_extension": ".py",
   "mimetype": "text/x-python",
   "name": "python",
   "nbconvert_exporter": "python",
   "pygments_lexer": "ipython3",
   "version": "3.6.10"
  }
 },
 "nbformat": 4,
 "nbformat_minor": 2
}
