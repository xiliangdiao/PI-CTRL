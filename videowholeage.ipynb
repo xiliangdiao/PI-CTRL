{
 "cells": [
  {
   "cell_type": "code",
   "execution_count": 1,
   "metadata": {},
   "outputs": [],
   "source": [
    "import netCDF4 as nc\n",
    "import matplotlib.pyplot as plt\n",
    "from matplotlib.colors import from_levels_and_colors\n",
    "import numpy as np\n",
    "from matplotlib import animation\n",
    "from matplotlib.colors import BoundaryNorm\n",
    "import matplotlib.colors as cols\n",
    "import matplotlib as mpl\n",
    "from mpl_toolkits.basemap import Basemap\n",
    "from matplotlib import ticker, cm\n",
    "import seaborn as sns"
   ]
  },
  {
   "cell_type": "code",
   "execution_count": null,
   "metadata": {},
   "outputs": [
    {
     "name": "stderr",
     "output_type": "stream",
     "text": [
      "/scratch/user/xiliangdiao/.conda/envs/python3/lib/python3.6/site-packages/ipykernel_launcher.py:26: MatplotlibDeprecationWarning: \n",
      "The dedent function was deprecated in Matplotlib 3.1 and will be removed in 3.3. Use inspect.cleandoc instead.\n",
      "/scratch/user/xiliangdiao/.conda/envs/python3/lib/python3.6/site-packages/ipykernel_launcher.py:37: UserWarning: The following kwargs were not used by contour: 'spacing'\n",
      "findfont: Font family ['Cambria'] not found. Falling back to DejaVu Sans.\n",
      "/scratch/user/xiliangdiao/.conda/envs/python3/lib/python3.6/site-packages/ipykernel_launcher.py:22: RuntimeWarning: More than 20 figures have been opened. Figures created through the pyplot interface (`matplotlib.pyplot.figure`) are retained until explicitly closed and may consume too much memory. (To control this warning, see the rcParam `figure.max_open_warning`).\n"
     ]
    }
   ],
   "source": [
    "months = [f\"{x:02d}\" for x in range(1,13)]\n",
    "years = [f\"{x:04d}\" for x in range(141,181)]\n",
    "i =0\n",
    "for year in years:\n",
    "    for mm in months:\n",
    "        data=nc.Dataset('/ihesp/xiliangdiao/ihespdata/ocnwhole/B.E.13.B1850C5.ne120_t12.sehires38.003.sunway_02.pop.h.'+year+'-'+mm +'.IAGE.nc')\n",
    "        plotvar = data.variables['IAGE'][0,:,:]\n",
    "        lont = data.variables['TLONG']\n",
    "        latt = data.variables['TLAT']\n",
    "        lont = lont[:,:]\n",
    "        latt = latt[:,:]\n",
    "        plot = plotvar[53,:,:]\n",
    "        nice_cmap=sns.diverging_palette(245, 15, n=12,as_cmap=True)\n",
    "\n",
    "        lev_cmap = nice_cmap([0,15,30,50,70,100,110,120]) \n",
    "        new_cmap = cols.ListedColormap(lev_cmap,\"praj_cmap\")\n",
    "        #nice_levels = [1,10,20,30,40,50,60,70,80,100,120,140]\n",
    "        nice_levels = [20,40,60,80,100,120,140,160]\n",
    "        norm = mpl.colors.BoundaryNorm(nice_levels, new_cmap.N)\n",
    "#********************************************************************\n",
    "\n",
    "        plt.figure(figsize=(25,20))\n",
    "        my_font = {'fontname':'Cambria', 'size':'12'}\n",
    "\n",
    "        map = Basemap(projection='aeqd', lat_0 = -10, lon_0 = -10,area_thresh = 100,\\\n",
    "                     width = 15000000,height = 15000000,resolution ='h') \n",
    "        map.drawcoastlines()\n",
    "        map.fillcontinents(color = 'lightgrey')\n",
    "        map.drawmapboundary(color='black')\n",
    " \n",
    "        map.drawparallels(np.arange(-90,91,5),labels=[1,0,0,0],**my_font)\n",
    "        map.drawmeridians(np.arange(-180,180,10),labels=[0,0,1,0],**my_font)\n",
    "\n",
    "        x,y=map(lont,latt)\n",
    "\n",
    "\n",
    "        CP = map.contourf(x,y,plot,spacing = 'uniform',levels = nice_levels,extend='both')\n",
    "\n",
    "        CP.cmap.set_over('yellow')\n",
    "        CP.cmap.set_under('black')\n",
    "        cbar =map.colorbar(CP,extend='both',extendfrac='auto')\n",
    "\n",
    "        cbar.ax.tick_params(labelsize=45) \n",
    "        cbar.set_label('(years)', **my_font)\n",
    "        plt.xlabel(\"Age (depth = 3786m)\"+year+'-'+mm,**my_font)\n",
    "\n",
    "        \n",
    "        i= i+1\n",
    "\n",
    "        plt.savefig(\"/scratch/user/xiliangdiao/plot/videonnn/PSP_%04d.png\"%(i))\n"
   ]
  },
  {
   "cell_type": "code",
   "execution_count": null,
   "metadata": {},
   "outputs": [],
   "source": []
  }
 ],
 "metadata": {
  "kernelspec": {
   "display_name": "Python 3",
   "language": "python",
   "name": "python3"
  },
  "language_info": {
   "codemirror_mode": {
    "name": "ipython",
    "version": 3
   },
   "file_extension": ".py",
   "mimetype": "text/x-python",
   "name": "python",
   "nbconvert_exporter": "python",
   "pygments_lexer": "ipython3",
   "version": "3.6.10"
  }
 },
 "nbformat": 4,
 "nbformat_minor": 2
}
