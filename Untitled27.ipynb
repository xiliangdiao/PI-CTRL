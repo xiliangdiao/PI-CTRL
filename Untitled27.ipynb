{
 "cells": [
  {
   "cell_type": "code",
   "execution_count": 1,
   "metadata": {},
   "outputs": [],
   "source": [
    "import netCDF4 as nc\n",
    "import matplotlib.pyplot as plt\n",
    "from matplotlib.colors import from_levels_and_colors\n",
    "import numpy as np\n",
    "from matplotlib import animation\n",
    "from matplotlib.colors import BoundaryNorm\n",
    "import matplotlib.colors as cols\n",
    "import matplotlib as mpl\n",
    "from mpl_toolkits.basemap import Basemap\n",
    "from matplotlib import ticker, cm\n",
    "import seaborn as sns"
   ]
  },
  {
   "cell_type": "code",
   "execution_count": 3,
   "metadata": {},
   "outputs": [],
   "source": [
    "data=nc.Dataset('/ihesp/user/xiliangdiao/ihespdata/air500/TAUX/CESM_TAU_0004_.nc')"
   ]
  },
  {
   "cell_type": "code",
   "execution_count": 5,
   "metadata": {},
   "outputs": [],
   "source": [
    "LAT = data.variables['lat']\n",
    "LON = data.variables['lon']\n",
    "PLOT = data.variables['TAUX']"
   ]
  },
  {
   "cell_type": "code",
   "execution_count": 24,
   "metadata": {},
   "outputs": [
    {
     "data": {
      "text/plain": [
       "masked_array(data=[-70.  , -69.75, -69.5 , -69.25, -69.  , -68.75, -68.5 ,\n",
       "                   -68.25, -68.  , -67.75, -67.5 , -67.25, -67.  , -66.75,\n",
       "                   -66.5 , -66.25, -66.  , -65.75, -65.5 , -65.25, -65.  ,\n",
       "                   -64.75, -64.5 , -64.25, -64.  , -63.75, -63.5 , -63.25,\n",
       "                   -63.  , -62.75, -62.5 , -62.25, -62.  , -61.75, -61.5 ,\n",
       "                   -61.25, -61.  , -60.75, -60.5 , -60.25, -60.  , -59.75,\n",
       "                   -59.5 , -59.25, -59.  , -58.75, -58.5 , -58.25, -58.  ,\n",
       "                   -57.75, -57.5 , -57.25, -57.  , -56.75, -56.5 , -56.25,\n",
       "                   -56.  , -55.75, -55.5 , -55.25, -55.  , -54.75, -54.5 ,\n",
       "                   -54.25, -54.  , -53.75, -53.5 , -53.25, -53.  , -52.75,\n",
       "                   -52.5 , -52.25, -52.  , -51.75, -51.5 , -51.25, -51.  ,\n",
       "                   -50.75, -50.5 , -50.25],\n",
       "             mask=False,\n",
       "       fill_value=1e+20)"
      ]
     },
     "execution_count": 24,
     "metadata": {},
     "output_type": "execute_result"
    }
   ],
   "source": [
    "LAT[80:160]"
   ]
  },
  {
   "cell_type": "code",
   "execution_count": 7,
   "metadata": {},
   "outputs": [],
   "source": [
    "plt1 = PLOT[0,80:160,-220:]"
   ]
  },
  {
   "cell_type": "code",
   "execution_count": 8,
   "metadata": {},
   "outputs": [],
   "source": [
    "plt2 = PLOT[0,80:160,:160]"
   ]
  },
  {
   "cell_type": "code",
   "execution_count": 9,
   "metadata": {},
   "outputs": [],
   "source": [
    "ddd = np.hstack((plt1,plt2))"
   ]
  },
  {
   "cell_type": "code",
   "execution_count": 10,
   "metadata": {},
   "outputs": [
    {
     "data": {
      "text/plain": [
       "(80, 380)"
      ]
     },
     "execution_count": 10,
     "metadata": {},
     "output_type": "execute_result"
    }
   ],
   "source": [
    "ddd.shape"
   ]
  },
  {
   "cell_type": "code",
   "execution_count": 42,
   "metadata": {},
   "outputs": [
    {
     "data": {
      "text/plain": [
       "masked_array(data=[-70.  , -69.75, -69.5 , -69.25, -69.  , -68.75, -68.5 ,\n",
       "                   -68.25, -68.  , -67.75, -67.5 , -67.25, -67.  , -66.75,\n",
       "                   -66.5 , -66.25, -66.  , -65.75, -65.5 , -65.25, -65.  ,\n",
       "                   -64.75, -64.5 , -64.25, -64.  , -63.75, -63.5 , -63.25,\n",
       "                   -63.  , -62.75, -62.5 , -62.25, -62.  , -61.75, -61.5 ,\n",
       "                   -61.25, -61.  , -60.75, -60.5 , -60.25, -60.  , -59.75,\n",
       "                   -59.5 , -59.25, -59.  , -58.75, -58.5 , -58.25, -58.  ,\n",
       "                   -57.75, -57.5 , -57.25, -57.  , -56.75, -56.5 , -56.25,\n",
       "                   -56.  , -55.75, -55.5 , -55.25, -55.  , -54.75, -54.5 ,\n",
       "                   -54.25, -54.  , -53.75, -53.5 , -53.25, -53.  , -52.75,\n",
       "                   -52.5 , -52.25, -52.  , -51.75, -51.5 , -51.25, -51.  ,\n",
       "                   -50.75, -50.5 , -50.25],\n",
       "             mask=False,\n",
       "       fill_value=1e+20)"
      ]
     },
     "execution_count": 42,
     "metadata": {},
     "output_type": "execute_result"
    }
   ],
   "source": [
    "LAT[80:160]"
   ]
  },
  {
   "cell_type": "code",
   "execution_count": 28,
   "metadata": {},
   "outputs": [],
   "source": [
    "lon1 = LON[-220:]"
   ]
  },
  {
   "cell_type": "code",
   "execution_count": 29,
   "metadata": {},
   "outputs": [],
   "source": [
    "lon2 = LON[:160]"
   ]
  },
  {
   "cell_type": "code",
   "execution_count": 30,
   "metadata": {},
   "outputs": [],
   "source": [
    "ddd = np.hstack((lon1,lon2))"
   ]
  },
  {
   "cell_type": "code",
   "execution_count": 39,
   "metadata": {},
   "outputs": [
    {
     "data": {
      "text/plain": [
       "masked_array(data=[305.  , 305.25, 305.5 , 305.75, 306.  , 306.25, 306.5 ,\n",
       "                   306.75, 307.  , 307.25],\n",
       "             mask=False,\n",
       "       fill_value=1e+20)"
      ]
     },
     "execution_count": 39,
     "metadata": {},
     "output_type": "execute_result"
    }
   ],
   "source": [
    "ddd[:10]"
   ]
  },
  {
   "cell_type": "code",
   "execution_count": 14,
   "metadata": {},
   "outputs": [],
   "source": [
    "data1=nc.Dataset('/ihesp/user/xiliangdiao/ihespdata/ocn300/B.E.13.B1850C5.ne120_t12.sehires38.003.sunway_02.pop.h.0167-09.TAUX.nc')\n",
    "TAUX = data1.variables['TAUX'][0,200:600,550:1500]\n",
    "lont = data1.variables['ULONG'][200:600,550:1500]\n",
    "latt = data1.variables['ULAT'][200:600,550:1500]"
   ]
  },
  {
   "cell_type": "code",
   "execution_count": 27,
   "metadata": {},
   "outputs": [
    {
     "data": {
      "text/plain": [
       "-69.99936061096085"
      ]
     },
     "execution_count": 27,
     "metadata": {},
     "output_type": "execute_result"
    }
   ],
   "source": [
    "latt[0,0]"
   ]
  },
  {
   "cell_type": "code",
   "execution_count": null,
   "metadata": {},
   "outputs": [],
   "source": []
  }
 ],
 "metadata": {
  "kernelspec": {
   "display_name": "Python 3",
   "language": "python",
   "name": "python3"
  },
  "language_info": {
   "codemirror_mode": {
    "name": "ipython",
    "version": 3
   },
   "file_extension": ".py",
   "mimetype": "text/x-python",
   "name": "python",
   "nbconvert_exporter": "python",
   "pygments_lexer": "ipython3",
   "version": "3.6.6"
  }
 },
 "nbformat": 4,
 "nbformat_minor": 2
}
