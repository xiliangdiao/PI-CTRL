{
 "cells": [
  {
   "cell_type": "code",
   "execution_count": 1,
   "id": "36d1b104",
   "metadata": {},
   "outputs": [],
   "source": [
    "import netCDF4 as nc\n",
    "import matplotlib.pyplot as plt\n",
    "from matplotlib.colors import from_levels_and_colors\n",
    "import numpy as np\n",
    "from matplotlib import animation\n",
    "from matplotlib.colors import BoundaryNorm\n",
    "import matplotlib.colors as cols\n",
    "import matplotlib as mpl\n",
    "#from mpl_toolkits.basemap import Basemap\n",
    "from matplotlib import ticker, cm\n",
    "import seaborn as sns"
   ]
  },
  {
   "cell_type": "code",
   "execution_count": 2,
   "id": "d698f5e8",
   "metadata": {},
   "outputs": [],
   "source": [
    "data=nc.Dataset('/Users/xiliangdiao/Downloads/dvidtt/B.E.13.B1850C5.ne120_t12.sehires38.003.sunway_02.cice.h.dvidtt.046001-046912.nc')"
   ]
  },
  {
   "cell_type": "code",
   "execution_count": 3,
   "id": "9893fd66",
   "metadata": {},
   "outputs": [],
   "source": [
    "plotvar = data.variables['dvidtt'][0:12,0:600,0:3600]\n",
    "aveplot = np.nanmean(plotvar,axis=1)\n"
   ]
  },
  {
   "cell_type": "code",
   "execution_count": null,
   "id": "0ffd2816",
   "metadata": {},
   "outputs": [],
   "source": []
  }
 ],
 "metadata": {
  "kernelspec": {
   "display_name": "Python 3",
   "language": "python",
   "name": "python3"
  },
  "language_info": {
   "codemirror_mode": {
    "name": "ipython",
    "version": 3
   },
   "file_extension": ".py",
   "mimetype": "text/x-python",
   "name": "python",
   "nbconvert_exporter": "python",
   "pygments_lexer": "ipython3",
   "version": "3.6.10"
  }
 },
 "nbformat": 4,
 "nbformat_minor": 5
}
