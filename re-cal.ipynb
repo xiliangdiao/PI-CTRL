{
 "cells": [
  {
   "cell_type": "code",
   "execution_count": 5,
   "metadata": {},
   "outputs": [],
   "source": [
    "\n",
    "import netCDF4 as nc\n",
    "import matplotlib.pyplot as plt\n",
    "from matplotlib.colors import from_levels_and_colors\n",
    "import numpy as np\n",
    "from matplotlib import animation\n",
    "from matplotlib.colors import BoundaryNorm\n",
    "import matplotlib.colors as cols\n",
    "import matplotlib as mpl\n",
    "from mpl_toolkits.basemap import Basemap\n",
    "from matplotlib import ticker, cm\n",
    "import seaborn as sns\n"
   ]
  },
  {
   "cell_type": "code",
   "execution_count": 2,
   "metadata": {},
   "outputs": [],
   "source": [
    "data1 = np.loadtxt(\"1000.out\")\n",
    "data2 = np.loadtxt(\"2000.out\")\n",
    "data3 = np.loadtxt(\"3000.out\")\n",
    "data4 = np.loadtxt(\"4000.out\")\n",
    "data5 = np.loadtxt(\"5000.out\")\n",
    "data6 = np.loadtxt(\"6000.out\")\n",
    "result = np.zeros(5772)\n",
    "result[0:1000] =data1\n",
    "result[1000:2000] =data2\n",
    "result[2000:3000] =data3\n",
    "result[3000:4000] =data4\n",
    "result[4000:5000] =data5\n",
    "result[5000:] =data6"
   ]
  },
  {
   "cell_type": "code",
   "execution_count": 3,
   "metadata": {},
   "outputs": [],
   "source": [
    "ww2 = np.convolve(result, np.ones((60,))/60, mode='valid')"
   ]
  },
  {
   "cell_type": "code",
   "execution_count": null,
   "metadata": {},
   "outputs": [],
   "source": []
  },
  {
   "cell_type": "code",
   "execution_count": 4,
   "metadata": {},
   "outputs": [
    {
     "ename": "FileNotFoundError",
     "evalue": "[Errno 2] No such file or directory: b'/ihesp/fred.castruccio/iHESP/B1850/B.E.13.B1850C5.ne120_t12.sehires38.003.sunway_02.pop.h.AICE.002101.050112.nc'",
     "output_type": "error",
     "traceback": [
      "\u001b[0;31m---------------------------------------------------------------------------\u001b[0m",
      "\u001b[0;31mFileNotFoundError\u001b[0m                         Traceback (most recent call last)",
      "\u001b[0;32m<ipython-input-4-d15e3b6f6d8e>\u001b[0m in \u001b[0;36m<module>\u001b[0;34m\u001b[0m\n\u001b[0;32m----> 1\u001b[0;31m \u001b[0mdata\u001b[0m\u001b[0;34m=\u001b[0m\u001b[0mnc\u001b[0m\u001b[0;34m.\u001b[0m\u001b[0mDataset\u001b[0m\u001b[0;34m(\u001b[0m\u001b[0;34m'/ihesp/fred.castruccio/iHESP/B1850/B.E.13.B1850C5.ne120_t12.sehires38.003.sunway_02.pop.h.AICE.002101.050112.nc'\u001b[0m\u001b[0;34m)\u001b[0m\u001b[0;34m\u001b[0m\u001b[0m\n\u001b[0m\u001b[1;32m      2\u001b[0m \u001b[0mplotvar\u001b[0m \u001b[0;34m=\u001b[0m \u001b[0mdata\u001b[0m\u001b[0;34m.\u001b[0m\u001b[0mvariables\u001b[0m\u001b[0;34m[\u001b[0m\u001b[0;34m'aice'\u001b[0m\u001b[0;34m]\u001b[0m\u001b[0;34m[\u001b[0m\u001b[0;34m:\u001b[0m\u001b[0;34m,\u001b[0m\u001b[0;36m10\u001b[0m\u001b[0;34m,\u001b[0m\u001b[0;36m1100\u001b[0m\u001b[0;34m]\u001b[0m\u001b[0;34m\u001b[0m\u001b[0m\n\u001b[1;32m      3\u001b[0m \u001b[0;31m#lont = data.variables['lont_bounds'][:,:,0]\u001b[0m\u001b[0;34m\u001b[0m\u001b[0;34m\u001b[0m\u001b[0m\n\u001b[1;32m      4\u001b[0m \u001b[0;31m#latt = data.variables['latt_bounds'][:,:,0]\u001b[0m\u001b[0;34m\u001b[0m\u001b[0;34m\u001b[0m\u001b[0m\n",
      "\u001b[0;32mnetCDF4/_netCDF4.pyx\u001b[0m in \u001b[0;36mnetCDF4._netCDF4.Dataset.__init__\u001b[0;34m()\u001b[0m\n",
      "\u001b[0;32mnetCDF4/_netCDF4.pyx\u001b[0m in \u001b[0;36mnetCDF4._netCDF4._ensure_nc_success\u001b[0;34m()\u001b[0m\n",
      "\u001b[0;31mFileNotFoundError\u001b[0m: [Errno 2] No such file or directory: b'/ihesp/fred.castruccio/iHESP/B1850/B.E.13.B1850C5.ne120_t12.sehires38.003.sunway_02.pop.h.AICE.002101.050112.nc'"
     ]
    }
   ],
   "source": [
    "data=nc.Dataset('/ihesp/fred.castruccio/iHESP/B1850/B.E.13.B1850C5.ne120_t12.sehires38.003.sunway_02.pop.h.AICE.002101.050112.nc')\n",
    "plotvar = data.variables['aice'][:,10,1100]\n",
    "#lont = data.variables['lont_bounds'][:,:,0]\n",
    "#latt = data.variables['latt_bounds'][:,:,0]"
   ]
  },
  {
   "cell_type": "code",
   "execution_count": null,
   "metadata": {},
   "outputs": [],
   "source": [
    "plotvar.shape"
   ]
  },
  {
   "cell_type": "code",
   "execution_count": null,
   "metadata": {},
   "outputs": [],
   "source": [
    "A = np.arange(0,350)\n",
    "B = np.zeros(350)"
   ]
  },
  {
   "cell_type": "code",
   "execution_count": null,
   "metadata": {},
   "outputs": [],
   "source": [
    "for i in enumerate(A):\n",
    "\n",
    "    B[i]=plotvar[i*12 +9]\n",
    "    "
   ]
  },
  {
   "cell_type": "code",
   "execution_count": null,
   "metadata": {},
   "outputs": [],
   "source": [
    "for idx,item in enumerate(A):\n",
    "    idx\n",
    "    item\n"
   ]
  },
  {
   "cell_type": "code",
   "execution_count": null,
   "metadata": {},
   "outputs": [],
   "source": [
    "item"
   ]
  },
  {
   "cell_type": "code",
   "execution_count": null,
   "metadata": {},
   "outputs": [],
   "source": [
    "Bano = B - B.mean()"
   ]
  },
  {
   "cell_type": "code",
   "execution_count": null,
   "metadata": {},
   "outputs": [],
   "source": []
  },
  {
   "cell_type": "code",
   "execution_count": null,
   "metadata": {},
   "outputs": [],
   "source": []
  },
  {
   "cell_type": "code",
   "execution_count": null,
   "metadata": {},
   "outputs": [],
   "source": [
    "ww = np.convolve(plotvar, np.ones((60,))/60, mode='valid')"
   ]
  },
  {
   "cell_type": "code",
   "execution_count": null,
   "metadata": {},
   "outputs": [],
   "source": [
    "my_font = {'fontname':'Cambria', 'size':'16'}\n",
    "##################################################################\n",
    "fig = plt.figure(figsize=(20,5), dpi=100)\n",
    "ax0 = fig.add_axes([0.1,0.1,0.7,0.7])\n",
    "ax0.plot(ww2,'red',linewidth=3)\n",
    "plt.yticks(**my_font)\n",
    "plt.xlabel('Years',**my_font)\n",
    "plt.xlabel('Years',**my_font)\n",
    "plt.ylabel('SST Global average',color= 'red',**my_font)\n",
    "\n",
    "\n",
    "\n",
    "\n",
    "ax2 = ax0.twinx() \n",
    "ax2.plot(ww,'blue',linewidth=3)\n",
    "plt.yticks(**my_font)\n",
    "plt.xlabel('Years',**my_font)\n",
    "plt.xlabel('Years',**my_font)\n",
    "plt.ylabel('Sea ice concentration',color= 'blue',**my_font)\n",
    "plt.xticks(range(0,5720,240), ['20', '40', '60', '80','100','120','140','160','180','200','220', '240', '260','280','300','320','340', '360', '380','400','420','440','460','480','500','520', '540', '260','280','300','320'],**my_font)\n",
    "#ax0.set(ylim=(-0.000000012, 0.000000012),xlim=(0, 3720))\n",
    "plt.axis(\"tight\")\n",
    "ax0.set_title('Averaged over the Weddell Sea (55$^\\circ$W - 40$^\\circ$E, 50$^\\circ$S - 70$^\\circ$S)',**my_font)\n",
    "#plt.savefig(\"windcurlice.png\",bbox_inches='tight',dpi=fig.dpi)"
   ]
  },
  {
   "cell_type": "code",
   "execution_count": null,
   "metadata": {},
   "outputs": [],
   "source": [
    "my_font = {'fontname':'Cambria', 'size':'16'}\n",
    "##################################################################\n",
    "fig = plt.figure(figsize=(20,5), dpi=100)\n",
    "ax0 = fig.add_axes([0.1,0.1,0.7,0.7])\n",
    "ax0.plot(ww2[1800:],'red',linewidth=3)\n",
    "plt.yticks(**my_font)\n",
    "plt.xlabel('Years',**my_font)\n",
    "plt.xlabel('Years',**my_font)\n",
    "plt.ylabel('SST Global average',color= 'red',**my_font)\n",
    "plt.xticks(range(0,5720,240), ['150','170','190','210','230', '250', '270','290','310','330','350', '370', '390','410','430','450','470','490','510','530'],**my_font)\n",
    "\n",
    "\n",
    "\n",
    "ax2 = ax0.twinx() \n",
    "ax2.plot(ww[1800:],'blue',linewidth=3)\n",
    "plt.yticks(**my_font)\n",
    "plt.xlabel('Years',**my_font)\n",
    "plt.xlabel('Years',**my_font)\n",
    "plt.ylabel('Sea ice concentration',color= 'blue',**my_font)\n",
    "plt.xticks(range(0,5720,240), ['150','170','190','210','230', '250', '270','290','310','330','350', '370', '390','410','430','450','470','490','510','530'],**my_font)\n",
    "#ax0.set(ylim=(-0.000000012, 0.000000012),xlim=(0, 3720))\n",
    "plt.axis(\"tight\")\n",
    "ax0.set_title('Averaged over the Weddell Sea (55$^\\circ$W - 40$^\\circ$E, 50$^\\circ$S - 70$^\\circ$S)',**my_font)\n",
    "#plt.savefig(\"windcurlice.png\",bbox_inches='tight',dpi=fig.dpi)"
   ]
  },
  {
   "cell_type": "code",
   "execution_count": null,
   "metadata": {},
   "outputs": [],
   "source": [
    "data1 = np.loadtxt(\"/ihesp/fudan1991/pub/GlobalSST_0021_0501.txt\")"
   ]
  },
  {
   "cell_type": "code",
   "execution_count": null,
   "metadata": {},
   "outputs": [],
   "source": [
    "data1[130:480].shape"
   ]
  },
  {
   "cell_type": "code",
   "execution_count": null,
   "metadata": {},
   "outputs": [],
   "source": [
    "ave =np.convolve(data1, np.ones((5,))/5, mode='valid')"
   ]
  },
  {
   "cell_type": "code",
   "execution_count": null,
   "metadata": {},
   "outputs": [],
   "source": [
    "t = np.arange(0,4212,12)\n",
    "my_font = {'fontname':'Cambria', 'size':'16'}\n",
    "##################################################################\n",
    "fig = plt.figure(figsize=(20,5), dpi=100)\n",
    "ax0 = fig.add_axes([0.1,0.1,0.7,0.7])\n",
    "ax0.plot(data1[130:480],'red',linewidth=3)\n",
    "#ax0.plot(ave[127:],'blue',linewidth=3)\n",
    "plt.yticks(**my_font)\n",
    "plt.xlabel('Years',**my_font)\n",
    "plt.xlabel('Years',**my_font)\n",
    "plt.ylabel('SST Global Average ($^\\circ$C)',color= 'red',**my_font)\n",
    "plt.xticks(range(0,351,50), ['150','200','250','300','350','400','450','500'],**my_font)\n",
    "plt.hlines(0, 0, 350, colors = \"red\",linestyles = \"dashed\")\n",
    "plt.axis(\"tight\")\n",
    "#ax0.set_title('SST Global Average',**my_font)\n",
    "plt.savefig(\"SST.png\",bbox_inches='tight',dpi=fig.dpi)"
   ]
  },
  {
   "cell_type": "code",
   "execution_count": null,
   "metadata": {},
   "outputs": [],
   "source": [
    "from sklearn import linear_model\n",
    "regr = linear_model.LinearRegression()\n",
    "regr.fit(data1[130:480].reshape(-1, 1), Bano)\n",
    "a = regr.coef_\n",
    "a"
   ]
  },
  {
   "cell_type": "code",
   "execution_count": null,
   "metadata": {},
   "outputs": [],
   "source": [
    "lon = np.arange(250,344)"
   ]
  },
  {
   "cell_type": "code",
   "execution_count": null,
   "metadata": {},
   "outputs": [],
   "source": [
    "lon"
   ]
  },
  {
   "cell_type": "code",
   "execution_count": null,
   "metadata": {},
   "outputs": [],
   "source": [
    "res = np.zeros([100,200])"
   ]
  },
  {
   "cell_type": "code",
   "execution_count": null,
   "metadata": {},
   "outputs": [],
   "source": [
    "res.shape"
   ]
  },
  {
   "cell_type": "code",
   "execution_count": 6,
   "metadata": {},
   "outputs": [],
   "source": [
    "a = [0,1,2,3,4,5,6,7,8]"
   ]
  },
  {
   "cell_type": "code",
   "execution_count": 8,
   "metadata": {},
   "outputs": [
    {
     "data": {
      "text/plain": [
       "[0, 2, 4, 6, 8]"
      ]
     },
     "execution_count": 8,
     "metadata": {},
     "output_type": "execute_result"
    }
   ],
   "source": [
    "a[0:9:2]"
   ]
  },
  {
   "cell_type": "code",
   "execution_count": null,
   "metadata": {},
   "outputs": [],
   "source": []
  }
 ],
 "metadata": {
  "kernelspec": {
   "display_name": "Python 3",
   "language": "python",
   "name": "python3"
  },
  "language_info": {
   "codemirror_mode": {
    "name": "ipython",
    "version": 3
   },
   "file_extension": ".py",
   "mimetype": "text/x-python",
   "name": "python",
   "nbconvert_exporter": "python",
   "pygments_lexer": "ipython3",
   "version": "3.6.10"
  }
 },
 "nbformat": 4,
 "nbformat_minor": 2
}
