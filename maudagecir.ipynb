{
 "cells": [
  {
   "cell_type": "code",
   "execution_count": 1,
   "metadata": {},
   "outputs": [
    {
     "name": "stderr",
     "output_type": "stream",
     "text": [
      "/scratch/user/xiliangdiao/.conda/envs/python3/lib/python3.6/site-packages/ipykernel_launcher.py:48: UserWarning: The following kwargs were not used by contour: 'spacing'\n",
      "findfont: Font family ['Cambria'] not found. Falling back to DejaVu Sans.\n",
      "/scratch/user/xiliangdiao/.conda/envs/python3/lib/python3.6/site-packages/ipykernel_launcher.py:46: RuntimeWarning: More than 20 figures have been opened. Figures created through the pyplot interface (`matplotlib.pyplot.figure`) are retained until explicitly closed and may consume too much memory. (To control this warning, see the rcParam `figure.max_open_warning`).\n"
     ]
    }
   ],
   "source": [
    "import netCDF4 as nc\n",
    "import matplotlib.pyplot as plt\n",
    "from matplotlib.colors import from_levels_and_colors\n",
    "import numpy as np\n",
    "from matplotlib import animation\n",
    "from matplotlib.colors import BoundaryNorm\n",
    "import matplotlib.colors as cols\n",
    "import matplotlib as mpl\n",
    "from mpl_toolkits.basemap import Basemap\n",
    "from matplotlib import ticker, cm\n",
    "import seaborn as sns\n",
    "\n",
    "#data1=nc.Dataset('/ihesp/xiliangdiao/ihespdata/ocn1/B.E.13.B1850C5.ne120_t12.sehires38.003.sunway_02.pop.h.0162-09.z_t.nc')\n",
    "#A = data1.variables['z_t'][:]/100\n",
    "\n",
    "months = [f\"{x:02d}\" for x in range(1,13)]\n",
    "years = [f\"{x:04d}\" for x in range(141,181)]\n",
    "i =0\n",
    "for year in years:\n",
    "    for mm in months:\n",
    "        data=nc.Dataset('/ihesp/xiliangdiao/ihespdata/ocn1/B.E.13.B1850C5.ne120_t12.sehires38.003.sunway_02.pop.h.'+year+'-'+mm +'.IAGE.nc')\n",
    "        plotvar = data.variables['IAGE'][0,:,:]\n",
    "        lont = data.variables['TLONG']\n",
    "        latt = data.variables['TLAT']\n",
    "        lont = lont[340,800:1300]\n",
    "        latt = latt[340,800:1300]\n",
    "        plotvar = plotvar[:,340,800:1300]\n",
    "        B= np.arange(-300,200)\n",
    "        data1=nc.Dataset('/ihesp/xiliangdiao/ihespdata/ocn1/B.E.13.B1850C5.ne120_t12.sehires38.003.sunway_02.pop.h.0162-09.z_t.nc')\n",
    "        A = data1.variables['z_t'][:]/100\n",
    "        xx, yy = np.meshgrid(B, A)\n",
    "###############################################################\n",
    "        #data1=nc.Dataset('/ihesp/xiliangdiao/ihespdata/ocn1/B.E.13.B1850C5.ne120_t12.sehires38.003.sunway_02.pop.h.0162-09.z_t.nc')\n",
    "        #A = data1.variables['z_t'][:]/100\n",
    "        my_font = {'fontname':'Cambria', 'size':'15'}\n",
    "        nice_cmap=sns.diverging_palette(245, 15, n=11,as_cmap=True)\n",
    "        lev_cmap = nice_cmap([1,30,50,70,100,130,170,210,230,240]) \n",
    "        new_cmap = cols.ListedColormap(lev_cmap,\"praj_cmap\")\n",
    "#|nice_levels = [34.40,34.42,34.45,34.50,34.55,34.60,34.65,34.68,34.70]\n",
    "        nice_levels = [0.1,0.3,0.5,10,30,50,70,80,100,120]\n",
    "        norm = mpl.colors.BoundaryNorm(nice_levels, new_cmap.N)\n",
    "#********************************************************************\n",
    "#********************************************************************\n",
    "#********************************************************************\n",
    "# plot the result\n",
    "        fig = plt.figure(figsize=(9.4, 7.7), dpi=100)\n",
    "        ax0 = fig.add_axes([0.1, 0.1, 0.8, 0.8])\n",
    "        im = ax0.contourf(xx[:50,:], yy[:50,:], plotvar[:50,:],cmap=new_cmap,norm =norm,spacing = 'uniform',levels = nice_levels,extend='both')\n",
    "        im.cmap.set_over('firebrick')\n",
    "        im.cmap.set_under('darkblue')\n",
    "        ax0.set_facecolor(\"black\")\n",
    "#ax0.imshow(np.where(plotvar.mask)[0],np.where(plotvar.mask)[1])\n",
    "#CS = ax0.contour(xx[:49,:], yy[:49,:], PD[:49,:],[27.74,27.75,27.76,27.77,27.78,27.785,27.786,27.787,27.788],colors = 'black', linestyles = 'solid',linewidths=1)\n",
    "#plt.clabel(CS, fontsize=10)\n",
    "        cbar = fig.colorbar(im, ax=ax0,ticks=nice_levels,spacing='uniform')\n",
    "        cbar.ax.tick_params(labelsize=15)\n",
    "        cbar.set_label('(psu)', **my_font)\n",
    "#############################################################################\n",
    "##设定X坐标值\n",
    "#plt.xticks(range(0,120,20), ['66.2$^\\circ$S', '65.3$^\\circ$S', '64.5$^\\circ$S','63.6$^\\circ$S','62.8$^\\circ$S'])\n",
    "#plt.yticks(range(0,61,5), ['5', '55','105', '155', '210', '285','408','638','1106','1968','3133','4375','5625'])\n",
    "        plt.yticks(**my_font)\n",
    "        plt.xticks(range(-300,300,100), ['30$^\\circ$W', '20$^\\circ$W', '10$^\\circ$W', '0$^\\circ$', '10$^\\circ$E','20$^\\circ$E','12$^\\circ$E','14$^\\circ$E'],**my_font)\n",
    "        #plt.xticks(range(0,15,2), ['0$^\\circ$', '2$^\\circ$E', '4$^\\circ$E', '6$^\\circ$E', '8$^\\circ$E','10$^\\circ$E','12$^\\circ$E','14$^\\circ$E'],**my_font)\n",
    "        plt.xlabel('Lontitude', **my_font)\n",
    "        plt.ylabel('Depth (m)', **my_font)\n",
    "        plt.gca().invert_yaxis()\n",
    "        #plt.xlabel('Age'+yy+'-'+mm,**my_font)\n",
    "        ax0.set_title('age'+year+'-'+mm,**my_font)\n",
    "        \n",
    "        i= i+1\n",
    "\n",
    "        plt.savefig(\"/scratch/user/xiliangdiao/plot/videonnn/PSP_%04d.png\"%(i))\n",
    "        #ax0.set_title('Salinity (118-10)',**my_font)\n",
    "        #plt.savefig(\"agecross118-10.png\")"
   ]
  },
  {
   "cell_type": "code",
   "execution_count": 2,
   "metadata": {},
   "outputs": [
    {
     "data": {
      "text/plain": [
       "'12'"
      ]
     },
     "execution_count": 2,
     "metadata": {},
     "output_type": "execute_result"
    }
   ],
   "source": [
    "mm"
   ]
  },
  {
   "cell_type": "code",
   "execution_count": 3,
   "metadata": {},
   "outputs": [
    {
     "data": {
      "text/plain": [
       "array([[5.0000000e+00, 5.0000000e+00, 5.0000000e+00, ..., 5.0000000e+00,\n",
       "        5.0000000e+00, 5.0000000e+00],\n",
       "       [1.5000000e+01, 1.5000000e+01, 1.5000000e+01, ..., 1.5000000e+01,\n",
       "        1.5000000e+01, 1.5000000e+01],\n",
       "       [2.5000000e+01, 2.5000000e+01, 2.5000000e+01, ..., 2.5000000e+01,\n",
       "        2.5000000e+01, 2.5000000e+01],\n",
       "       ...,\n",
       "       [5.3750000e+03, 5.3750000e+03, 5.3750000e+03, ..., 5.3750000e+03,\n",
       "        5.3750000e+03, 5.3750000e+03],\n",
       "       [5.6249907e+03, 5.6249907e+03, 5.6249907e+03, ..., 5.6249907e+03,\n",
       "        5.6249907e+03, 5.6249907e+03],\n",
       "       [5.8749907e+03, 5.8749907e+03, 5.8749907e+03, ..., 5.8749907e+03,\n",
       "        5.8749907e+03, 5.8749907e+03]], dtype=float32)"
      ]
     },
     "execution_count": 3,
     "metadata": {},
     "output_type": "execute_result"
    }
   ],
   "source": [
    "yy"
   ]
  },
  {
   "cell_type": "code",
   "execution_count": null,
   "metadata": {},
   "outputs": [],
   "source": []
  }
 ],
 "metadata": {
  "kernelspec": {
   "display_name": "Python 3",
   "language": "python",
   "name": "python3"
  },
  "language_info": {
   "codemirror_mode": {
    "name": "ipython",
    "version": 3
   },
   "file_extension": ".py",
   "mimetype": "text/x-python",
   "name": "python",
   "nbconvert_exporter": "python",
   "pygments_lexer": "ipython3",
   "version": "3.6.9"
  }
 },
 "nbformat": 4,
 "nbformat_minor": 2
}
