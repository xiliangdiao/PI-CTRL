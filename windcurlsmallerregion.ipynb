{
 "cells": [
  {
   "cell_type": "code",
   "execution_count": 1,
   "id": "bf90661b",
   "metadata": {},
   "outputs": [],
   "source": [
    "import netCDF4 as nc\n",
    "import matplotlib.pyplot as plt\n",
    "from matplotlib.colors import from_levels_and_colors\n",
    "import numpy as np\n",
    "from matplotlib import animation\n",
    "from matplotlib.colors import BoundaryNorm\n",
    "import matplotlib.colors as cols\n",
    "import matplotlib as mpl\n",
    "from mpl_toolkits.basemap import Basemap\n",
    "from matplotlib import ticker, cm\n",
    "import seaborn as sns"
   ]
  },
  {
   "cell_type": "code",
   "execution_count": 2,
   "id": "9e6ca553",
   "metadata": {},
   "outputs": [],
   "source": [
    "data1=nc.Dataset('/ihesp/user/xiliangdiao/data/ihespdata/air500/TAUX/CESM_TAU_0291_.nc')\n",
    "TAUX1 = data1.variables['TAUX'][0,80:141,-160:]\n",
    "TAUX2 = data1.variables['TAUX'][0,80:141,:121]\n",
    "TAUX = np.hstack((TAUX1,TAUX2))\n",
    "#############################################\n",
    "lont1 = data1.variables['lon'][-160:]\n",
    "lont2 = data1.variables['lon'][:121]\n",
    "lont = np.hstack((lont1,lont2))   # 40W-30E\n",
    "latt = data1.variables['lat'][80:141] # 70S-55S\n",
    "############################################\n",
    "a = np.arange(0,61)\n",
    "import math\n",
    "#math.cos(math.radians(latt[:,3][399]))\n",
    "wholedis = np.zeros(61)\n",
    "for j in a:\n",
    "    wholedis[j] = 111.34* math.cos(math.radians(latt[j]))"
   ]
  },
  {
   "cell_type": "code",
   "execution_count": 3,
   "id": "5498a5d6",
   "metadata": {},
   "outputs": [],
   "source": [
    "# 20-330\n",
    "years = [f\"{x:04d}\" for x in range(0,3720)]\n",
    "ii =0\n",
    "result330 = np.zeros(3720)\n",
    "\n",
    "for yy in years:\n",
    "    data1=nc.Dataset('/ihesp/user/xiliangdiao/data/ihespdata/air500/TAUX300/CESM_TAU_'+yy+'_.nc')\n",
    "    TAUX1 = data1.variables['TAUX'][0,80:141,-160:]\n",
    "    TAUX2 = data1.variables['TAUX'][0,80:141,:121]\n",
    "    TAUX = np.hstack((TAUX1,TAUX2))\n",
    "    lont1 = data1.variables['lon'][-160:]\n",
    "    lont2 = data1.variables['lon'][:121]\n",
    "    lont = np.hstack((lont1,lont2))\n",
    "    latt = data1.variables['lat'][80:141]\n",
    "    ###### (u2-u1)/(y2-y1)\n",
    "    a = np.arange(0,60)\n",
    "    A1= np.zeros([61,281])\n",
    "    for i in a:\n",
    "        A1[i,:] = (TAUX[i+1,:]-TAUX[i,:])/(0.25*110.95)\n",
    "        ###################################\n",
    "    A3 = A1[0:60,0:280]\n",
    "        \n",
    "    result330[ii] = np.nanmean(A3)\n",
    "    ii = ii + 1"
   ]
  },
  {
   "cell_type": "code",
   "execution_count": 4,
   "id": "633b8866",
   "metadata": {},
   "outputs": [],
   "source": [
    "#338-500\n",
    "years = [f\"{x:04d}\" for x in range(0,1944)]\n",
    "ii =0\n",
    "result500 = np.zeros(1944)\n",
    "\n",
    "for yy in years:\n",
    "    data1=nc.Dataset('/ihesp/user/xiliangdiao/data/ihespdata/air500/TAUX/CESM_TAU_'+yy+'_.nc')\n",
    "    TAUX1 = data1.variables['TAUX'][0,80:141,-160:]\n",
    "    TAUX2 = data1.variables['TAUX'][0,80:141,:121]\n",
    "    TAUX = np.hstack((TAUX1,TAUX2))\n",
    "    lont1 = data1.variables['lon'][-160:]\n",
    "    lont2 = data1.variables['lon'][:121]\n",
    "    lont = np.hstack((lont1,lont2))\n",
    "    latt = data1.variables['lat'][80:141]\n",
    "    ###### (u2-u1)/(y2-y1)\n",
    "    a = np.arange(0,60)\n",
    "    A1= np.zeros([61,281])\n",
    "    for i in a:\n",
    "        A1[i,:] = (TAUX[i+1,:]-TAUX[i,:])/(0.25*110.95)\n",
    "        ###################################\n",
    "    A3 = A1[0:60,0:280]\n",
    "        \n",
    "    result500[ii] = np.nanmean(A3)\n",
    "    ii = ii + 1"
   ]
  },
  {
   "cell_type": "code",
   "execution_count": 5,
   "id": "5bbfa072",
   "metadata": {},
   "outputs": [],
   "source": [
    "#330-337\n",
    "years = [f\"{x:04d}\" for x in range(0,96)]\n",
    "ii =0\n",
    "result337 = np.zeros(96)\n",
    "# here PSL is TAUX !!!!!!!\n",
    "for yy in years:\n",
    "    data1=nc.Dataset('/scratch/user/xiliangdiao/firstpaper/TAUX/CESM_PSL_'+yy+'_.nc')\n",
    "    TAUX1 = data1.variables['PSL'][0,80:141,-160:]\n",
    "    TAUX2 = data1.variables['PSL'][0,80:141,:121]\n",
    "    TAUX = np.hstack((TAUX1,TAUX2))\n",
    "    lont1 = data1.variables['lon'][-160:]\n",
    "    lont2 = data1.variables['lon'][:121]\n",
    "    lont = np.hstack((lont1,lont2))\n",
    "    latt = data1.variables['lat'][80:141]\n",
    "    ###### (u2-u1)/(y2-y1)\n",
    "    a = np.arange(0,60)\n",
    "    A1= np.zeros([61,281])\n",
    "    for i in a:\n",
    "        A1[i,:] = (TAUX[i+1,:]-TAUX[i,:])/(0.25*110.95)\n",
    "        ###################################\n",
    "    A3 = A1[0:60,0:280]\n",
    "        \n",
    "    result337[ii] = np.nanmean(A3)\n",
    "    ii = ii + 1"
   ]
  },
  {
   "cell_type": "code",
   "execution_count": 6,
   "id": "cd3b5491",
   "metadata": {},
   "outputs": [],
   "source": [
    "d1 = result330[1560:]\n",
    "dd = np.hstack((d1,result337))\n",
    "ddd = np.hstack((dd,result500))"
   ]
  },
  {
   "cell_type": "code",
   "execution_count": 7,
   "id": "b63bbac0",
   "metadata": {},
   "outputs": [],
   "source": [
    "d4 = ddd.reshape(350,12)\n",
    "dmean = np.nanmean(d4,axis=1)"
   ]
  },
  {
   "cell_type": "code",
   "execution_count": 10,
   "id": "8b04a7bd",
   "metadata": {},
   "outputs": [],
   "source": [
    "dave = np.nanmean(dmean)\n",
    "fin = dmean - dave"
   ]
  },
  {
   "cell_type": "code",
   "execution_count": 11,
   "id": "5454945c",
   "metadata": {},
   "outputs": [],
   "source": [
    "ww2 = np.convolve(fin, np.ones((5,))/5, mode='valid')"
   ]
  },
  {
   "cell_type": "code",
   "execution_count": 12,
   "id": "14d5af72",
   "metadata": {},
   "outputs": [
    {
     "data": {
      "text/plain": [
       "[<matplotlib.lines.Line2D at 0x7f3a36929c88>]"
      ]
     },
     "execution_count": 12,
     "metadata": {},
     "output_type": "execute_result"
    },
    {
     "data": {
      "image/png": "[encoded data removed]",
      "text/plain": [
       "<Figure size 432x288 with 1 Axes>"
      ]
     },
     "metadata": {
      "needs_background": "light"
     },
     "output_type": "display_data"
    }
   ],
   "source": [
    "plt.plot(ww2)"
   ]
  },
  {
   "cell_type": "code",
   "execution_count": 13,
   "id": "d2767342",
   "metadata": {},
   "outputs": [],
   "source": [
    "np.savetxt('windcurlsmallerregion.out',ww2)"
   ]
  },
  {
   "cell_type": "code",
   "execution_count": null,
   "id": "10303193",
   "metadata": {},
   "outputs": [],
   "source": []
  }
 ],
 "metadata": {
  "kernelspec": {
   "display_name": "Python 3",
   "language": "python",
   "name": "python3"
  },
  "language_info": {
   "codemirror_mode": {
    "name": "ipython",
    "version": 3
   },
   "file_extension": ".py",
   "mimetype": "text/x-python",
   "name": "python",
   "nbconvert_exporter": "python",
   "pygments_lexer": "ipython3",
   "version": "3.6.10"
  }
 },
 "nbformat": 4,
 "nbformat_minor": 5
}
