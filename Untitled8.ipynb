{
 "cells": [
  {
   "cell_type": "code",
   "execution_count": null,
   "metadata": {},
   "outputs": [],
   "source": [
    "import netCDF4 as nc\n",
    "import matplotlib.pyplot as plt\n",
    "from matplotlib.colors import from_levels_and_colors\n",
    "import numpy as np\n",
    "from matplotlib import animation\n",
    "from matplotlib.colors import BoundaryNorm\n",
    "import matplotlib.colors as cols\n",
    "import matplotlib as mpl\n",
    "from mpl_toolkits.basemap import Basemap\n",
    "from matplotlib import ticker, cm\n",
    "import seaborn as sns"
   ]
  },
  {
   "cell_type": "code",
   "execution_count": null,
   "metadata": {},
   "outputs": [],
   "source": [
    "result = np.zeros((480,21))\n",
    "i=0"
   ]
  },
  {
   "cell_type": "code",
   "execution_count": null,
   "metadata": {},
   "outputs": [],
   "source": [
    "months = [f\"{x:02d}\" for x in range(1,13)]\n",
    "years = [f\"{x:04d}\" for x in range(141,181)]\n",
    "i =0\n",
    "for yy in years:\n",
    "    for mm in months:\n",
    "        data=nc.Dataset('/ihesp/xiliangdiao/ihespdata/ocnwhole/B.E.13.B1850C5.ne120_t12.sehires38.003.sunway_02.pop.h.'+yy+'-'+mm +'.TEMP.nc')\n",
    "        plotvar = data.variables['TEMP'][0,:,:]\n",
    "        lont = data.variables['TLONG']\n",
    "        latt = data.variables['TLAT']\n",
    "        plot = plotvar[53,:,:]\n",
    "        result[i,0] = plot[250,1100]\n",
    "        result[i,1] = plot[220,900]\n",
    "        result[i,2] = plot[220,710]\n",
    "        result[i,3] = plot[300,630]\n",
    "        result[i,4] = plot[340,750]\n",
    "        \n",
    "        \n",
    "        result[i,5] = plot[740,580]\n",
    "        result[i,6] = plot[800,620]\n",
    "        result[i,7] = plot[880,710]\n",
    "        result[i,8] = plot[980,740]\n",
    "        result[i,9] = plot[1060,760]\n",
    "        result[i,10] = plot[1150,770]\n",
    "        result[i,11] = plot[1200,700]\n",
    "        result[i,12] = plot[1250,640]\n",
    "        result[i,13] = plot[1280,570]\n",
    "        result[i,14] = plot[1330,530]\n",
    "        result[i,15] = plot[1380,460]\n",
    "        result[i,16] = plot[1440,370]\n",
    "        result[i,17] = plot[1500,370]\n",
    "        result[i,18] = plot[1550,400]\n",
    "        result[i,19] = plot[1600,460]\n",
    "        result[i,20] = plot[1600,600]\n",
    "        \n",
    "        i = i + 1"
   ]
  },
  {
   "cell_type": "code",
   "execution_count": null,
   "metadata": {},
   "outputs": [],
   "source": []
  },
  {
   "cell_type": "code",
   "execution_count": null,
   "metadata": {},
   "outputs": [],
   "source": []
  }
 ],
 "metadata": {
  "kernelspec": {
   "display_name": "Python 3",
   "language": "python",
   "name": "python3"
  },
  "language_info": {
   "codemirror_mode": {
    "name": "ipython",
    "version": 3
   },
   "file_extension": ".py",
   "mimetype": "text/x-python",
   "name": "python",
   "nbconvert_exporter": "python",
   "pygments_lexer": "ipython3",
   "version": "3.6.9"
  }
 },
 "nbformat": 4,
 "nbformat_minor": 2
}
