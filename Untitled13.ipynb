{
 "cells": [
  {
   "cell_type": "code",
   "execution_count": 1,
   "metadata": {},
   "outputs": [],
   "source": [
    "import netCDF4 as nc\n",
    "import matplotlib.pyplot as plt\n",
    "from matplotlib.colors import from_levels_and_colors\n",
    "import numpy as np\n",
    "from matplotlib import animation\n",
    "from matplotlib.colors import BoundaryNorm\n",
    "import matplotlib.colors as cols\n",
    "import matplotlib as mpl\n",
    "from mpl_toolkits.basemap import Basemap\n",
    "from matplotlib import ticker, cm\n",
    "import seaborn as sns"
   ]
  },
  {
   "cell_type": "code",
   "execution_count": 2,
   "metadata": {},
   "outputs": [],
   "source": [
    "result = np.zeros((480,13))\n",
    "i=0"
   ]
  },
  {
   "cell_type": "code",
   "execution_count": 3,
   "metadata": {},
   "outputs": [
    {
     "ename": "KeyboardInterrupt",
     "evalue": "",
     "output_type": "error",
     "traceback": [
      "\u001b[0;31m---------------------------------------------------------------------------\u001b[0m",
      "\u001b[0;31mKeyboardInterrupt\u001b[0m                         Traceback (most recent call last)",
      "\u001b[0;32m<ipython-input-3-76fc25380710>\u001b[0m in \u001b[0;36m<module>\u001b[0;34m\u001b[0m\n\u001b[1;32m      5\u001b[0m     \u001b[0;32mfor\u001b[0m \u001b[0mmm\u001b[0m \u001b[0;32min\u001b[0m \u001b[0mmonths\u001b[0m\u001b[0;34m:\u001b[0m\u001b[0;34m\u001b[0m\u001b[0;34m\u001b[0m\u001b[0m\n\u001b[1;32m      6\u001b[0m         \u001b[0mdata\u001b[0m\u001b[0;34m=\u001b[0m\u001b[0mnc\u001b[0m\u001b[0;34m.\u001b[0m\u001b[0mDataset\u001b[0m\u001b[0;34m(\u001b[0m\u001b[0;34m'/ihesp/xiliangdiao/ihespdata/ocn1/B.E.13.B1850C5.ne120_t12.sehires38.003.sunway_02.pop.h.'\u001b[0m\u001b[0;34m+\u001b[0m\u001b[0myy\u001b[0m\u001b[0;34m+\u001b[0m\u001b[0;34m'-'\u001b[0m\u001b[0;34m+\u001b[0m\u001b[0mmm\u001b[0m \u001b[0;34m+\u001b[0m\u001b[0;34m'.TEMP.nc'\u001b[0m\u001b[0;34m)\u001b[0m\u001b[0;34m\u001b[0m\u001b[0;34m\u001b[0m\u001b[0m\n\u001b[0;32m----> 7\u001b[0;31m         \u001b[0mplotvar\u001b[0m \u001b[0;34m=\u001b[0m \u001b[0mdata\u001b[0m\u001b[0;34m.\u001b[0m\u001b[0mvariables\u001b[0m\u001b[0;34m[\u001b[0m\u001b[0;34m'TEMP'\u001b[0m\u001b[0;34m]\u001b[0m\u001b[0;34m[\u001b[0m\u001b[0;36m0\u001b[0m\u001b[0;34m,\u001b[0m\u001b[0;34m:\u001b[0m\u001b[0;34m,\u001b[0m\u001b[0;34m:\u001b[0m\u001b[0;34m]\u001b[0m\u001b[0;34m\u001b[0m\u001b[0;34m\u001b[0m\u001b[0m\n\u001b[0m\u001b[1;32m      8\u001b[0m         \u001b[0mlont\u001b[0m \u001b[0;34m=\u001b[0m \u001b[0mdata\u001b[0m\u001b[0;34m.\u001b[0m\u001b[0mvariables\u001b[0m\u001b[0;34m[\u001b[0m\u001b[0;34m'TLONG'\u001b[0m\u001b[0;34m]\u001b[0m\u001b[0;34m\u001b[0m\u001b[0;34m\u001b[0m\u001b[0m\n\u001b[1;32m      9\u001b[0m         \u001b[0mlatt\u001b[0m \u001b[0;34m=\u001b[0m \u001b[0mdata\u001b[0m\u001b[0;34m.\u001b[0m\u001b[0mvariables\u001b[0m\u001b[0;34m[\u001b[0m\u001b[0;34m'TLAT'\u001b[0m\u001b[0;34m]\u001b[0m\u001b[0;34m\u001b[0m\u001b[0;34m\u001b[0m\u001b[0m\n",
      "\u001b[0;32mnetCDF4/_netCDF4.pyx\u001b[0m in \u001b[0;36mnetCDF4._netCDF4.Variable.__getitem__\u001b[0;34m()\u001b[0m\n",
      "\u001b[0;32mnetCDF4/_netCDF4.pyx\u001b[0m in \u001b[0;36mnetCDF4._netCDF4.Variable._toma\u001b[0;34m()\u001b[0m\n",
      "\u001b[0;32mnetCDF4/_netCDF4.pyx\u001b[0m in \u001b[0;36mnetCDF4._netCDF4.Variable._check_safecast\u001b[0;34m()\u001b[0m\n",
      "\u001b[0;32m/scratch/user/xiliangdiao/.conda/envs/python3/lib/python3.6/site-packages/netCDF4/utils.py\u001b[0m in \u001b[0;36m_safecast\u001b[0;34m(a, b)\u001b[0m\n\u001b[1;32m     21\u001b[0m     \u001b[0mbytes\u001b[0m \u001b[0;34m=\u001b[0m \u001b[0mstr\u001b[0m\u001b[0;34m\u001b[0m\u001b[0;34m\u001b[0m\u001b[0m\n\u001b[1;32m     22\u001b[0m \u001b[0;34m\u001b[0m\u001b[0m\n\u001b[0;32m---> 23\u001b[0;31m \u001b[0;32mdef\u001b[0m \u001b[0m_safecast\u001b[0m\u001b[0;34m(\u001b[0m\u001b[0ma\u001b[0m\u001b[0;34m,\u001b[0m\u001b[0mb\u001b[0m\u001b[0;34m)\u001b[0m\u001b[0;34m:\u001b[0m\u001b[0;34m\u001b[0m\u001b[0;34m\u001b[0m\u001b[0m\n\u001b[0m\u001b[1;32m     24\u001b[0m     \u001b[0;31m# check to see if array a can be safely cast\u001b[0m\u001b[0;34m\u001b[0m\u001b[0;34m\u001b[0m\u001b[0;34m\u001b[0m\u001b[0m\n\u001b[1;32m     25\u001b[0m     \u001b[0;31m# to array b.  A little less picky than numpy.can_cast.\u001b[0m\u001b[0;34m\u001b[0m\u001b[0;34m\u001b[0m\u001b[0;34m\u001b[0m\u001b[0m\n",
      "\u001b[0;31mKeyboardInterrupt\u001b[0m: "
     ]
    }
   ],
   "source": [
    "months = [f\"{x:02d}\" for x in range(1,13)]\n",
    "years = [f\"{x:04d}\" for x in range(141,181)]\n",
    "i =0\n",
    "for yy in years:\n",
    "    for mm in months:\n",
    "        data=nc.Dataset('/ihesp/xiliangdiao/ihespdata/ocn1/B.E.13.B1850C5.ne120_t12.sehires38.003.sunway_02.pop.h.'+yy+'-'+mm +'.TEMP.nc')\n",
    "        plotvar = data.variables['TEMP'][0,:,:]\n",
    "        lont = data.variables['TLONG']\n",
    "        latt = data.variables['TLAT']\n",
    "        plot1 = plotvar[30:35,:,:]\n",
    "        plot = plot1.mean(axis = 0)\n",
    "        result[i,0] = plot[260,1050]\n",
    "        result[i,1] = plot[230,970]\n",
    "        result[i,2] = plot[190,900]\n",
    "        result[i,3] = plot[200,800]\n",
    "        result[i,4] = plot[220,710]\n",
    "        \n",
    "        result[i,5] = plot[260,670]\n",
    "        result[i,6] = plot[300,630]\n",
    "        result[i,7] = plot[340,660]\n",
    "        result[i,8] = plot[380,690]\n",
    "        result[i,9] = plot[410,720]\n",
    "        result[i,10] = plot[450,750]\n",
    "        result[i,11] = plot[450,780]\n",
    "        result[i,12] = plot[460,810]\n",
    "\n",
    "\n",
    "        \n",
    "        i = i + 1"
   ]
  },
  {
   "cell_type": "code",
   "execution_count": null,
   "metadata": {},
   "outputs": [],
   "source": [
    "#final = np.zeros((40,13))\n",
    "#years = np.arange(0,480,12)\n",
    "#i = 0\n",
    "#for ii in years:\n",
    "#    final[i,:] = (result[ii,:]+result[ii+1,:]+result[ii+2,:]+result[ii+3,:]+result[ii+4,:]+result[ii+5,:]+result[ii+6,:]+result[ii+7,:]+result[ii+8,:]+result[ii+9,:]+result[ii+10,:]+result[ii+11,:])/12\n",
    "    #final[i,:] = (result[ii,:]+result[ii+1,:]+result[ii+2,:])/3\n",
    "#    i = i+1"
   ]
  },
  {
   "cell_type": "code",
   "execution_count": null,
   "metadata": {},
   "outputs": [],
   "source": []
  },
  {
   "cell_type": "code",
   "execution_count": null,
   "metadata": {},
   "outputs": [],
   "source": [
    "resultmean = final.mean(axis = 0)\n",
    "\n",
    "ave = final - resultmean"
   ]
  },
  {
   "cell_type": "code",
   "execution_count": null,
   "metadata": {},
   "outputs": [],
   "source": [
    "nice_cmap=sns.diverging_palette(245, 15, n=13,as_cmap=True)\n",
    "#nice_cmap=sns.diverging_palette(245, 10, n=10,as_cmap=True)\n",
    "lev_cmap = nice_cmap([10,20,30,70,100,110,130,150,160,170,190,210,220,230,240]) \n",
    "new_cmap = cols.ListedColormap(lev_cmap,\"praj_cmap\")\n",
    "my_font = {'fontname':'Cambria', 'size':'20'}\n",
    "nice_levels = [-1,-0.8,-0.6,-0.4,-0.2,0,0.2,0.4,0.6,0.8,1]\n",
    "#nice_levels = [-0.4,-0.2,-0.15,-0.1,-0.05,0,0.05,0.1,0.15,0.2,0.4]\n",
    "#nice_levels = [-0.6,-0.55,-0.5,-0.45,-0.4,-0.35,-0.3,-0.25,-0.2]\n",
    "#nice_levels = [-1.75,-1.7,-1.65,-1.6,-1.55,-1.5,-1.45,-1.4,-1,-0.8,-0.4,-0.1] # for top 55m\n",
    "#nice_levels = [-0.1,0,0.1,0.2,0.3,0.4,0.5,0.6,0.7,0.8,0.9,1.0,1.1,1.2,1.3,1.4]\n",
    "#nice_levels = [-0.1,-0.05,-0.03,-0.01,-0.005,-0.002,0,0.001,0.003,0.005,0.01,0.02,0.05,0.1]\n",
    "norm = mpl.colors.BoundaryNorm(nice_levels, new_cmap.N)"
   ]
  },
  {
   "cell_type": "code",
   "execution_count": null,
   "metadata": {},
   "outputs": [],
   "source": [
    "A = np.arange(40)\n",
    "B = np.arange(13)\n",
    "xx, yy = np.meshgrid(B, A)"
   ]
  },
  {
   "cell_type": "code",
   "execution_count": null,
   "metadata": {},
   "outputs": [],
   "source": [
    "# plot the result\n",
    "fig = plt.figure(figsize=(10, 7),dpi=100)\n",
    "ax0 = fig.add_axes([0.1, 0.1, 0.8, 0.8])\n",
    "my_font = {'fontname':'Cambria', 'size':'20'}\n",
    "im = ax0.contourf(yy, xx, ave, cmap = new_cmap)#,norm =norm)#,spacing = 'uniform',\\\n",
    "               #   levels = nice_levels,extend='both')\n",
    "#plt.hlines(16, 0,39 , colors = \"g\",linestyles = \"dashed\")\n",
    "im.cmap.set_over('firebrick')\n",
    "im.cmap.set_under('darkblue')\n",
    "cbar = fig.colorbar(im, ax=ax0)#,ticks=nice_levels,extendfrac='auto')\n",
    "cbar.ax.tick_params(labelsize=20)\n",
    "#cbar.set_label('($^\\circ$C)', **my_font)\n",
    "cbar.set_label('(psu)', **my_font)\n",
    "#plt.clabel(CS, inline=0.1, fontsize=10)\n",
    "\n",
    "#############################################################################\n",
    "##设定X坐标值\n",
    "#plt.xticks(range(0,40,5), ['0','5','10', '15', '20', '25','30','35','40'],**my_font)\n",
    "plt.xticks(range(0,40,5), ['140','145','150', '155', '160', '165','170','175','180'],**my_font)\n",
    "plt.yticks(range(0,13,2), ['0', '2', '4', '6', '8','10','12'],**my_font)\n",
    "plt.xlabel('Years',**my_font)\n",
    "plt.ylabel('Point Location',**my_font)\n",
    "ax0.set_title('Temperature Anomaly (upper 105m)',**my_font)\n",
    "plt.savefig(\"try.png\")"
   ]
  },
  {
   "cell_type": "code",
   "execution_count": null,
   "metadata": {},
   "outputs": [],
   "source": [
    "# plot the result\n",
    "fig = plt.figure(figsize=(10, 7),dpi=100)\n",
    "ax0 = fig.add_axes([0.1, 0.1, 0.8, 0.8])\n",
    "my_font = {'fontname':'Cambria', 'size':'20'}\n",
    "im = ax0.contourf(yy, xx, final, cmap = new_cmap)#,norm =norm,spacing = 'uniform',\\\n",
    "               #   levels = nice_levels,extend='both')\n",
    "#plt.hlines(16, 0,39 , colors = \"g\",linestyles = \"dashed\")\n",
    "im.cmap.set_over('firebrick')\n",
    "im.cmap.set_under('darkblue')\n",
    "cbar = fig.colorbar(im, ax=ax0)#,ticks=nice_levels,extendfrac='auto')\n",
    "cbar.ax.tick_params(labelsize=20)\n",
    "cbar.set_label('($^\\circ$C)', **my_font)\n",
    "#cbar.set_label('(psu)', **my_font)\n",
    "#plt.clabel(CS, inline=0.1, fontsize=10)\n",
    "\n",
    "#############################################################################\n",
    "##设定X坐标值\n",
    "#plt.xticks(range(0,40,5), ['0','5','10', '15', '20', '25','30','35','40'],**my_font)\n",
    "plt.xticks(range(0,40,5), ['140','145','150', '155', '160', '165','170','175','180'],**my_font)\n",
    "plt.yticks(range(0,13,2), ['0', '2', '4', '6', '8','10','12'],**my_font)\n",
    "plt.xlabel('Years',**my_font)\n",
    "plt.ylabel('Point Location',**my_font)\n",
    "ax0.set_title('Temperature (upper 105m)',**my_font)\n",
    "plt.savefig(\"try.png\")"
   ]
  },
  {
   "cell_type": "code",
   "execution_count": null,
   "metadata": {},
   "outputs": [],
   "source": []
  },
  {
   "cell_type": "code",
   "execution_count": null,
   "metadata": {},
   "outputs": [],
   "source": []
  },
  {
   "cell_type": "code",
   "execution_count": null,
   "metadata": {},
   "outputs": [],
   "source": []
  },
  {
   "cell_type": "code",
   "execution_count": null,
   "metadata": {},
   "outputs": [],
   "source": []
  }
 ],
 "metadata": {
  "kernelspec": {
   "display_name": "Python 3",
   "language": "python",
   "name": "python3"
  },
  "language_info": {
   "codemirror_mode": {
    "name": "ipython",
    "version": 3
   },
   "file_extension": ".py",
   "mimetype": "text/x-python",
   "name": "python",
   "nbconvert_exporter": "python",
   "pygments_lexer": "ipython3",
   "version": "3.6.6"
  }
 },
 "nbformat": 4,
 "nbformat_minor": 2
}
