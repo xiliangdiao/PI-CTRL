{
 "cells": [
  {
   "cell_type": "code",
   "execution_count": 1,
   "metadata": {},
   "outputs": [],
   "source": [
    "import netCDF4 as nc\n",
    "import matplotlib.pyplot as plt\n",
    "from matplotlib.colors import from_levels_and_colors\n",
    "import numpy as np\n",
    "from matplotlib import animation\n",
    "from matplotlib.colors import BoundaryNorm\n",
    "import matplotlib.colors as cols\n",
    "import matplotlib as mpl\n",
    "from mpl_toolkits.basemap import Basemap\n",
    "from matplotlib import ticker, cm\n",
    "import seaborn as sns\n",
    "import numpy.ma as ma"
   ]
  },
  {
   "cell_type": "code",
   "execution_count": 2,
   "metadata": {},
   "outputs": [],
   "source": [
    "result = np.zeros((12,40,13))\n",
    "i=0"
   ]
  },
  {
   "cell_type": "code",
   "execution_count": null,
   "metadata": {},
   "outputs": [],
   "source": [
    "#months = [f\"{x:02d}\" for x in range(7,10)]\n",
    "months = [f\"{x:02d}\" for x in range(1,13)]\n",
    "years = [f\"{x:04d}\" for x in range(141,181)]\n",
    "\n",
    "for yi,yy in enumerate(years):\n",
    "    for mi,mm in enumerate(months):\n",
    "        data=nc.Dataset('/ihesp/xiliangdiao/ihespdata/ocn1/B.E.13.B1850C5.ne120_t12.sehires38.003.sunway_02.pop.h.'+yy+'-'+mm +'.SALT.nc')\n",
    "        plotvar = data.variables['SALT'][0,:,:]\n",
    "        lont = data.variables['TLONG']\n",
    "        latt = data.variables['TLAT']\n",
    "        plot = plotvar[30,:,:]\n",
    "        result[mi,yi,0] = plot[260,1050]\n",
    "        result[mi,yi,1] = plot[230,970]\n",
    "        result[mi,yi,2] = plot[190,900]\n",
    "        result[mi,yi,3] = plot[200,800]\n",
    "        result[mi,yi,4] = plot[220,710]\n",
    "        result[mi,yi,5] = plot[260,670]\n",
    "        result[mi,yi,6] = plot[300,630]\n",
    "        result[mi,yi,7] = plot[340,660]\n",
    "        result[mi,yi,8] = plot[380,690]\n",
    "        result[mi,yi,9] = plot[410,720]\n",
    "        result[mi,yi,10] = plot[450,750]\n",
    "        result[mi,yi,11] = plot[450,780]\n",
    "        result[mi,yi,12] = plot[460,810]"
   ]
  },
  {
   "cell_type": "code",
   "execution_count": null,
   "metadata": {},
   "outputs": [],
   "source": [
    "ave = result.mean(axis =1)"
   ]
  },
  {
   "cell_type": "code",
   "execution_count": null,
   "metadata": {},
   "outputs": [],
   "source": [
    "A = np.arange(12)\n",
    "B = np.arange(13)\n",
    "xx, yy = np.meshgrid(B, A)"
   ]
  },
  {
   "cell_type": "code",
   "execution_count": null,
   "metadata": {},
   "outputs": [],
   "source": [
    "nice_cmap=sns.diverging_palette(245, 10, n=30,as_cmap=True)\n",
    "#nice_cmap=sns.diverging_palette(245, 10, n=10,as_cmap=True)\n",
    "#lev_cmap = nice_cmap([20,30,40,50,70,90,110,120,130,170,180,185,190,\\\n",
    " #                     195,200,205,210,215,220,225,230,235,250]) \n",
    "lev_cmap = nice_cmap([10,20,30,70,100,110,130,150,160,170,190,210,220,230,240]) \n",
    "new_cmap = cols.ListedColormap(lev_cmap,\"praj_cmap\")\n",
    "my_font = {'fontname':'Cambria', 'size':'20'}\n",
    "nice_levels = [-0.8,-0.6,-0.4,-0.2,0,0.2,0.4,0.6,0.8]\n",
    "#nice_levels = [-1.5,-0.8,-0.4,-0.1,0,0.1,0.4,0.8,1.5]\n",
    "#nice_levels = [-0.1,-0.09,-0.08,-0.07,-0.06,-0.05,-0.04,-0.03,-0.02,-0.01,0,0.01,0.02,0.03,0.04,0.05,0.06,0.07,0.08,0.09,0.1]\n",
    "#nice_levels = [-0.6,-0.58,-0.56,-0.54,-0.52,-0.5,-0.48,-0.46,-0.44,-0.42,-0.4,-0.38,-0.36,-0.34,-0.32,-0.3,-0.28,-0.26]\n",
    "#nice_levels = [-1.75,-1.7,-1.65,-1.6,-1.55,-1.5,-1.45,-1.4,-1,-0.8,-0.4,-0.1] # for top 55m\n",
    "#nice_levels = [-1.6,-1.5,-1.3,-1.2,-1.1,-1,-0.9,-0.8,-0.7,-0.6,-0.5,-0.4,-0.3,-0.2,-0.1,0,0.1,0.2,0.3,0.4,0.5,0.6,0.7,0.8,0.9,1.0]\n",
    "norm = mpl.colors.BoundaryNorm(nice_levels, new_cmap.N)\n",
    "#bar_levels = [-0.9,-0.6,-0.3,0,0.3,0.6,0.9,1.2,1.5]"
   ]
  },
  {
   "cell_type": "code",
   "execution_count": null,
   "metadata": {},
   "outputs": [],
   "source": [
    "# plot the result\n",
    "fig = plt.figure(figsize=(10, 7),dpi=100)\n",
    "ax0 = fig.add_axes([0.1, 0.1, 0.8, 0.8])\n",
    "my_font = {'fontname':'Cambria', 'size':'20'}\n",
    "im = ax0.contourf(yy, xx, ave, cmap = new_cmap)#,norm =norm,spacing = 'uniform',\\\n",
    "                  #levels = nice_levels,extend='both')\n",
    "im.cmap.set_over('firebrick')\n",
    "im.cmap.set_under('darkblue')\n",
    "#plt.vlines(530, 0, 479, colors = \"y\",linestyles = \"dashed\")\n",
    "#plt.vlines(530, 0, 159, colors = \"y\",linestyles = \"dashed\")\n",
    "#CS = ax0.contour(xx[:,430],yy[:,430],colors = 'r')\n",
    "cbar = fig.colorbar(im, ax=ax0)#,ticks=nice_levels,extendfrac='auto')\n",
    "cbar.ax.tick_params(labelsize=20)\n",
    "cbar.set_label('($^\\circ$C)', **my_font)\n",
    "#plt.clabel(CS, inline=0.1, fontsize=10)\n",
    "\n",
    "#############################################################################\n",
    "##设定X坐标值\n",
    "#plt.xticks(range(0,801,100), ['-50','-40','-30', '-20', '-10', '0','10','20','30'],**my_font)\n",
    "#plt.yticks(range(0,480,60), ['140', '145', '150', '155', '160','165','170','175','180'],**my_font)\n",
    "#plt.yticks(range(0,12,2), ['0', '2', '4', '6', '8','10','12'],**my_font)\n",
    "plt.ylabel('Longtitude',**my_font)\n",
    "plt.xlabel('Months',**my_font)\n",
    "ax0.set_title('Temperature (5-105m) Averaged(64$^\\circ$S - 68$^\\circ$S)',**my_font)\n",
    "plt.savefig(\"tem95.png\")"
   ]
  },
  {
   "cell_type": "code",
   "execution_count": null,
   "metadata": {},
   "outputs": [],
   "source": [
    "avefi = result - ave[:,np.newaxis,:]"
   ]
  },
  {
   "cell_type": "code",
   "execution_count": null,
   "metadata": {},
   "outputs": [],
   "source": [
    "re = np.zeros((480,13))"
   ]
  },
  {
   "cell_type": "code",
   "execution_count": null,
   "metadata": {},
   "outputs": [],
   "source": [
    "a = [f\"{x:02d}\" for x in range(0,40)]\n",
    "b = [f\"{x:02d}\" for x in range(0,12)]\n",
    "i=0\n",
    "for ii,aa in enumerate(a):\n",
    "    for ll,bb in enumerate(b):\n",
    "        re[i,:] = avefi[ll,ii,:]\n",
    "        i=i+1"
   ]
  },
  {
   "cell_type": "code",
   "execution_count": null,
   "metadata": {},
   "outputs": [],
   "source": [
    "A = np.arange(480)\n",
    "B = np.arange(13)\n",
    "xx, yy = np.meshgrid(B, A)"
   ]
  },
  {
   "cell_type": "code",
   "execution_count": null,
   "metadata": {},
   "outputs": [],
   "source": [
    "# plot the result\n",
    "fig = plt.figure(figsize=(10, 7),dpi=100)\n",
    "ax0 = fig.add_axes([0.1, 0.1, 0.8, 0.8])\n",
    "my_font = {'fontname':'Cambria', 'size':'20'}\n",
    "im = ax0.contourf(yy, xx, re, cmap = new_cmap)#,norm =norm,spacing = 'uniform',\\\n",
    "                  #levels = nice_levels,extend='both')\n",
    "im.cmap.set_over('firebrick')\n",
    "im.cmap.set_under('darkblue')\n",
    "#plt.vlines(530, 0, 479, colors = \"y\",linestyles = \"dashed\")\n",
    "#plt.vlines(530, 0, 159, colors = \"y\",linestyles = \"dashed\")\n",
    "#CS = ax0.contour(xx[:,430],yy[:,430],colors = 'r')\n",
    "cbar = fig.colorbar(im, ax=ax0)#,ticks=nice_levels,extendfrac='auto')\n",
    "cbar.ax.tick_params(labelsize=20)\n",
    "#cbar.set_label('($^\\circ$C)', **my_font)\n",
    "cbar.set_label('(psu)', **my_font)\n",
    "#plt.clabel(CS, inline=0.1, fontsize=10)\n",
    "\n",
    "#############################################################################\n",
    "##设定X坐标值\n",
    "plt.yticks(range(0,13,1), ['0','1','2', '3', '4', '5','6','7','8', '9','10','11','12'],**my_font)\n",
    "plt.xticks(range(0,481,60), ['140', '145', '150', '155', '160','165','170','175','180'],**my_font)\n",
    "#plt.yticks(range(0,12,2), ['0', '2', '4', '6', '8','10','12'],**my_font)\n",
    "plt.ylabel('Longtitude',**my_font)\n",
    "plt.xlabel('Years',**my_font)\n",
    "ax0.set_title('Salinity Anomaly(408m)',**my_font)\n",
    "plt.savefig(\"tem95.png\")"
   ]
  },
  {
   "cell_type": "code",
   "execution_count": null,
   "metadata": {},
   "outputs": [],
   "source": [
    "x1 = np.array([1, 2, 3, 4, 5, 6,7,8,9,10,11,12])"
   ]
  },
  {
   "cell_type": "code",
   "execution_count": null,
   "metadata": {},
   "outputs": [],
   "source": [
    "x2 = x1.reshape(2,3,2)"
   ]
  },
  {
   "cell_type": "code",
   "execution_count": null,
   "metadata": {},
   "outputs": [],
   "source": [
    "x3 = np.array([1, 2, 3, 4])"
   ]
  },
  {
   "cell_type": "code",
   "execution_count": null,
   "metadata": {},
   "outputs": [],
   "source": [
    "x4 = x3.reshape(2,2)"
   ]
  },
  {
   "cell_type": "code",
   "execution_count": null,
   "metadata": {},
   "outputs": [],
   "source": [
    "x2 - x4[:,np.newaxis,:]"
   ]
  },
  {
   "cell_type": "code",
   "execution_count": null,
   "metadata": {},
   "outputs": [],
   "source": [
    "x2"
   ]
  },
  {
   "cell_type": "code",
   "execution_count": null,
   "metadata": {},
   "outputs": [],
   "source": [
    "test = np.zeros((12,40,13))"
   ]
  },
  {
   "cell_type": "code",
   "execution_count": null,
   "metadata": {},
   "outputs": [],
   "source": [
    "a = [f\"{x:02d}\" for x in range(0,40)]\n",
    "for ii,aa in enumerate(a):\n",
    "    test[:,ii,:]= result[:,ii,:] - ave"
   ]
  },
  {
   "cell_type": "code",
   "execution_count": null,
   "metadata": {},
   "outputs": [],
   "source": [
    "(test - avefi).max()"
   ]
  },
  {
   "cell_type": "code",
   "execution_count": null,
   "metadata": {},
   "outputs": [],
   "source": [
    "test.shape"
   ]
  },
  {
   "cell_type": "code",
   "execution_count": null,
   "metadata": {},
   "outputs": [],
   "source": []
  }
 ],
 "metadata": {
  "kernelspec": {
   "display_name": "Python 3",
   "language": "python",
   "name": "python3"
  },
  "language_info": {
   "codemirror_mode": {
    "name": "ipython",
    "version": 3
   },
   "file_extension": ".py",
   "mimetype": "text/x-python",
   "name": "python",
   "nbconvert_exporter": "python",
   "pygments_lexer": "ipython3",
   "version": "3.6.9"
  }
 },
 "nbformat": 4,
 "nbformat_minor": 2
}
