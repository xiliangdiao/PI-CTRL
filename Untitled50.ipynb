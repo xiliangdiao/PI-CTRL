{
 "cells": [
  {
   "cell_type": "code",
   "execution_count": 1,
   "id": "9919c3b0",
   "metadata": {},
   "outputs": [],
   "source": [
    "import netCDF4 as nc\n",
    "import matplotlib.pyplot as plt\n",
    "from matplotlib.colors import from_levels_and_colors\n",
    "import numpy as np\n",
    "from matplotlib import animation\n",
    "from matplotlib.colors import BoundaryNorm\n",
    "import matplotlib.colors as cols\n",
    "import matplotlib as mpl\n",
    "from mpl_toolkits.basemap import Basemap\n",
    "from matplotlib import ticker, cm\n",
    "import seaborn as sns"
   ]
  },
  {
   "cell_type": "code",
   "execution_count": 2,
   "id": "964efcbb",
   "metadata": {},
   "outputs": [],
   "source": [
    "# 65 大气压 338-500\n",
    "\n",
    "result31 = np.zeros((1955,100,1440))\n",
    "i = 0\n",
    "nu = [f\"{x:04d}\" for x in range(0,1955)]\n",
    "i =0\n",
    "for mm in nu:\n",
    "    data=nc.Dataset('/ihesp/user/xiliangdiao/data/ihespdata/air500/CESM_PSL_'+mm+'_.nc')\n",
    "    plot65 = data.variables['PSL'][0,100:200,:]\n",
    "    result31[i,:,:] = plot65\n",
    "    i = i + 1"
   ]
  },
  {
   "cell_type": "code",
   "execution_count": 3,
   "id": "22d94e44",
   "metadata": {},
   "outputs": [],
   "source": [
    "result311 = np.nanmean(result31,axis=1)"
   ]
  },
  {
   "cell_type": "code",
   "execution_count": 4,
   "id": "1e6f4b96",
   "metadata": {},
   "outputs": [],
   "source": [
    "# 65 大气压 20-330\n",
    "\n",
    "result11 = np.zeros((3720,100,1440))\n",
    "i = 0\n",
    "nu = [f\"{x:04d}\" for x in range(0,3720)]\n",
    "i =0\n",
    "for mm in nu:\n",
    "    data=nc.Dataset('/ihesp/user/xiliangdiao/data/ihespdata/air/TRY/CESM_PSL_'+mm+'_.nc')\n",
    "    plot65 = data.variables['PSL'][0,100:200,:]\n",
    "    result11[i,:,:] = plot65\n",
    "    i = i + 1"
   ]
  },
  {
   "cell_type": "code",
   "execution_count": 5,
   "id": "9e055a91",
   "metadata": {},
   "outputs": [],
   "source": [
    "result111 = np.nanmean(result11,axis=1)"
   ]
  },
  {
   "cell_type": "code",
   "execution_count": 6,
   "id": "9b172cf1",
   "metadata": {},
   "outputs": [],
   "source": [
    "# 65 330-338\n",
    "result21 = np.zeros((96,100,1440))\n",
    "i = 0\n",
    "nu = [f\"{x:04d}\" for x in range(1,97)]\n",
    "i =0\n",
    "for mm in nu:\n",
    "    data=nc.Dataset('/scratch/user/xiliangdiao/firstpaper/SAM/CESM_PSL_'+mm+'_.nc')\n",
    "    plot65 = data.variables['PSL'][0,100:200,:]\n",
    "    result21[i,:,:] = plot65\n",
    "    i = i + 1"
   ]
  },
  {
   "cell_type": "code",
   "execution_count": 7,
   "id": "65c6e3b2",
   "metadata": {},
   "outputs": [],
   "source": [
    "result211 = np.nanmean(result21,axis=1)"
   ]
  },
  {
   "cell_type": "code",
   "execution_count": 9,
   "id": "cf185ced",
   "metadata": {},
   "outputs": [],
   "source": [
    "re65 = np.vstack((result111,result211))\n",
    "re652 = np.vstack((re65,result311))"
   ]
  },
  {
   "cell_type": "code",
   "execution_count": 10,
   "id": "47d69d30",
   "metadata": {},
   "outputs": [
    {
     "data": {
      "text/plain": [
       "(5771, 1440)"
      ]
     },
     "execution_count": 10,
     "metadata": {},
     "output_type": "execute_result"
    }
   ],
   "source": [
    "re652.shape"
   ]
  },
  {
   "cell_type": "code",
   "execution_count": 17,
   "id": "f5a0a987",
   "metadata": {},
   "outputs": [],
   "source": [
    "rrr1 = re652[:,0:160]\n",
    "rrr2 = re652[:,-180:1]"
   ]
  },
  {
   "cell_type": "code",
   "execution_count": 18,
   "id": "d5992f99",
   "metadata": {},
   "outputs": [],
   "source": [
    "P40 = np.hstack((rrr2,rrr1))"
   ]
  },
  {
   "cell_type": "code",
   "execution_count": 19,
   "id": "759e7154",
   "metadata": {},
   "outputs": [
    {
     "data": {
      "text/plain": [
       "(5771, 160)"
      ]
     },
     "execution_count": 19,
     "metadata": {},
     "output_type": "execute_result"
    }
   ],
   "source": [
    "P40.shape"
   ]
  },
  {
   "cell_type": "code",
   "execution_count": 20,
   "id": "aa80a2b5",
   "metadata": {},
   "outputs": [
    {
     "data": {
      "text/plain": [
       "<matplotlib.contour.QuadContourSet at 0x7f6b03bf5860>"
      ]
     },
     "execution_count": 20,
     "metadata": {},
     "output_type": "execute_result"
    },
    {
     "data": {
      "image/png": "[encoded data removed]",
      "text/plain": [
       "<Figure size 432x288 with 1 Axes>"
      ]
     },
     "metadata": {
      "needs_background": "light"
     },
     "output_type": "display_data"
    }
   ],
   "source": [
    "plt.contourf(P40[2768:5768:12])"
   ]
  },
  {
   "cell_type": "code",
   "execution_count": 25,
   "id": "990b0809",
   "metadata": {},
   "outputs": [],
   "source": [
    "ss = np.nanmean(P40[2768:5768:12],axis=0)"
   ]
  },
  {
   "cell_type": "code",
   "execution_count": 26,
   "id": "dd551e2e",
   "metadata": {},
   "outputs": [],
   "source": [
    "hua = P40[2768:5768:12] -ss"
   ]
  },
  {
   "cell_type": "code",
   "execution_count": 21,
   "id": "b082915d",
   "metadata": {},
   "outputs": [],
   "source": [
    "A = np.arange(250)\n",
    "#B = lont\n",
    "B = np.arange(160)\n",
    "xx, yy = np.meshgrid(B, A)"
   ]
  },
  {
   "cell_type": "code",
   "execution_count": 33,
   "id": "078379c3",
   "metadata": {},
   "outputs": [
    {
     "ename": "SyntaxError",
     "evalue": "invalid character in identifier (<ipython-input-33-1b818f504fbf>, line 3)",
     "output_type": "error",
     "traceback": [
      "\u001b[0;36m  File \u001b[0;32m\"<ipython-input-33-1b818f504fbf>\"\u001b[0;36m, line \u001b[0;32m3\u001b[0m\n\u001b[0;31m    lev_cmap = nice_cmap([1,10,20,30,40,50,60,70,80,100,110,120,140,150,170,190,210,230,240，250])\u001b[0m\n\u001b[0m                                                                                              ^\u001b[0m\n\u001b[0;31mSyntaxError\u001b[0m\u001b[0;31m:\u001b[0m invalid character in identifier\n"
     ]
    }
   ],
   "source": [
    "nice_cmap=plt.get_cmap('seismic')\n",
    "#nice_cmap=sns.diverging_palette(245, 15, n=13,as_cmap=True)\n",
    "lev_cmap = nice_cmap([1,10,20,30,40,50,60,70,80,100,110,120,140,150,170,190,210,230,240，250]) \n",
    "#lev_cmap = nice_cmap([1,30,50,70,100,130,140,150,160,170,180,190,210,230,240])\n",
    "#new_cmap = cols.ListedColormap(lev_cmap,\"praj_cmap\")\n",
    "new_cmap = cols.ListedColormap(lev_cmap,\"seismic\")\n",
    "nice_levels2 = [2000,2500,3000,3500,4000]\n",
    "#new_cmap = cols.ListedColormap(lev_cmap,\"praj_cmap\")\n",
    "nice_levels = [-100,-80,-60,-40,-20,0,20,40,60,80,100]\n",
    "norm = mpl.colors.BoundaryNorm(nice_levels, new_cmap.N)"
   ]
  },
  {
   "cell_type": "code",
   "execution_count": 34,
   "id": "c6dea2c1",
   "metadata": {},
   "outputs": [
    {
     "name": "stderr",
     "output_type": "stream",
     "text": [
      "/scratch/user/xiliangdiao/.conda/envs/DIAO/lib/python3.6/site-packages/ipykernel_launcher.py:12: UserWarning: The following kwargs were not used by contour: 'spacing'\n",
      "  if sys.path[0] == '':\n"
     ]
    },
    {
     "data": {
      "text/plain": [
       "Text(0.5, 1.0, 'LR-PI')"
      ]
     },
     "execution_count": 34,
     "metadata": {},
     "output_type": "execute_result"
    },
    {
     "data": {
      "image/png": "[encoded data removed]",
      "text/plain": [
       "<Figure size 1500x1000 with 2 Axes>"
      ]
     },
     "metadata": {
      "needs_background": "light"
     },
     "output_type": "display_data"
    }
   ],
   "source": [
    "# plot the result\n",
    "my_font = {'fontname':'Cambria', 'size':'6'}\n",
    "##################################################################\n",
    "fig = plt.figure(figsize=(15,10), dpi=100)\n",
    "################################################################\n",
    "ax1 = fig.add_axes([0.5, 0.1, 0.35, 0.8],\n",
    "                    xticklabels=[])\n",
    "\n",
    "#ax0 = fig.add_axes()\n",
    "my_font = {'fontname':'Cambria', 'size':'16'}\n",
    "im = ax1.contourf(xx, yy, hua/10,cmap = new_cmap,norm =norm,spacing = 'uniform',\\\n",
    "                  levels = nice_levels)#,extend='max')\n",
    "\n",
    "im.cmap.set_over('white')\n",
    "\n",
    "\n",
    "\n",
    "cbar = fig.colorbar(im, ax=ax1,ticks=nice_levels)\n",
    "cbar.ax.tick_params(labelsize=20)\n",
    "cbar.set_label('(%)', **my_font)\n",
    "plt.xticks(range(4,53,8), ['36$^\\circ$W','27$^\\circ$W','18$^\\circ$W','9$^\\circ$W', '0$^\\circ$W', '9$^\\circ$E', '18$^\\circ$E'],**my_font)\n",
    "#plt.yticks(range(0,86,10), ['1920', '1930','1940', '1950','1960','1970','1980', '1990','2000','2010'],**my_font)\n",
    "plt.xticks(rotation = 45)\n",
    "plt.yticks(range(0,251,50), ['1850','1900', '1950','2000', '2050','2100','450','500'],**my_font)\n",
    "plt.xlabel('Longtitude',**my_font)\n",
    "#plt.ylabel('Years',**my_font)\n",
    "ax1.set_title('LR-PI',fontsize = 25)"
   ]
  },
  {
   "cell_type": "code",
   "execution_count": null,
   "id": "cf79cab2",
   "metadata": {},
   "outputs": [],
   "source": []
  },
  {
   "cell_type": "code",
   "execution_count": null,
   "id": "7f1c69d9",
   "metadata": {},
   "outputs": [],
   "source": []
  },
  {
   "cell_type": "code",
   "execution_count": null,
   "id": "fc8451ad",
   "metadata": {},
   "outputs": [],
   "source": []
  }
 ],
 "metadata": {
  "kernelspec": {
   "display_name": "Python 3",
   "language": "python",
   "name": "python3"
  },
  "language_info": {
   "codemirror_mode": {
    "name": "ipython",
    "version": 3
   },
   "file_extension": ".py",
   "mimetype": "text/x-python",
   "name": "python",
   "nbconvert_exporter": "python",
   "pygments_lexer": "ipython3",
   "version": "3.6.10"
  }
 },
 "nbformat": 4,
 "nbformat_minor": 5
}
