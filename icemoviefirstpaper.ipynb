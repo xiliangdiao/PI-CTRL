{
 "cells": [
  {
   "cell_type": "code",
   "execution_count": 1,
   "id": "157864b0",
   "metadata": {},
   "outputs": [
    {
     "ename": "FileNotFoundError",
     "evalue": "[Errno 2] No such file or directory: b'/ihesp/user/xiliangdiao/data/ihespdata/ice500/cmpr_B.E.13.B1850C5.ne120_t12.sehires38.003.sunway_02.cice.h.0331-09.aice.nc'",
     "output_type": "error",
     "traceback": [
      "\u001b[0;31m---------------------------------------------------------------------------\u001b[0m",
      "\u001b[0;31mFileNotFoundError\u001b[0m                         Traceback (most recent call last)",
      "\u001b[0;32m<ipython-input-1-ef5197614264>\u001b[0m in \u001b[0;36m<module>\u001b[0;34m\u001b[0m\n\u001b[1;32m     19\u001b[0m     \u001b[0;32mfor\u001b[0m \u001b[0mmm\u001b[0m \u001b[0;32min\u001b[0m \u001b[0mmonths\u001b[0m\u001b[0;34m:\u001b[0m\u001b[0;34m\u001b[0m\u001b[0;34m\u001b[0m\u001b[0m\n\u001b[1;32m     20\u001b[0m         \u001b[0;31m#data=nc.Dataset('/ihesp/user/xiliangdiao/data/ihespdata/ice300/B.E.13.B1850C5.ne120_t12.sehires38.003.sunway_02.cice.h.'+yy+'-'+mm +'.aice.nc')\u001b[0m\u001b[0;34m\u001b[0m\u001b[0;34m\u001b[0m\u001b[0;34m\u001b[0m\u001b[0m\n\u001b[0;32m---> 21\u001b[0;31m         \u001b[0mdata\u001b[0m\u001b[0;34m=\u001b[0m\u001b[0mnc\u001b[0m\u001b[0;34m.\u001b[0m\u001b[0mDataset\u001b[0m\u001b[0;34m(\u001b[0m\u001b[0;34m'/ihesp/user/xiliangdiao/data/ihespdata/ice500/cmpr_B.E.13.B1850C5.ne120_t12.sehires38.003.sunway_02.cice.h.'\u001b[0m\u001b[0;34m+\u001b[0m\u001b[0myy\u001b[0m\u001b[0;34m+\u001b[0m\u001b[0;34m'-'\u001b[0m\u001b[0;34m+\u001b[0m\u001b[0mmm\u001b[0m \u001b[0;34m+\u001b[0m\u001b[0;34m'.aice.nc'\u001b[0m\u001b[0;34m)\u001b[0m\u001b[0;34m\u001b[0m\u001b[0;34m\u001b[0m\u001b[0m\n\u001b[0m\u001b[1;32m     22\u001b[0m         \u001b[0mplotvar\u001b[0m \u001b[0;34m=\u001b[0m \u001b[0mdata\u001b[0m\u001b[0;34m.\u001b[0m\u001b[0mvariables\u001b[0m\u001b[0;34m[\u001b[0m\u001b[0;34m'aice'\u001b[0m\u001b[0;34m]\u001b[0m\u001b[0;34m[\u001b[0m\u001b[0;36m0\u001b[0m\u001b[0;34m,\u001b[0m\u001b[0;34m:\u001b[0m\u001b[0;34m,\u001b[0m\u001b[0;34m:\u001b[0m\u001b[0;34m]\u001b[0m\u001b[0;34m\u001b[0m\u001b[0;34m\u001b[0m\u001b[0m\n\u001b[1;32m     23\u001b[0m         \u001b[0mlont\u001b[0m \u001b[0;34m=\u001b[0m \u001b[0mdata\u001b[0m\u001b[0;34m.\u001b[0m\u001b[0mvariables\u001b[0m\u001b[0;34m[\u001b[0m\u001b[0;34m'lont_bounds'\u001b[0m\u001b[0;34m]\u001b[0m\u001b[0;34m[\u001b[0m\u001b[0;34m:\u001b[0m\u001b[0;34m,\u001b[0m\u001b[0;34m:\u001b[0m\u001b[0;34m,\u001b[0m\u001b[0;36m0\u001b[0m\u001b[0;34m]\u001b[0m\u001b[0;34m\u001b[0m\u001b[0;34m\u001b[0m\u001b[0m\n",
      "\u001b[0;32mnetCDF4/_netCDF4.pyx\u001b[0m in \u001b[0;36mnetCDF4._netCDF4.Dataset.__init__\u001b[0;34m()\u001b[0m\n",
      "\u001b[0;32mnetCDF4/_netCDF4.pyx\u001b[0m in \u001b[0;36mnetCDF4._netCDF4._ensure_nc_success\u001b[0;34m()\u001b[0m\n",
      "\u001b[0;31mFileNotFoundError\u001b[0m: [Errno 2] No such file or directory: b'/ihesp/user/xiliangdiao/data/ihespdata/ice500/cmpr_B.E.13.B1850C5.ne120_t12.sehires38.003.sunway_02.cice.h.0331-09.aice.nc'"
     ]
    }
   ],
   "source": [
    "# first plot\n",
    "\n",
    "import netCDF4 as nc\n",
    "import matplotlib.pyplot as plt\n",
    "from matplotlib.colors import from_levels_and_colors\n",
    "import numpy as np\n",
    "from matplotlib import animation\n",
    "from matplotlib.colors import BoundaryNorm\n",
    "import matplotlib.colors as cols\n",
    "import matplotlib as mpl\n",
    "from mpl_toolkits.basemap import Basemap\n",
    "from matplotlib import ticker, cm\n",
    "import seaborn as sns\n",
    "\n",
    "months = [f\"{x:02d}\" for x in range(9,10)]\n",
    "years = [f\"{x:04d}\" for x in range(331,500)]\n",
    "i =181\n",
    "for yy in years:\n",
    "    for mm in months:\n",
    "        #data=nc.Dataset('/ihesp/user/xiliangdiao/data/ihespdata/ice300/B.E.13.B1850C5.ne120_t12.sehires38.003.sunway_02.cice.h.'+yy+'-'+mm +'.aice.nc')\n",
    "        data=nc.Dataset('/ihesp/user/xiliangdiao/data/ihespdata/ice500/cmpr_B.E.13.B1850C5.ne120_t12.sehires38.003.sunway_02.cice.h.'+yy+'-'+mm +'.aice.nc')\n",
    "        plotvar = data.variables['aice'][0,:,:]\n",
    "        lont = data.variables['lont_bounds'][:,:,0]\n",
    "        latt = data.variables['latt_bounds'][:,:,0]\n",
    "\n",
    "        #################################################################\n",
    "        nice_cmap=plt.get_cmap('Blues')\n",
    "        lev_cmap = nice_cmap([250,240,230,220,210,190,180,170,150,130,110,100,90,80,70,60,50,40,30,20,10,0])\n",
    "        new_cmap = cols.ListedColormap(lev_cmap,\"Blues\")\n",
    "        #nice_levels = [0,5,10,15,20,25,30,35,40,45,50,55,60,65,70,75,80,85,90,95,100]\n",
    "        nice_levels = [0,10,20,30,40,50,60,70,80,90,100]\n",
    "        norm = mpl.colors.BoundaryNorm(nice_levels, new_cmap.N)\n",
    "        #################################################################\n",
    "        #********************************************************************\n",
    "        #********************************************************************\n",
    "        plt.figure(figsize=(25,20))\n",
    "        my_font = {'fontname':'Cambria', 'size':'40'}\n",
    "        # set the mapping range\n",
    "        map = Basemap(projection='aeqd', lat_0 = -90, lon_0 = 0,area_thresh = 100,\\\n",
    "                      #width = 10000000,height = 15000000,resolution ='h')     \n",
    "                      width = 8900000,height = 8900000,resolution ='h') \n",
    "        map.drawcoastlines()\n",
    "        map.fillcontinents(color = 'lightgrey')\n",
    "        map.drawmapboundary(color='black')\n",
    " \n",
    "        map.drawparallels(np.arange(-90,91,5),labels=[1,0,0,0],**my_font)\n",
    "        map.drawmeridians(np.arange(-180,180,10),labels=[0,0,1,0],**my_font)\n",
    "\n",
    "        x,y=map(lont,latt)\n",
    "        CP = map.contourf(x,y,plotvar,range(0,100),cmap = new_cmap,norm =norm,levels = nice_levels)\n",
    "\n",
    "\n",
    "        #CS=map.contour(x,y,plotvar2,[0.1,0.3],colors = 'green', linestyles = 'solid',linewidths=2)\n",
    "        #plt.clabel(CS,fontsize=30,fmt='%1.1f')\n",
    "\n",
    "        cbar =map.colorbar(CP,ticks = nice_levels)\n",
    "        cbar.ax.tick_params(labelsize=45) \n",
    "        cbar.set_label('(%)', **my_font)\n",
    "        i= i+1\n",
    "        #plt.suptitle('SEA ICE Thickness  '+yy+'-'+mm,**my_font)\n",
    "        plt.xlabel('Sea Ice Concentration  Year--'+yy+'--September',**my_font)\n",
    "        # it is important to save the images in a very sequential manner or ffmpeg will not work !!!\n",
    "        #plt.savefig('aice'+y +'-' + m+ '.png')\n",
    "        plt.savefig(\"/scratch/user/xiliangdiao/figures/videoicethick/PSP_%04d.png\"%(i))"
   ]
  },
  {
   "cell_type": "code",
   "execution_count": null,
   "id": "79d6a004",
   "metadata": {},
   "outputs": [],
   "source": []
  }
 ],
 "metadata": {
  "kernelspec": {
   "display_name": "Python 3",
   "language": "python",
   "name": "python3"
  },
  "language_info": {
   "codemirror_mode": {
    "name": "ipython",
    "version": 3
   },
   "file_extension": ".py",
   "mimetype": "text/x-python",
   "name": "python",
   "nbconvert_exporter": "python",
   "pygments_lexer": "ipython3",
   "version": "3.6.10"
  }
 },
 "nbformat": 4,
 "nbformat_minor": 5
}
