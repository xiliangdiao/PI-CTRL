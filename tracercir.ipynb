{
 "cells": [
  {
   "cell_type": "code",
   "execution_count": 1,
   "metadata": {},
   "outputs": [
    {
     "name": "stderr",
     "output_type": "stream",
     "text": [
      "/scratch/user/xiliangdiao/.conda/envs/python3/lib/python3.6/site-packages/ipykernel_launcher.py:43: MatplotlibDeprecationWarning: \n",
      "The dedent function was deprecated in Matplotlib 3.1 and will be removed in 3.3. Use inspect.cleandoc instead.\n",
      "/scratch/user/xiliangdiao/.conda/envs/python3/lib/python3.6/site-packages/ipykernel_launcher.py:54: UserWarning: The following kwargs were not used by contour: 'spacing'\n",
      "findfont: Font family ['Cambria'] not found. Falling back to DejaVu Sans.\n",
      "/scratch/user/xiliangdiao/.conda/envs/python3/lib/python3.6/site-packages/ipykernel_launcher.py:39: RuntimeWarning: More than 20 figures have been opened. Figures created through the pyplot interface (`matplotlib.pyplot.figure`) are retained until explicitly closed and may consume too much memory. (To control this warning, see the rcParam `figure.max_open_warning`).\n"
     ]
    }
   ],
   "source": [
    "\n",
    "import netCDF4 as nc\n",
    "import matplotlib.pyplot as plt\n",
    "from matplotlib.colors import from_levels_and_colors\n",
    "import numpy as np\n",
    "from matplotlib import animation\n",
    "from matplotlib.colors import BoundaryNorm\n",
    "import matplotlib.colors as cols\n",
    "import matplotlib as mpl\n",
    "from mpl_toolkits.basemap import Basemap\n",
    "from matplotlib import ticker, cm\n",
    "import seaborn as sns\n",
    "\n",
    "\n",
    "\n",
    "months = [f\"{x:02d}\" for x in range(1,13)]\n",
    "years = [f\"{x:04d}\" for x in range(141,181)]\n",
    "i =0\n",
    "for yy in years:\n",
    "    for mm in months:\n",
    "        data=nc.Dataset('/ihesp/xiliangdiao/ihespdata/ocn1/B.E.13.B1850C5.ne120_t12.sehires38.003.sunway_02.pop.h.'+yy+'-'+mm +'.IAGE.nc')\n",
    "        plotvar = data.variables['IAGE'][0,:,:]\n",
    "        lont = data.variables['TLONG']\n",
    "        latt = data.variables['TLAT']\n",
    "        lont = lont[:,:]\n",
    "        latt = latt[:,:]\n",
    "        plotvar = plotvar[15,:,:]\n",
    "\n",
    "        #plotvar[plotvar <0] = np.nan\n",
    "        my_font = {'fontname':'Cambria', 'size':'40'}\n",
    "        # Pick some of the nicer colors from the palette...\n",
    "        nice_cmap=sns.diverging_palette(245, 15, n=12,as_cmap=True)\n",
    "        #nice_cmap=sns.diverging_palette(245, 10, n=10,as_cmap=True)\n",
    "        lev_cmap = nice_cmap([0,50,100,170,210,230]) \n",
    "        new_cmap = cols.ListedColormap(lev_cmap,\"praj_cmap\")\n",
    "        nice_levels = [20,40,60,80,100,120,140,160]\n",
    "        norm = mpl.colors.BoundaryNorm(nice_levels, new_cmap.N)\n",
    "        #********************************************************************\n",
    "\n",
    "        plt.figure(figsize=(25,20))\n",
    "        #my_font = {'fontname':'Cambria', 'size':'40'}\n",
    "        # set the mapping range\n",
    "        map = Basemap(projection='aeqd', lat_0 = -90, lon_0 = 0,area_thresh = 100,\\\n",
    "                     width = 8900000,height = 8900000,resolution ='h') \n",
    "        map.drawcoastlines()\n",
    "        map.fillcontinents(color = 'lightgrey')\n",
    "        map.drawmapboundary(color='black')\n",
    " \n",
    "        map.drawparallels(np.arange(-90,91,5),labels=[1,0,0,0],**my_font)\n",
    "        map.drawmeridians(np.arange(-180,180,10),labels=[0,0,1,0],**my_font)\n",
    "\n",
    "        x,y=map(lont,latt)\n",
    "        #CP = map.contourf(x,y,plotvar,cmap = new_cmap)\n",
    "\n",
    "        CP = map.contourf(x,y,plotvar,spacing = 'uniform',levels = nice_levels,extend='both')\n",
    "        #for c in CP.collections:\n",
    "        #c.set_edgecolor(\"face\")\n",
    "#CS=map.contour(x,y,plotvar,[0.1,0.2],colors = 'b', linestyles = 'solid',linewidths=3)\n",
    "#CS=map.contour(x,y,plotvar,colors = 'r', linestyles = 'solid',linewidths=1)\n",
    "#plt.clabel(CS, inline=0.1, fontsize=30)\n",
    "        CP.cmap.set_over('yellow')\n",
    "        CP.cmap.set_under('black')\n",
    "        cbar =map.colorbar(CP,extend='both',extendfrac='auto')\n",
    "#cbar =map.colorbar(CP)\n",
    "        cbar.ax.tick_params(labelsize=45) \n",
    "        cbar.set_label('(years)', **my_font)\n",
    "        plt.xlabel(\"Time 0171-09 (depth = 150m)\"+yy+'-'+mm,**my_font)\n",
    "\n",
    "        \n",
    "        i= i+1\n",
    "\n",
    "        plt.savefig(\"/scratch/user/xiliangdiao/plot/video150/PSP_%04d.png\"%(i))"
   ]
  },
  {
   "cell_type": "code",
   "execution_count": null,
   "metadata": {},
   "outputs": [],
   "source": []
  }
 ],
 "metadata": {
  "kernelspec": {
   "display_name": "Python 3",
   "language": "python",
   "name": "python3"
  },
  "language_info": {
   "codemirror_mode": {
    "name": "ipython",
    "version": 3
   },
   "file_extension": ".py",
   "mimetype": "text/x-python",
   "name": "python",
   "nbconvert_exporter": "python",
   "pygments_lexer": "ipython3",
   "version": "3.6.9"
  }
 },
 "nbformat": 4,
 "nbformat_minor": 2
}
