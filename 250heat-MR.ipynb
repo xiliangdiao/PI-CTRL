{
 "cells": [
  {
   "cell_type": "code",
   "execution_count": null,
   "metadata": {},
   "outputs": [],
   "source": [
    "import netCDF4 as nc\n",
    "import matplotlib.pyplot as plt\n",
    "from matplotlib.colors import from_levels_and_colors\n",
    "import numpy as np\n",
    "from matplotlib import animation\n",
    "from matplotlib.colors import BoundaryNorm\n",
    "import matplotlib.colors as cols\n",
    "import matplotlib as mpl\n",
    "from mpl_toolkits.basemap import Basemap\n",
    "from matplotlib import ticker, cm\n",
    "import seaborn as sns"
   ]
  },
  {
   "cell_type": "code",
   "execution_count": null,
   "metadata": {},
   "outputs": [],
   "source": [
    "months = [f\"{x:02d}\" for x in range(7,10)]\n",
    "years = [f\"{x:04d}\" for x in range(250,330)]\n",
    "i =0\n",
    "result = np.zeros((240,62))"
   ]
  },
  {
   "cell_type": "code",
   "execution_count": null,
   "metadata": {},
   "outputs": [],
   "source": [
    "for yy in years:\n",
    "    for mm in months:\n",
    "        data=nc.Dataset('/ihesp/user/xiliangdiao/ihespdata/ocn300/B.E.13.B1850C5.ne120_t12.sehires38.003.sunway_02.pop.h.'+yy+'-'+mm +'.TEMP.nc')\n",
    "        plotvar = data.variables['TEMP'][0,:,:]\n",
    "        lont = data.variables['TLONG']\n",
    "        latt = data.variables['TLAT']\n",
    "        #lont = lont[250:344,1100:1300]\n",
    "        #latt = latt[250:344,1100:1300]\n",
    "        plotvar = plotvar[:,250:344,700:1000]\n",
    "        plotvar[plotvar == -1.0] = np.nan\n",
    "        aveplot = np.nanmean(plotvar,axis=1)\n",
    "        aveplot = np.nanmean(aveplot,axis=1)\n",
    "        #aveplot = plotvar.mean(axis=1)\n",
    "        #aveplot = aveplot.mean(axis=1)\n",
    "        result[i] = aveplot\n",
    "        \n",
    "        i = i + 1\n",
    "#********************************************************************"
   ]
  },
  {
   "cell_type": "code",
   "execution_count": null,
   "metadata": {},
   "outputs": [],
   "source": [
    "data1=nc.Dataset('/ihesp/user/xiliangdiao/ihespdata/ocn300/depth.nc')\n",
    "C = data1.variables['z_t'][:]/100"
   ]
  },
  {
   "cell_type": "code",
   "execution_count": null,
   "metadata": {},
   "outputs": [],
   "source": []
  }
 ],
 "metadata": {
  "kernelspec": {
   "display_name": "Python 3",
   "language": "python",
   "name": "python3"
  },
  "language_info": {
   "codemirror_mode": {
    "name": "ipython",
    "version": 3
   },
   "file_extension": ".py",
   "mimetype": "text/x-python",
   "name": "python",
   "nbconvert_exporter": "python",
   "pygments_lexer": "ipython3",
   "version": "3.6.6"
  }
 },
 "nbformat": 4,
 "nbformat_minor": 2
}
